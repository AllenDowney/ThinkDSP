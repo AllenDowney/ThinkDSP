{
 "cells": [
  {
   "cell_type": "markdown",
   "metadata": {},
   "source": [
    "## ThinkDSP\n",
    "\n",
    "This notebook contains an implementation of an algorithm to generate pink noise.\n",
    "\n",
    "Copyright 2015 Allen Downey\n",
    "\n",
    "License: [Creative Commons Attribution 4.0 International](http://creativecommons.org/licenses/by/4.0/)"
   ]
  },
  {
   "cell_type": "code",
   "execution_count": 1,
   "metadata": {},
   "outputs": [],
   "source": [
    "# Get thinkdsp.py\n",
    "\n",
    "import os\n",
    "\n",
    "if not os.path.exists('thinkdsp.py'):\n",
    "    !wget https://github.com/AllenDowney/ThinkDSP/raw/master/code/thinkdsp.py"
   ]
  },
  {
   "cell_type": "code",
   "execution_count": 2,
   "metadata": {},
   "outputs": [],
   "source": [
    "import numpy as np\n",
    "import matplotlib.pyplot as plt\n",
    "\n",
    "from thinkdsp import decorate"
   ]
  },
  {
   "cell_type": "markdown",
   "metadata": {},
   "source": [
    "## Generating pink noise\n",
    "\n",
    "The Voss algorithm is described in this paper:\n",
    "\n",
    "Voss, R. F., & Clarke, J. (1978). \"1/f noise\" in music: Music from 1/f noise\". *Journal of the Acoustical Society of America* 63: 258–263. Bibcode:1978ASAJ...63..258V. doi:10.1121/1.381721.\n",
    "\n",
    "And presented by Martin Gardner in this *Scientific American* article:\n",
    "\n",
    "Gardner, M. (1978). \"Mathematical Games—White and brown music, fractal curves and one-over-f fluctuations\". *Scientific American* 238: 16–32.\n",
    "\n",
    "McCartney suggested an improvement here:\n",
    "\n",
    "http://www.firstpr.com.au/dsp/pink-noise/\n",
    "\n",
    "And Trammell proposed a stochastic version here:\n",
    "\n",
    "http://home.earthlink.net/~ltrammell/tech/pinkalg.htm"
   ]
  },
  {
   "cell_type": "markdown",
   "metadata": {},
   "source": [
    "The fundamental idea of this algorithm is to add up several sequences of random numbers that get updated at different rates.  The first source should get updated at every time step; the second source every other time step, the third source ever fourth step, and so on.\n",
    "\n",
    "In the original algorithm, the updates are evenly spaced.  In the stochastic version, they are randomly spaced.\n",
    "\n",
    "My implementation starts with an array with one row per timestep and one column for each of the white noise sources.  Initially, the first row and the first column are random and the rest of the array is Nan."
   ]
  },
  {
   "cell_type": "code",
   "execution_count": 3,
   "metadata": {
    "jupyter": {
     "outputs_hidden": false
    }
   },
   "outputs": [
    {
     "data": {
      "text/plain": [
       "array([[0.54878587, 0.80870645, 0.64066175, 0.63762133, 0.36665185],\n",
       "       [0.58319314,        nan,        nan,        nan,        nan],\n",
       "       [0.84357289,        nan,        nan,        nan,        nan],\n",
       "       [0.18418847,        nan,        nan,        nan,        nan],\n",
       "       [0.2622209 ,        nan,        nan,        nan,        nan],\n",
       "       [0.2106998 ,        nan,        nan,        nan,        nan]])"
      ]
     },
     "execution_count": 3,
     "metadata": {},
     "output_type": "execute_result"
    }
   ],
   "source": [
    "nrows = 100\n",
    "ncols = 5\n",
    "\n",
    "array = np.full((nrows, ncols), np.nan)\n",
    "array[0, :] = np.random.random(ncols)\n",
    "array[:, 0] = np.random.random(nrows)\n",
    "array[0:6]"
   ]
  },
  {
   "cell_type": "markdown",
   "metadata": {},
   "source": [
    "The next step is to choose the locations where the random sources change.  If the number of rows is $n$, the number of changes in the first column is $n$, the number in the second column is $n/2$ on average, the number in the third column is $n/4$ on average, etc.\n",
    "\n",
    "So the total number of changes in the matrix is $2n$ on average; since $n$ of those are in the first column, the other $n$ are in the rest of the matrix.\n",
    "\n",
    "To place the remaining $n$ changes, we generate random columns from a geometric distribution with $p=0.5$.  If we generate a value out of bounds, we set it to 0 (so the first column gets the extras)."
   ]
  },
  {
   "cell_type": "code",
   "execution_count": 4,
   "metadata": {
    "jupyter": {
     "outputs_hidden": false
    }
   },
   "outputs": [
    {
     "data": {
      "text/plain": [
       "array([2, 2, 4, 1, 2, 1, 2, 1, 3, 3, 1, 1, 2, 2, 4, 1, 4, 2, 1, 4, 2, 1,\n",
       "       2, 1, 2, 2, 1, 4, 1, 1, 0, 1, 1, 1, 1, 1, 2, 0, 1, 4, 3, 1, 2, 1,\n",
       "       3, 1, 1, 4, 1, 2, 1, 1, 3, 2, 1, 0, 1, 1, 1, 2, 4, 1, 3, 1, 4, 2,\n",
       "       2, 2, 1, 3, 3, 1, 1, 1, 1, 2, 2, 3, 2, 0, 3, 1, 2, 1, 1, 2, 1, 3,\n",
       "       2, 4, 1, 1, 1, 3, 4, 1, 1, 1, 2, 1])"
      ]
     },
     "execution_count": 4,
     "metadata": {},
     "output_type": "execute_result"
    }
   ],
   "source": [
    "p = 0.5\n",
    "n = nrows\n",
    "cols = np.random.geometric(p, n)\n",
    "cols[cols >= ncols] = 0\n",
    "cols"
   ]
  },
  {
   "cell_type": "markdown",
   "metadata": {},
   "source": [
    "Within each column, we choose a random row from a uniform distribution.  Ideally we would choose without replacement, but it is faster and easier to choose with replacement, and I doubt it matters."
   ]
  },
  {
   "cell_type": "code",
   "execution_count": 5,
   "metadata": {
    "jupyter": {
     "outputs_hidden": false
    }
   },
   "outputs": [
    {
     "data": {
      "text/plain": [
       "array([79, 54, 81, 56, 89, 39, 70, 24, 47, 68, 18, 17, 84, 40, 35, 48,  5,\n",
       "       46, 98, 27, 36, 42, 28, 20, 22,  7, 49, 56, 59, 71, 78, 96, 64, 24,\n",
       "       28, 33, 77,  7, 18, 54,  3, 29, 71, 84, 54, 55, 66, 33, 13, 42, 66,\n",
       "       41, 64, 81, 19, 97, 66, 28, 55, 14, 73, 45, 39, 48, 85, 72, 50, 85,\n",
       "       19,  0, 35, 98,  0, 77, 33, 98, 34, 13, 50, 99, 73, 15,  7, 52, 55,\n",
       "       36, 95, 24, 45, 10,  0, 13, 42, 86, 26, 60,  9, 97, 36, 70])"
      ]
     },
     "execution_count": 5,
     "metadata": {},
     "output_type": "execute_result"
    }
   ],
   "source": [
    "rows = np.random.randint(nrows, size=n)\n",
    "rows"
   ]
  },
  {
   "cell_type": "markdown",
   "metadata": {},
   "source": [
    "Now we can put random values at rach of the change points."
   ]
  },
  {
   "cell_type": "code",
   "execution_count": 6,
   "metadata": {
    "jupyter": {
     "outputs_hidden": false
    }
   },
   "outputs": [
    {
     "data": {
      "text/plain": [
       "array([[0.54878587, 0.51221941, 0.64066175, 0.15579406, 0.36665185],\n",
       "       [0.58319314,        nan,        nan,        nan,        nan],\n",
       "       [0.84357289,        nan,        nan,        nan,        nan],\n",
       "       [0.18418847,        nan,        nan, 0.38864791,        nan],\n",
       "       [0.2622209 ,        nan,        nan,        nan,        nan],\n",
       "       [0.2106998 ,        nan,        nan,        nan, 0.99871071]])"
      ]
     },
     "execution_count": 6,
     "metadata": {},
     "output_type": "execute_result"
    }
   ],
   "source": [
    "array[rows, cols] = np.random.random(n)\n",
    "array[0:6]"
   ]
  },
  {
   "cell_type": "markdown",
   "metadata": {},
   "source": [
    "Next we want to do a zero-order hold to fill in the NaNs.  NumPy doesn't do that, but Pandas does.  So I'll create a DataFrame:"
   ]
  },
  {
   "cell_type": "code",
   "execution_count": 7,
   "metadata": {
    "jupyter": {
     "outputs_hidden": false
    }
   },
   "outputs": [
    {
     "data": {
      "text/html": [
       "<div>\n",
       "<style scoped>\n",
       "    .dataframe tbody tr th:only-of-type {\n",
       "        vertical-align: middle;\n",
       "    }\n",
       "\n",
       "    .dataframe tbody tr th {\n",
       "        vertical-align: top;\n",
       "    }\n",
       "\n",
       "    .dataframe thead th {\n",
       "        text-align: right;\n",
       "    }\n",
       "</style>\n",
       "<table border=\"1\" class=\"dataframe\">\n",
       "  <thead>\n",
       "    <tr style=\"text-align: right;\">\n",
       "      <th></th>\n",
       "      <th>0</th>\n",
       "      <th>1</th>\n",
       "      <th>2</th>\n",
       "      <th>3</th>\n",
       "      <th>4</th>\n",
       "    </tr>\n",
       "  </thead>\n",
       "  <tbody>\n",
       "    <tr>\n",
       "      <th>0</th>\n",
       "      <td>0.548786</td>\n",
       "      <td>0.512219</td>\n",
       "      <td>0.640662</td>\n",
       "      <td>0.155794</td>\n",
       "      <td>0.366652</td>\n",
       "    </tr>\n",
       "    <tr>\n",
       "      <th>1</th>\n",
       "      <td>0.583193</td>\n",
       "      <td>NaN</td>\n",
       "      <td>NaN</td>\n",
       "      <td>NaN</td>\n",
       "      <td>NaN</td>\n",
       "    </tr>\n",
       "    <tr>\n",
       "      <th>2</th>\n",
       "      <td>0.843573</td>\n",
       "      <td>NaN</td>\n",
       "      <td>NaN</td>\n",
       "      <td>NaN</td>\n",
       "      <td>NaN</td>\n",
       "    </tr>\n",
       "    <tr>\n",
       "      <th>3</th>\n",
       "      <td>0.184188</td>\n",
       "      <td>NaN</td>\n",
       "      <td>NaN</td>\n",
       "      <td>0.388648</td>\n",
       "      <td>NaN</td>\n",
       "    </tr>\n",
       "    <tr>\n",
       "      <th>4</th>\n",
       "      <td>0.262221</td>\n",
       "      <td>NaN</td>\n",
       "      <td>NaN</td>\n",
       "      <td>NaN</td>\n",
       "      <td>NaN</td>\n",
       "    </tr>\n",
       "  </tbody>\n",
       "</table>\n",
       "</div>"
      ],
      "text/plain": [
       "          0         1         2         3         4\n",
       "0  0.548786  0.512219  0.640662  0.155794  0.366652\n",
       "1  0.583193       NaN       NaN       NaN       NaN\n",
       "2  0.843573       NaN       NaN       NaN       NaN\n",
       "3  0.184188       NaN       NaN  0.388648       NaN\n",
       "4  0.262221       NaN       NaN       NaN       NaN"
      ]
     },
     "execution_count": 7,
     "metadata": {},
     "output_type": "execute_result"
    }
   ],
   "source": [
    "import pandas as pd\n",
    "\n",
    "df = pd.DataFrame(array)\n",
    "df.head()"
   ]
  },
  {
   "cell_type": "markdown",
   "metadata": {},
   "source": [
    "And then use `fillna` along the columns."
   ]
  },
  {
   "cell_type": "code",
   "execution_count": 8,
   "metadata": {
    "jupyter": {
     "outputs_hidden": false
    }
   },
   "outputs": [
    {
     "data": {
      "text/html": [
       "<div>\n",
       "<style scoped>\n",
       "    .dataframe tbody tr th:only-of-type {\n",
       "        vertical-align: middle;\n",
       "    }\n",
       "\n",
       "    .dataframe tbody tr th {\n",
       "        vertical-align: top;\n",
       "    }\n",
       "\n",
       "    .dataframe thead th {\n",
       "        text-align: right;\n",
       "    }\n",
       "</style>\n",
       "<table border=\"1\" class=\"dataframe\">\n",
       "  <thead>\n",
       "    <tr style=\"text-align: right;\">\n",
       "      <th></th>\n",
       "      <th>0</th>\n",
       "      <th>1</th>\n",
       "      <th>2</th>\n",
       "      <th>3</th>\n",
       "      <th>4</th>\n",
       "    </tr>\n",
       "  </thead>\n",
       "  <tbody>\n",
       "    <tr>\n",
       "      <th>0</th>\n",
       "      <td>0.548786</td>\n",
       "      <td>0.512219</td>\n",
       "      <td>0.640662</td>\n",
       "      <td>0.155794</td>\n",
       "      <td>0.366652</td>\n",
       "    </tr>\n",
       "    <tr>\n",
       "      <th>1</th>\n",
       "      <td>0.583193</td>\n",
       "      <td>0.512219</td>\n",
       "      <td>0.640662</td>\n",
       "      <td>0.155794</td>\n",
       "      <td>0.366652</td>\n",
       "    </tr>\n",
       "    <tr>\n",
       "      <th>2</th>\n",
       "      <td>0.843573</td>\n",
       "      <td>0.512219</td>\n",
       "      <td>0.640662</td>\n",
       "      <td>0.155794</td>\n",
       "      <td>0.366652</td>\n",
       "    </tr>\n",
       "    <tr>\n",
       "      <th>3</th>\n",
       "      <td>0.184188</td>\n",
       "      <td>0.512219</td>\n",
       "      <td>0.640662</td>\n",
       "      <td>0.388648</td>\n",
       "      <td>0.366652</td>\n",
       "    </tr>\n",
       "    <tr>\n",
       "      <th>4</th>\n",
       "      <td>0.262221</td>\n",
       "      <td>0.512219</td>\n",
       "      <td>0.640662</td>\n",
       "      <td>0.388648</td>\n",
       "      <td>0.366652</td>\n",
       "    </tr>\n",
       "  </tbody>\n",
       "</table>\n",
       "</div>"
      ],
      "text/plain": [
       "          0         1         2         3         4\n",
       "0  0.548786  0.512219  0.640662  0.155794  0.366652\n",
       "1  0.583193  0.512219  0.640662  0.155794  0.366652\n",
       "2  0.843573  0.512219  0.640662  0.155794  0.366652\n",
       "3  0.184188  0.512219  0.640662  0.388648  0.366652\n",
       "4  0.262221  0.512219  0.640662  0.388648  0.366652"
      ]
     },
     "execution_count": 8,
     "metadata": {},
     "output_type": "execute_result"
    }
   ],
   "source": [
    "filled = df.fillna(method='ffill', axis=0)\n",
    "filled.head()"
   ]
  },
  {
   "cell_type": "markdown",
   "metadata": {},
   "source": [
    "Finally we add up the rows."
   ]
  },
  {
   "cell_type": "code",
   "execution_count": 9,
   "metadata": {
    "jupyter": {
     "outputs_hidden": false
    }
   },
   "outputs": [
    {
     "data": {
      "text/plain": [
       "0    2.224113\n",
       "1    2.258520\n",
       "2    2.518900\n",
       "3    2.092369\n",
       "4    2.170402\n",
       "dtype: float64"
      ]
     },
     "execution_count": 9,
     "metadata": {},
     "output_type": "execute_result"
    }
   ],
   "source": [
    "total = filled.sum(axis=1)\n",
    "total.head()"
   ]
  },
  {
   "cell_type": "markdown",
   "metadata": {},
   "source": [
    "If we put the results into a Wave, here's what it looks like:"
   ]
  },
  {
   "cell_type": "code",
   "execution_count": 10,
   "metadata": {
    "jupyter": {
     "outputs_hidden": false
    }
   },
   "outputs": [
    {
     "data": {
      "image/png": "[encoded data removed]",
      "text/plain": [
       "<Figure size 432x288 with 1 Axes>"
      ]
     },
     "metadata": {
      "needs_background": "light"
     },
     "output_type": "display_data"
    }
   ],
   "source": [
    "from thinkdsp import Wave\n",
    "\n",
    "wave = Wave(total)\n",
    "wave.plot()"
   ]
  },
  {
   "cell_type": "markdown",
   "metadata": {},
   "source": [
    "Here's the whole process in a function:"
   ]
  },
  {
   "cell_type": "code",
   "execution_count": 11,
   "metadata": {},
   "outputs": [],
   "source": [
    "def voss(nrows, ncols=16):\n",
    "    \"\"\"Generates pink noise using the Voss-McCartney algorithm.\n",
    "    \n",
    "    nrows: number of values to generate\n",
    "    rcols: number of random sources to add\n",
    "    \n",
    "    returns: NumPy array\n",
    "    \"\"\"\n",
    "    array = np.full((nrows, ncols), np.nan)\n",
    "    array[0, :] = np.random.random(ncols)\n",
    "    array[:, 0] = np.random.random(nrows)\n",
    "    \n",
    "    # the total number of changes is nrows\n",
    "    n = nrows\n",
    "    cols = np.random.geometric(0.5, n)\n",
    "    cols[cols >= ncols] = 0\n",
    "    rows = np.random.randint(nrows, size=n)\n",
    "    array[rows, cols] = np.random.random(n)\n",
    "\n",
    "    df = pd.DataFrame(array)\n",
    "    df.fillna(method='ffill', axis=0, inplace=True)\n",
    "    total = df.sum(axis=1)\n",
    "\n",
    "    return total.values"
   ]
  },
  {
   "cell_type": "markdown",
   "metadata": {},
   "source": [
    "To test it I'll generate 11025 values:"
   ]
  },
  {
   "cell_type": "code",
   "execution_count": 12,
   "metadata": {
    "jupyter": {
     "outputs_hidden": false
    }
   },
   "outputs": [
    {
     "data": {
      "text/plain": [
       "array([5.3955119 , 5.49020141, 4.82135171, ..., 5.74383027, 6.24352434,\n",
       "       5.75793234])"
      ]
     },
     "execution_count": 12,
     "metadata": {},
     "output_type": "execute_result"
    }
   ],
   "source": [
    "ys = voss(11025)\n",
    "ys"
   ]
  },
  {
   "cell_type": "markdown",
   "metadata": {},
   "source": [
    "And make them into a Wave:"
   ]
  },
  {
   "cell_type": "code",
   "execution_count": 13,
   "metadata": {
    "jupyter": {
     "outputs_hidden": false
    }
   },
   "outputs": [],
   "source": [
    "wave = Wave(ys)\n",
    "wave.unbias()\n",
    "wave.normalize()"
   ]
  },
  {
   "cell_type": "markdown",
   "metadata": {},
   "source": [
    "Here's what it looks like:"
   ]
  },
  {
   "cell_type": "code",
   "execution_count": 14,
   "metadata": {
    "jupyter": {
     "outputs_hidden": false
    }
   },
   "outputs": [
    {
     "data": {
      "image/png": "[encoded data removed]",
      "text/plain": [
       "<Figure size 432x288 with 1 Axes>"
      ]
     },
     "metadata": {
      "needs_background": "light"
     },
     "output_type": "display_data"
    }
   ],
   "source": [
    "wave.plot()\n",
    "decorate(xlabel='Time')"
   ]
  },
  {
   "cell_type": "markdown",
   "metadata": {},
   "source": [
    "As expected, it is more random-walk-like than white noise, but more random looking than red noise.\n",
    "\n",
    "Here's what it sounds like:"
   ]
  },
  {
   "cell_type": "code",
   "execution_count": 15,
   "metadata": {
    "jupyter": {
     "outputs_hidden": false
    }
   },
   "outputs": [
    {
     "data": {
      "text/html": [
       "\n",
       "                <audio  controls=\"controls\" >\n",
       "                    <source src=\"data:audio/wav;base64,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\" type=\"audio/wav\" />\n",
       "                    Your browser does not support the audio element.\n",
       "                </audio>\n",
       "              "
      ],
      "text/plain": [
       "<IPython.lib.display.Audio object>"
      ]
     },
     "execution_count": 15,
     "metadata": {},
     "output_type": "execute_result"
    }
   ],
   "source": [
    "wave.make_audio()"
   ]
  },
  {
   "cell_type": "markdown",
   "metadata": {},
   "source": [
    "And here's the power spectrum:"
   ]
  },
  {
   "cell_type": "code",
   "execution_count": 16,
   "metadata": {
    "jupyter": {
     "outputs_hidden": false
    }
   },
   "outputs": [
    {
     "data": {
      "image/png": "[encoded data removed]",
      "text/plain": [
       "<Figure size 432x288 with 1 Axes>"
      ]
     },
     "metadata": {
      "needs_background": "light"
     },
     "output_type": "display_data"
    }
   ],
   "source": [
    "spectrum = wave.make_spectrum()\n",
    "spectrum.hs[0] = 0\n",
    "spectrum.plot_power()\n",
    "decorate(xlabel='Frequency (Hz)',\n",
    "         xscale='log', \n",
    "         yscale='log')"
   ]
  },
  {
   "cell_type": "markdown",
   "metadata": {},
   "source": [
    "The estimated slope is close to -1."
   ]
  },
  {
   "cell_type": "code",
   "execution_count": 17,
   "metadata": {
    "jupyter": {
     "outputs_hidden": false
    }
   },
   "outputs": [
    {
     "data": {
      "text/plain": [
       "-0.9993534088150459"
      ]
     },
     "execution_count": 17,
     "metadata": {},
     "output_type": "execute_result"
    }
   ],
   "source": [
    "spectrum.estimate_slope().slope"
   ]
  },
  {
   "cell_type": "markdown",
   "metadata": {},
   "source": [
    "We can get a better sense of the average power spectrum by generating a longer sample:"
   ]
  },
  {
   "cell_type": "code",
   "execution_count": 18,
   "metadata": {
    "jupyter": {
     "outputs_hidden": false
    }
   },
   "outputs": [
    {
     "data": {
      "text/plain": [
       "6553600"
      ]
     },
     "execution_count": 18,
     "metadata": {},
     "output_type": "execute_result"
    }
   ],
   "source": [
    "seg_length = 64 * 1024\n",
    "iters = 100\n",
    "wave = Wave(voss(seg_length * iters))\n",
    "len(wave)"
   ]
  },
  {
   "cell_type": "markdown",
   "metadata": {},
   "source": [
    "And using Barlett's method to compute the average."
   ]
  },
  {
   "cell_type": "code",
   "execution_count": 19,
   "metadata": {},
   "outputs": [],
   "source": [
    "from thinkdsp import Spectrum\n",
    "\n",
    "def bartlett_method(wave, seg_length=512, win_flag=True):\n",
    "    \"\"\"Estimates the power spectrum of a noise wave.\n",
    "    \n",
    "    wave: Wave\n",
    "    seg_length: segment length\n",
    "    \"\"\"\n",
    "    # make a spectrogram and extract the spectrums\n",
    "    spectro = wave.make_spectrogram(seg_length, win_flag)\n",
    "    spectrums = spectro.spec_map.values()\n",
    "    \n",
    "    # extract the power array from each spectrum\n",
    "    psds = [spectrum.power for spectrum in spectrums]\n",
    "    \n",
    "    # compute the root mean power (which is like an amplitude)\n",
    "    hs = np.sqrt(sum(psds) / len(psds))\n",
    "    fs = next(iter(spectrums)).fs\n",
    "    \n",
    "    # make a Spectrum with the mean amplitudes\n",
    "    spectrum = Spectrum(hs, fs, wave.framerate)\n",
    "    return spectrum"
   ]
  },
  {
   "cell_type": "code",
   "execution_count": 20,
   "metadata": {
    "jupyter": {
     "outputs_hidden": false
    }
   },
   "outputs": [
    {
     "data": {
      "text/plain": [
       "32769"
      ]
     },
     "execution_count": 20,
     "metadata": {},
     "output_type": "execute_result"
    }
   ],
   "source": [
    "spectrum = bartlett_method(wave, seg_length=seg_length, win_flag=False)\n",
    "spectrum.hs[0] = 0\n",
    "len(spectrum)"
   ]
  },
  {
   "cell_type": "markdown",
   "metadata": {},
   "source": [
    "It's pretty close to a straight line, with some curvature at the highest frequencies."
   ]
  },
  {
   "cell_type": "code",
   "execution_count": 21,
   "metadata": {
    "jupyter": {
     "outputs_hidden": false
    }
   },
   "outputs": [
    {
     "data": {
      "image/png": "[encoded data removed]",
      "text/plain": [
       "<Figure size 432x288 with 1 Axes>"
      ]
     },
     "metadata": {
      "needs_background": "light"
     },
     "output_type": "display_data"
    }
   ],
   "source": [
    "spectrum.plot_power()\n",
    "decorate(xlabel='Frequency (Hz)',\n",
    "                 xscale='log', \n",
    "                 yscale='log')"
   ]
  },
  {
   "cell_type": "markdown",
   "metadata": {},
   "source": [
    "And the slope is close to -1."
   ]
  },
  {
   "cell_type": "code",
   "execution_count": 22,
   "metadata": {
    "jupyter": {
     "outputs_hidden": false
    }
   },
   "outputs": [
    {
     "data": {
      "text/plain": [
       "-1.0016799964612606"
      ]
     },
     "execution_count": 22,
     "metadata": {},
     "output_type": "execute_result"
    }
   ],
   "source": [
    "spectrum.estimate_slope().slope"
   ]
  },
  {
   "cell_type": "code",
   "execution_count": null,
   "metadata": {
    "collapsed": true,
    "jupyter": {
     "outputs_hidden": true
    }
   },
   "outputs": [],
   "source": []
  }
 ],
 "metadata": {
  "kernelspec": {
   "display_name": "Python 3 (ipykernel)",
   "language": "python",
   "name": "python3"
  },
  "language_info": {
   "codemirror_mode": {
    "name": "ipython",
    "version": 3
   },
   "file_extension": ".py",
   "mimetype": "text/x-python",
   "name": "python",
   "nbconvert_exporter": "python",
   "pygments_lexer": "ipython3",
   "version": "3.10.0"
  }
 },
 "nbformat": 4,
 "nbformat_minor": 4
}
