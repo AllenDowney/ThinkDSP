{
 "cells": [
  {
   "cell_type": "markdown",
   "id": "488c9a71",
   "metadata": {
    "tags": [
     "remove-print"
    ]
   },
   "source": [
    "The second edition of *Think DSP* is not for sale yet, but if you would like to support this project, you can [buy me a coffee](https://buymeacoffee.com/allendowney)."
   ]
  },
  {
   "cell_type": "markdown",
   "id": "45a5201d",
   "metadata": {
    "tags": [
     "remove-print"
    ]
   },
   "source": [
    "[Click here to run this notebook on Colab](https://colab.research.google.com/github/AllenDowney/ThinkDSP/blob/v2/nb/chap01.ipynb)."
   ]
  },
  {
   "cell_type": "code",
   "execution_count": 2,
   "id": "942dc5bd",
   "metadata": {
    "tags": [
     "hide-cell",
     "remove-print"
    ]
   },
   "outputs": [],
   "source": [
    "# download thinkdsp.py\n",
    "\n",
    "from os.path import basename, exists\n",
    "\n",
    "def download(url):\n",
    "    filename = basename(url)\n",
    "    if not exists(filename):\n",
    "        from urllib.request import urlretrieve\n",
    "        local, _ = urlretrieve(url, filename)\n",
    "        print('Downloaded ' + local)\n",
    "        \n",
    "download(\"https://github.com/AllenDowney/ThinkDSP/raw/v2/nb/thinkdsp.py\")"
   ]
  },
  {
   "cell_type": "code",
   "execution_count": 3,
   "id": "f21033cb",
   "metadata": {
    "tags": [
     "hide-cell",
     "remove-print"
    ]
   },
   "outputs": [],
   "source": [
    "import pandas as pd\n",
    "import numpy as np\n",
    "import matplotlib.pyplot as plt\n",
    "\n",
    "from thinkdsp import decorate"
   ]
  },
  {
   "cell_type": "markdown",
   "id": "c2bfb64a",
   "metadata": {
    "tags": [
     "remove-print"
    ]
   },
   "source": [
    "[Think DSP: Digital Signal Processing in Python, 2rd Edition](https://allendowney.github.io/ThinkDSP/index.html)\n",
    "\n",
    "Copyright 2024 [Allen B. Downey](https://allendowney.com)\n",
    "\n",
    "License: [Creative Commons Attribution-NonCommercial-ShareAlike 4.0 International](https://creativecommons.org/licenses/by-nc-sa/4.0/)"
   ]
  },
  {
   "cell_type": "markdown",
   "id": "49502533",
   "metadata": {},
   "source": [
    "# Sounds and signals\n",
    "\n",
    "A **signal** represents a quantity that varies in time. That definition\n",
    "is pretty abstract, so let's start with a concrete example: sound. Sound\n",
    "is variation in air pressure. A sound signal represents variations in\n",
    "air pressure over time.\n",
    "\n",
    "A microphone is a device that measures these variations and generates an\n",
    "electrical signal that represents sound. A speaker is a device that\n",
    "takes an electrical signal and produces sound. Microphones and speakers\n",
    "are called **transducers** because they transduce, or convert, signals\n",
    "from one form to another.\n",
    "\n",
    "This book is about signal processing, which includes processes for\n",
    "synthesizing, transforming, and analyzing signals. I will focus on sound\n",
    "signals, but the same methods apply to electronic signals, mechanical\n",
    "vibration, and signals in many other domains.\n",
    "\n",
    "They also apply to signals that vary in space rather than time, like\n",
    "elevation along a hiking trail. And they apply to signals in more than\n",
    "one dimension, like an image, which you can think of as a signal that\n",
    "varies in two-dimensional space. Or a movie, which is a signal that\n",
    "varies in two-dimensional space *and* time.\n",
    "\n",
    "But we start with simple one-dimensional sound.\n",
    "\n",
    "The code for this chapter is in `chap01.ipynb`, which is in the\n",
    "repository for this book (see\n",
    "Section [\\[code\\]](#code){reference-type=\"ref\" reference=\"code\"}). You\n",
    "can also view it at <http://tinyurl.com/thinkdsp01>."
   ]
  },
  {
   "cell_type": "markdown",
   "id": "6c4baefb",
   "metadata": {},
   "source": [
    "## Periodic signals\n",
    "\n",
    "![Segment from a recording of a bell.](figs/sounds1.pdf){height=\"2.5in\"}\n",
    "\n",
    "We'll start with **periodic signals**, which are signals that repeat\n",
    "themselves after some period of time. For example, if you strike a bell,\n",
    "it vibrates and generates sound. If you record that sound and plot the\n",
    "transduced signal, it looks like\n",
    "Figure [\\[fig.sounds1\\]](#fig.sounds1){reference-type=\"ref\"\n",
    "reference=\"fig.sounds1\"}.\n",
    "\n",
    "This signal resembles a **sinusoid**, which means it has the same shape\n",
    "as the trigonometric sine function.\n",
    "\n",
    "You can see that this signal is periodic. I chose the duration to show\n",
    "three full repetitions, also known as **cycles**. The duration of each\n",
    "cycle, called the **period**, is about 2.3 ms.\n",
    "\n",
    "The **frequency** of a signal is the number of cycles per second, which\n",
    "is the inverse of the period. The units of frequency are cycles per\n",
    "second, or **Hertz**, abbreviated \"Hz\". (Strictly speaking, the number\n",
    "of cycles is a dimensionless number, so a Hertz is really a \"per\n",
    "second\").\n",
    "\n",
    "The frequency of this signal is about 439 Hz, slightly lower than 440\n",
    "Hz, which is the standard tuning pitch for orchestral music. The musical\n",
    "name of this note is A, or more specifically, A4. If you are not\n",
    "familiar with \"scientific pitch notation\", the numerical suffix\n",
    "indicates which octave the note is in. A4 is the A above middle C. A5 is\n",
    "one octave higher. See\n",
    "<http://en.wikipedia.org/wiki/Scientific_pitch_notation>.\n",
    "\n",
    "![Segment from a recording of a\n",
    "violin.](figs/sounds2.pdf){height=\"2.5in\"}\n",
    "\n",
    "A tuning fork generates a sinusoid because the vibration of the tines is\n",
    "a form of simple harmonic motion. Most musical instruments produce\n",
    "periodic signals, but the shape of these signals is not sinusoidal. For\n",
    "example, Figure [\\[fig.sounds2\\]](#fig.sounds2){reference-type=\"ref\"\n",
    "reference=\"fig.sounds2\"} shows a segment from a recording of a violin\n",
    "playing Boccherini's String Quintet No. 5 in E, 3rd movement.\n",
    "\n",
    "Again we can see that the signal is periodic, but the shape of the\n",
    "signal is more complex. The shape of a periodic signal is called the\n",
    "**waveform**. Most musical instruments produce waveforms more complex\n",
    "than a sinusoid. The shape of the waveform determines the musical\n",
    "**timbre**, which is our perception of the quality of the sound. People\n",
    "usually perceive complex waveforms as rich, warm and more interesting\n",
    "than sinusoids."
   ]
  },
  {
   "cell_type": "markdown",
   "id": "4d6c0f59",
   "metadata": {},
   "source": [
    "## Spectral decomposition\n",
    "\n",
    "![Spectrum of a segment from the violin\n",
    "recording.](figs/sounds3.pdf){height=\"2.5in\"}\n",
    "\n",
    "The most important topic in this book is **spectral decomposition**,\n",
    "which is the idea that any signal can be expressed as the sum of\n",
    "sinusoids with different frequencies.\n",
    "\n",
    "The most important mathematical idea in this book is the **discrete\n",
    "Fourier transform**, or **DFT**, which takes a signal and produces its\n",
    "**spectrum**. The spectrum is the set of sinusoids that add up to\n",
    "produce the signal.\n",
    "\n",
    "And the most important algorithm in this book is the **Fast Fourier\n",
    "transform**, or **FFT**, which is an efficient way to compute the DFT.\n",
    "\n",
    "For example, Figure [\\[fig.sounds3\\]](#fig.sounds3){reference-type=\"ref\"\n",
    "reference=\"fig.sounds3\"} shows the spectrum of the violin recording in\n",
    "Figure [\\[fig.sounds2\\]](#fig.sounds2){reference-type=\"ref\"\n",
    "reference=\"fig.sounds2\"}. The x-axis is the range of frequencies that\n",
    "make up the signal. The y-axis shows the strength or **amplitude** of\n",
    "each frequency component.\n",
    "\n",
    "The lowest frequency component is called the **fundamental frequency**.\n",
    "The fundamental frequency of this signal is near 440 Hz (actually a\n",
    "little lower, or \"flat\").\n",
    "\n",
    "In this signal the fundamental frequency has the largest amplitude, so\n",
    "it is also the **dominant frequency**. Normally the perceived pitch of a\n",
    "sound is determined by the fundamental frequency, even if it is not\n",
    "dominant.\n",
    "\n",
    "The other spikes in the spectrum are at frequencies 880, 1320, 1760, and\n",
    "2200, which are integer multiples of the fundamental. These components\n",
    "are called **harmonics** because they are musically harmonious with the\n",
    "fundamental:\n",
    "\n",
    "-   880 is the frequency of A5, one octave higher than the fundamental.\n",
    "    An **octave** is a doubling in frequency.\n",
    "\n",
    "-   1320 is approximately E6, which is a perfect fifth above A5. If you\n",
    "    are not familiar with musical intervals like \\\"perfect fifth\", see\n",
    "    <https://en.wikipedia.org/wiki/Interval_(music)>.\n",
    "\n",
    "-   1760 is A6, two octaves above the fundamental.\n",
    "\n",
    "-   2200 is approximately C$\\sharp$`<!-- -->`{=html}7, which is a major\n",
    "    third above A6.\n",
    "\n",
    "These harmonics make up the notes of an A major chord, although not all\n",
    "in the same octave. Some of them are only approximate because the notes\n",
    "that make up Western music have been adjusted for **equal temperament**\n",
    "(see <http://en.wikipedia.org/wiki/Equal_temperament>).\n",
    "\n",
    "Given the harmonics and their amplitudes, you can reconstruct the signal\n",
    "by adding up sinusoids. Next we'll see how."
   ]
  },
  {
   "cell_type": "markdown",
   "id": "e89fca39",
   "metadata": {},
   "source": [
    "## Signals\n",
    "\n",
    "I wrote a Python module called `thinkdsp.py` that contains classes and\n",
    "functions for working with signals and spectrums[^1]. You will find it\n",
    "in the repository for this book (see\n",
    "Section [\\[code\\]](#code){reference-type=\"ref\" reference=\"code\"}).\n",
    "\n",
    "To represent signals, `thinkdsp` provides a class called `Signal`, which\n",
    "is the parent class for several signal types, including `Sinusoid`,\n",
    "which represents both sine and cosine signals.\n",
    "\n",
    "`thinkdsp` provides functions to create sine and cosine signals:"
   ]
  },
  {
   "cell_type": "code",
   "execution_count": null,
   "id": "1efe4236",
   "metadata": {},
   "outputs": [],
   "source": [
    "cos_sig = thinkdsp.CosSignal(freq=440, amp=1.0, offset=0)\n",
    "sin_sig = thinkdsp.SinSignal(freq=880, amp=0.5, offset=0)"
   ]
  },
  {
   "cell_type": "markdown",
   "id": "3f25072b",
   "metadata": {},
   "source": [
    "`freq` is frequency in Hz. `amp` is amplitude in unspecified units where\n",
    "1.0 is defined as the largest amplitude we can record or play back.\n",
    "\n",
    "`offset` is a **phase offset** in radians. Phase offset determines where\n",
    "in the period the signal starts. For example, a sine signal with\n",
    "`offset=0` starts at $\\sin 0$, which is 0. With `offset=pi/2` it starts\n",
    "at $\\sin \\pi/2$, which is 1.\n",
    "\n",
    "Signals have an `__add__` method, so you can use the `+` operator to add\n",
    "them:"
   ]
  },
  {
   "cell_type": "code",
   "execution_count": null,
   "id": "d67121c8",
   "metadata": {},
   "outputs": [],
   "source": [
    "mix = sin_sig + cos_sig"
   ]
  },
  {
   "cell_type": "markdown",
   "id": "966027c1",
   "metadata": {},
   "source": [
    "The result is a `SumSignal`, which represents the sum of two or more\n",
    "signals.\n",
    "\n",
    "A Signal is basically a Python representation of a mathematical\n",
    "function. Most signals are defined for all values of `t`, from negative\n",
    "infinity to infinity.\n",
    "\n",
    "You can't do much with a Signal until you evaluate it. In this context,\n",
    "\"evaluate\" means taking a sequence of points in time, ` ts`, and\n",
    "computing the corresponding values of the signal, `ys`. I represent `ts`\n",
    "and `ys` using NumPy arrays and encapsulate them in an object called a\n",
    "Wave.\n",
    "\n",
    "A Wave represents a signal evaluated at a sequence of points in time.\n",
    "Each point in time is called a **frame** (a term borrowed from movies\n",
    "and video). The measurement itself is called a **sample**, although\n",
    "\"frame\" and \"sample\" are sometimes used interchangeably.\n",
    "\n",
    "`Signal` provides `make_wave`, which returns a new Wave object:"
   ]
  },
  {
   "cell_type": "code",
   "execution_count": null,
   "id": "ec74efc7",
   "metadata": {},
   "outputs": [],
   "source": [
    "wave = mix.make_wave(duration=0.5, start=0, framerate=11025)"
   ]
  },
  {
   "cell_type": "markdown",
   "id": "f9ad93ee",
   "metadata": {},
   "source": [
    "`duration` is the length of the Wave in seconds. `start` is the start\n",
    "time, also in seconds. `framerate` is the (integer) number of frames per\n",
    "second, which is also the number of samples per second.\n",
    "\n",
    "11,025 frames per second is one of several framerates commonly used in\n",
    "audio file formats, including Waveform Audio File (WAV) and mp3.\n",
    "\n",
    "This example evaluates the signal from `t=0` to `t=0.5` at 5,513\n",
    "equally-spaced frames (because 5,513 is half of 11,025). The time\n",
    "between frames, or **timestep**, is `1/11025` seconds, about 91 $\\mu$s.\n",
    "\n",
    "`Wave` provides a `plot` method that uses `pyplot`. You can plot the\n",
    "wave like this:"
   ]
  },
  {
   "cell_type": "code",
   "execution_count": null,
   "id": "9b5920d6",
   "metadata": {},
   "outputs": [],
   "source": [
    "wave.plot()\n",
    "pyplot.show()"
   ]
  },
  {
   "cell_type": "markdown",
   "id": "a502ab67",
   "metadata": {},
   "source": [
    "`pyplot` is part of `matplotlib`; it is included in many Python\n",
    "distributions, or you might have to install it.\n",
    "\n",
    "![Segment from a mixture of two sinusoid\n",
    "signals.](figs/sounds4.pdf){height=\"2.5in\"}\n",
    "\n",
    "At `freq=440` there are 220 periods in 0.5 seconds, so this plot would\n",
    "look like a solid block of color. To zoom in on a small number of\n",
    "periods, we can use `segment`, which copies a segment of a Wave and\n",
    "returns a new wave:"
   ]
  },
  {
   "cell_type": "code",
   "execution_count": null,
   "id": "f575f9ec",
   "metadata": {},
   "outputs": [],
   "source": [
    "period = mix.period\n",
    "segment = wave.segment(start=0, duration=period*3)"
   ]
  },
  {
   "cell_type": "markdown",
   "id": "f4dac1e3",
   "metadata": {},
   "source": [
    "`period` is a property of a Signal; it returns the period in seconds.\n",
    "\n",
    "`start` and `duration` are in seconds. This example copies the first\n",
    "three periods from `mix`. The result is a Wave object.\n",
    "\n",
    "If we plot `segment`, it looks like\n",
    "Figure [\\[fig.sounds4\\]](#fig.sounds4){reference-type=\"ref\"\n",
    "reference=\"fig.sounds4\"}. This signal contains two frequency components,\n",
    "so it is more complicated than the signal from the tuning fork, but less\n",
    "complicated than the violin."
   ]
  },
  {
   "cell_type": "markdown",
   "id": "31c0c2fe",
   "metadata": {},
   "source": [
    "## Reading and writing Waves\n",
    "\n",
    "`thinkdsp` provides `read_wave`, which reads a WAV file and returns a\n",
    "Wave:"
   ]
  },
  {
   "cell_type": "code",
   "execution_count": null,
   "id": "cde8a550",
   "metadata": {},
   "outputs": [],
   "source": [
    "violin_wave = thinkdsp.read_wave('input.wav')"
   ]
  },
  {
   "cell_type": "markdown",
   "id": "618020b5",
   "metadata": {},
   "source": [
    "And `Wave` provides `write`, which writes a WAV file:"
   ]
  },
  {
   "cell_type": "code",
   "execution_count": null,
   "id": "d23447e5",
   "metadata": {},
   "outputs": [],
   "source": [
    "wave.write(filename='output.wav')"
   ]
  },
  {
   "cell_type": "markdown",
   "id": "43166c7a",
   "metadata": {},
   "source": [
    "You can listen to the Wave with any media player that plays WAV files.\n",
    "On UNIX systems, I use `aplay`, which is simple, robust, and included in\n",
    "many Linux distributions.\n",
    "\n",
    "`thinkdsp` also provides `play_wave`, which runs the media player as a\n",
    "subprocess:"
   ]
  },
  {
   "cell_type": "code",
   "execution_count": null,
   "id": "d3604dee",
   "metadata": {},
   "outputs": [],
   "source": [
    "thinkdsp.play_wave(filename='output.wav', player='aplay')"
   ]
  },
  {
   "cell_type": "markdown",
   "id": "a47932be",
   "metadata": {},
   "source": [
    "It uses `aplay` by default, but you can provide the name of another\n",
    "player."
   ]
  },
  {
   "cell_type": "markdown",
   "id": "226708ea",
   "metadata": {},
   "source": [
    "## Spectrums\n",
    "\n",
    "`Wave` provides `make_spectrum`, which returns a `Spectrum`:"
   ]
  },
  {
   "cell_type": "code",
   "execution_count": null,
   "id": "3acd3fab",
   "metadata": {},
   "outputs": [],
   "source": [
    "spectrum = wave.make_spectrum()"
   ]
  },
  {
   "cell_type": "markdown",
   "id": "4981e9d7",
   "metadata": {},
   "source": [
    "And `Spectrum` provides `plot`:"
   ]
  },
  {
   "cell_type": "code",
   "execution_count": null,
   "id": "89f68195",
   "metadata": {},
   "outputs": [],
   "source": [
    "spectrum.plot()"
   ]
  },
  {
   "cell_type": "markdown",
   "id": "4d6f0c16",
   "metadata": {},
   "source": [
    "`Spectrum` provides three methods that modify the spectrum:\n",
    "\n",
    "-   `low_pass` applies a low-pass filter, which means that components\n",
    "    above a given cutoff frequency are attenuated (that is, reduced in\n",
    "    magnitude) by a factor.\n",
    "\n",
    "-   `high_pass` applies a high-pass filter, which means that it\n",
    "    attenuates components below the cutoff.\n",
    "\n",
    "-   `band_stop` attenuates components in the band of frequencies between\n",
    "    two cutoffs.\n",
    "\n",
    "This example attenuates all frequencies above 600 by 99%:"
   ]
  },
  {
   "cell_type": "code",
   "execution_count": null,
   "id": "56fc2207",
   "metadata": {},
   "outputs": [],
   "source": [
    "spectrum.low_pass(cutoff=600, factor=0.01)"
   ]
  },
  {
   "cell_type": "markdown",
   "id": "2dd09e95",
   "metadata": {},
   "source": [
    "A low pass filter removes bright, high-frequency sounds, so the result\n",
    "sounds muffled and darker. To hear what it sounds like, you can convert\n",
    "the Spectrum back to a Wave, and then play it."
   ]
  },
  {
   "cell_type": "code",
   "execution_count": null,
   "id": "0bc77841",
   "metadata": {},
   "outputs": [],
   "source": [
    "wave = spectrum.make_wave()\n",
    "wave.play('temp.wav')"
   ]
  },
  {
   "cell_type": "markdown",
   "id": "ba64e150",
   "metadata": {},
   "source": [
    "The `play` method writes the wave to a file and then plays it. If you\n",
    "use Jupyter notebooks, you can use `make_audio`, which makes an Audio\n",
    "widget that plays the sound."
   ]
  },
  {
   "cell_type": "markdown",
   "id": "0c05f8db",
   "metadata": {},
   "source": [
    "## Wave objects\n",
    "\n",
    "![Relationships among the classes in\n",
    "`thinkdsp`.](figs/uml_diagram1.pdf){width=\"3.5in\"}\n",
    "\n",
    "There is nothing very complicated in `thinkdsp.py`. Most of the\n",
    "functions it provides are thin wrappers around functions from NumPy and\n",
    "SciPy.\n",
    "\n",
    "The primary classes in `thinkdsp` are Signal, Wave, and Spectrum. Given\n",
    "a Signal, you can make a Wave. Given a Wave, you can make a Spectrum,\n",
    "and vice versa. These relationships are shown in\n",
    "Figure [\\[fig.diagram1\\]](#fig.diagram1){reference-type=\"ref\"\n",
    "reference=\"fig.diagram1\"}.\n",
    "\n",
    "A Wave object contains three attributes: `ys` is a NumPy array that\n",
    "contains the values in the signal; `ts` is an array of the times where\n",
    "the signal was evaluated or sampled; and ` framerate` is the number of\n",
    "samples per unit of time. The unit of time is usually seconds, but it\n",
    "doesn't have to be. In one of my examples, it's days.\n",
    "\n",
    "Wave also provides three read-only properties: `start`, `end`, and\n",
    "`duration`. If you modify `ts`, these properties change accordingly.\n",
    "\n",
    "To modify a wave, you can access the `ts` and `ys` directly. For\n",
    "example:"
   ]
  },
  {
   "cell_type": "code",
   "execution_count": null,
   "id": "6dc12a75",
   "metadata": {},
   "outputs": [],
   "source": [
    "wave.ys *= 2\n",
    "wave.ts += 1"
   ]
  },
  {
   "cell_type": "markdown",
   "id": "523320f8",
   "metadata": {},
   "source": [
    "The first line scales the wave by a factor of 2, making it louder. The\n",
    "second line shifts the wave in time, making it start 1 second later.\n",
    "\n",
    "But Wave provides methods that perform many common operations. For\n",
    "example, the same two transformations could be written:"
   ]
  },
  {
   "cell_type": "code",
   "execution_count": null,
   "id": "d9edfc54",
   "metadata": {},
   "outputs": [],
   "source": [
    "wave.scale(2)\n",
    "wave.shift(1)"
   ]
  },
  {
   "cell_type": "markdown",
   "id": "0369b348",
   "metadata": {},
   "source": [
    "You can read the documentation of these methods and others at\n",
    "<http://greenteapress.com/thinkdsp.html>."
   ]
  },
  {
   "cell_type": "markdown",
   "id": "00b0557a",
   "metadata": {},
   "source": [
    "## Signal objects\n",
    "\n",
    "Signal is a parent class that provides functions common to all kinds of\n",
    "signals, like `make_wave`. Child classes inherit these methods and\n",
    "provide `evaluate`, which evaluates the signal at a given sequence of\n",
    "times.\n",
    "\n",
    "For example, Sinusoid is a child class of Signal, with this definition:"
   ]
  },
  {
   "cell_type": "code",
   "execution_count": null,
   "id": "a4fe567f",
   "metadata": {},
   "outputs": [],
   "source": [
    "class Sinusoid(Signal):\n",
    "\n",
    "    def __init__(self, freq=440, amp=1.0, offset=0, func=np.sin):\n",
    "        Signal.__init__(self)\n",
    "        self.freq = freq\n",
    "        self.amp = amp\n",
    "        self.offset = offset\n",
    "        self.func = func"
   ]
  },
  {
   "cell_type": "markdown",
   "id": "ec7a7563",
   "metadata": {},
   "source": [
    "The parameters of `__init__` are:\n",
    "\n",
    "-   `freq`: frequency in cycles per second, or Hz.\n",
    "\n",
    "-   `amp`: amplitude. The units of amplitude are arbitrary, usually\n",
    "    chosen so 1.0 corresponds to the maximum input from a microphone or\n",
    "    maximum output to a speaker.\n",
    "\n",
    "-   `offset`: indicates where in its period the signal starts; `offset`\n",
    "    is in units of radians, for reasons I explain below.\n",
    "\n",
    "-   `func`: a Python function used to evaluate the signal at a\n",
    "    particular point in time. It is usually either `np.sin` or `np.cos`,\n",
    "    yielding a sine or cosine signal.\n",
    "\n",
    "Like many init methods, this one just tucks the parameters away for\n",
    "future use.\n",
    "\n",
    "Signal provides `make_wave`, which looks like this:"
   ]
  },
  {
   "cell_type": "code",
   "execution_count": null,
   "id": "82a51c1c",
   "metadata": {},
   "outputs": [],
   "source": [
    "def make_wave(self, duration=1, start=0, framerate=11025):\n",
    "    n = round(duration * framerate)\n",
    "    ts = start + np.arange(n) / framerate\n",
    "    ys = self.evaluate(ts)\n",
    "    return Wave(ys, ts, framerate=framerate)"
   ]
  },
  {
   "cell_type": "markdown",
   "id": "4e0dca62",
   "metadata": {},
   "source": [
    "`start` and `duration` are the start time and duration in seconds.\n",
    "`framerate` is the number of frames (samples) per second.\n",
    "\n",
    "`n` is the number of samples, and `ts` is a NumPy array of sample times.\n",
    "\n",
    "To compute the `ys`, `make_wave` invokes `evaluate`, which is provided\n",
    "by `Sinusoid`:"
   ]
  },
  {
   "cell_type": "code",
   "execution_count": null,
   "id": "b4b951c6",
   "metadata": {},
   "outputs": [],
   "source": [
    "def evaluate(self, ts):\n",
    "    phases = PI2 * self.freq * ts + self.offset\n",
    "    ys = self.amp * self.func(phases)\n",
    "    return ys"
   ]
  },
  {
   "cell_type": "markdown",
   "id": "d6a45b1c",
   "metadata": {},
   "source": [
    "Let's unwind this function one step at time:\n",
    "\n",
    "1.  `self.freq` is frequency in cycles per second, and each element of\n",
    "    `ts` is a time in seconds, so their product is the number of cycles\n",
    "    since the start time.\n",
    "\n",
    "2.  `PI2` is a constant that stores $2 \\pi$. Multiplying by `PI2`\n",
    "    converts from cycles to **phase**. You can think of phase as \"cycles\n",
    "    since the start time\" expressed in radians. Each cycle is $2 \\pi$\n",
    "    radians.\n",
    "\n",
    "3.  `self.offset` is the phase when $t$ is `ts[0]`. It has the effect of\n",
    "    shifting the signal left or right in time.\n",
    "\n",
    "4.  If `self.func` is `np.sin` or `np.cos`, the result is a value\n",
    "    between $-1$ and $+1$.\n",
    "\n",
    "5.  Multiplying by `self.amp` yields a signal that ranges from\n",
    "    `-self.amp` to `+self.amp`.\n",
    "\n",
    "In math notation, `evaluate` is written like this:\n",
    "$$y = A \\cos (2 \\pi f t + \\phi_0)$$ where $A$ is amplitude, $f$ is\n",
    "frequency, $t$ is time, and $\\phi_0$ is the phase offset. It may seem\n",
    "like I wrote a lot of code to evaluate one simple expression, but as\n",
    "we'll see, this code provides a framework for dealing with all kinds of\n",
    "signals, not just sinusoids."
   ]
  },
  {
   "cell_type": "markdown",
   "id": "f66ee2bb",
   "metadata": {},
   "source": [
    "## Exercises\n",
    "\n",
    "Before you begin these exercises, you should download the code for this\n",
    "book, following the instructions in\n",
    "Section [\\[code\\]](#code){reference-type=\"ref\" reference=\"code\"}.\n",
    "\n",
    "Solutions to these exercises are in `chap01soln.ipynb`."
   ]
  },
  {
   "cell_type": "markdown",
   "id": "ca482365",
   "metadata": {},
   "source": [
    "### Exercise\n",
    "If you have Jupyter, load `chap01.ipynb`, read through it, and run the\n",
    "examples. You can also view this notebook at\n",
    "<http://tinyurl.com/thinkdsp01>."
   ]
  },
  {
   "cell_type": "markdown",
   "id": "7b8966d8",
   "metadata": {},
   "source": [
    "### Exercise\n",
    "Go to <http://freesound.org> and download a sound sample that includes\n",
    "music, speech, or other sounds that have a well-defined pitch. Select a\n",
    "roughly half-second segment where the pitch is constant. Compute and\n",
    "plot the spectrum of the segment you selected. What connection can you\n",
    "make between the timbre of the sound and the harmonic structure you see\n",
    "in the spectrum?\n",
    "\n",
    "Use `high_pass`, `low_pass`, and `band_stop` to filter out some of the\n",
    "harmonics. Then convert the spectrum back to a wave and listen to it.\n",
    "How does the sound relate to the changes you made in the spectrum?"
   ]
  },
  {
   "cell_type": "markdown",
   "id": "aa7717a0",
   "metadata": {},
   "source": [
    "### Exercise\n",
    "Synthesize a compound signal by creating SinSignal and CosSignal objects\n",
    "and adding them up. Evaluate the signal to get a Wave, and listen to it.\n",
    "Compute its Spectrum and plot it. What happens if you add frequency\n",
    "components that are not multiples of the fundamental?"
   ]
  },
  {
   "cell_type": "markdown",
   "id": "da3b944b",
   "metadata": {},
   "source": [
    "### Exercise\n",
    "Write a function called `stretch` that takes a Wave and a stretch factor\n",
    "and speeds up or slows down the wave by modifying `ts` and `framerate`.\n",
    "Hint: it should only take two lines of code.\n",
    "\n",
    "\n",
    "[^1]: The plural of \"spectrum\" is often written \"spectra\", but I prefer\n",
    "    to use standard English plurals. If you are familiar with \"spectra\",\n",
    "    I hope my choice doesn't sound too strange."
   ]
  }
 ],
 "metadata": {
  "kernelspec": {
   "display_name": "Python 3 (ipykernel)",
   "language": "python",
   "name": "python3"
  },
  "language_info": {
   "codemirror_mode": {
    "name": "ipython",
    "version": 3
   },
   "file_extension": ".py",
   "mimetype": "text/x-python",
   "name": "python",
   "nbconvert_exporter": "python",
   "pygments_lexer": "ipython3",
   "version": "3.10.15"
  }
 },
 "nbformat": 4,
 "nbformat_minor": 5
}
