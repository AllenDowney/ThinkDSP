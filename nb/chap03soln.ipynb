{
 "cells": [
  {
   "cell_type": "markdown",
   "metadata": {},
   "source": [
    "## ThinkDSP\n",
    "\n",
    "This notebook contains solutions to exercises in Chapter 3: Non-periodic signals\n",
    "\n",
    "Copyright 2015 Allen Downey\n",
    "\n",
    "License: [Creative Commons Attribution 4.0 International](http://creativecommons.org/licenses/by/4.0/)"
   ]
  },
  {
   "cell_type": "code",
   "execution_count": 1,
   "metadata": {},
   "outputs": [],
   "source": [
    "# Get thinkdsp.py\n",
    "\n",
    "import os\n",
    "\n",
    "if not os.path.exists('thinkdsp.py'):\n",
    "    !wget https://github.com/AllenDowney/ThinkDSP/raw/master/code/thinkdsp.py"
   ]
  },
  {
   "cell_type": "code",
   "execution_count": 2,
   "metadata": {},
   "outputs": [],
   "source": [
    "import numpy as np\n",
    "import matplotlib.pyplot as plt\n",
    "\n",
    "from thinkdsp import decorate"
   ]
  },
  {
   "cell_type": "markdown",
   "metadata": {},
   "source": [
    "### Exercise 1\n",
    "\n",
    "Run and listen to the examples in chap03.ipynb.  In the leakage example, try replacing the Hamming window with one of the other windows provided by NumPy, and see what effect they have on leakage. \n",
    "\n",
    "See http://docs.scipy.org/doc/numpy/reference/routines.window.html\n",
    "\n",
    "\n",
    "### Solution\n",
    "\n",
    "Here's the leakage example:"
   ]
  },
  {
   "cell_type": "code",
   "execution_count": 3,
   "metadata": {},
   "outputs": [],
   "source": [
    "from thinkdsp import SinSignal\n",
    "\n",
    "signal = SinSignal(freq=440)\n",
    "duration = signal.period * 30.25\n",
    "wave = signal.make_wave(duration)\n",
    "spectrum = wave.make_spectrum()"
   ]
  },
  {
   "cell_type": "code",
   "execution_count": 4,
   "metadata": {},
   "outputs": [],
   "source": [
    "spectrum.plot(high=880)\n",
    "decorate(xlabel='Frequency (Hz)')"
   ]
  },
  {
   "cell_type": "markdown",
   "metadata": {},
   "source": [
    "The following figure shows the effect of 4 different windows."
   ]
  },
  {
   "cell_type": "code",
   "execution_count": 5,
   "metadata": {},
   "outputs": [],
   "source": [
    "for window_func in [np.bartlett, np.blackman, np.hamming, np.hanning]:\n",
    "    wave = signal.make_wave(duration)\n",
    "    wave.ys *= window_func(len(wave.ys))\n",
    "\n",
    "    spectrum = wave.make_spectrum()\n",
    "    spectrum.plot(high=880, label=window_func.__name__)\n",
    "\n",
    "decorate(xlabel='Frequency (Hz)')"
   ]
  },
  {
   "cell_type": "markdown",
   "metadata": {},
   "source": [
    "All four do a good job of reducing leakage.  The Bartlett filter leaves some residual \"ringing\".  The Hamming filter dissipates the least amount of energy. "
   ]
  },
  {
   "cell_type": "markdown",
   "metadata": {},
   "source": [
    "### Exercise 2\n",
    "\n",
    "Write a class called `SawtoothChirp` that extends `Chirp` and overrides evaluate to generate a sawtooth waveform with frequency that increases (or decreases) linearly."
   ]
  },
  {
   "cell_type": "code",
   "execution_count": 6,
   "metadata": {},
   "outputs": [],
   "source": [
    "from thinkdsp import Chirp\n",
    "from thinkdsp import normalize, unbias\n",
    "\n",
    "PI2 = 2 * np.pi\n",
    "\n",
    "class SawtoothChirp(Chirp):\n",
    "    \"\"\"Represents a sawtooth signal with varying frequency.\"\"\"\n",
    "\n",
    "    def evaluate(self, ts):\n",
    "        \"\"\"Helper function that evaluates the signal.\n",
    "\n",
    "        ts: float array of times\n",
    "        \"\"\"\n",
    "        freqs = np.linspace(self.start, self.end, len(ts))\n",
    "        dts = np.diff(ts, prepend=0)\n",
    "        dphis = PI2 * freqs * dts\n",
    "        phases = np.cumsum(dphis)\n",
    "        cycles = phases / PI2\n",
    "        frac, _ = np.modf(cycles)\n",
    "        ys =  normalize(unbias(frac), self.amp)\n",
    "        return ys"
   ]
  },
  {
   "cell_type": "markdown",
   "metadata": {},
   "source": [
    "Here's what it sounds like."
   ]
  },
  {
   "cell_type": "code",
   "execution_count": 7,
   "metadata": {},
   "outputs": [],
   "source": [
    "signal = SawtoothChirp(start=220, end=880)\n",
    "wave = signal.make_wave(duration=1, framerate=4000)\n",
    "wave.apodize()\n",
    "wave.make_audio()"
   ]
  },
  {
   "cell_type": "markdown",
   "metadata": {},
   "source": [
    "And here's the spectrogram."
   ]
  },
  {
   "cell_type": "code",
   "execution_count": 8,
   "metadata": {},
   "outputs": [],
   "source": [
    "sp = wave.make_spectrogram(256)\n",
    "sp.plot()\n",
    "decorate(xlabel='Time (s)', ylabel='Frequency (Hz)')"
   ]
  },
  {
   "cell_type": "markdown",
   "metadata": {},
   "source": [
    "At a relatively low frame rate, you can see the aliased harmonics bouncing off the folding frequency.  And you can hear them as a background hiss.  If you crank up the frame rate, they go away.\n",
    "\n",
    "By the way, if you are a fan of the original Star Trek series, you might recognize the sawtooth chirp as the red alert signal:"
   ]
  },
  {
   "cell_type": "code",
   "execution_count": 9,
   "metadata": {},
   "outputs": [],
   "source": [
    "if not os.path.exists('tos-redalert.wav'):\n",
    "    !wget https://github.com/AllenDowney/ThinkDSP/raw/master/code/tos-redalert.wav"
   ]
  },
  {
   "cell_type": "code",
   "execution_count": 10,
   "metadata": {},
   "outputs": [],
   "source": [
    "from thinkdsp import read_wave\n",
    "\n",
    "read_wave('tos-redalert.wav').make_audio()"
   ]
  },
  {
   "cell_type": "markdown",
   "metadata": {},
   "source": [
    "### Exercise 3\n",
    "\n",
    "Make a sawtooth chirp that sweeps from 2500 to 3000 Hz, then\n",
    "make a wave with duration 1 and framerate 20 kHz.  Draw a sketch of\n",
    "what you think the spectrum will look like.  Then plot the\n",
    "spectrum and see if you got it right.\n",
    "\n",
    "### Solution\n",
    "\n",
    "Since the fundamental sweeps from 2500 to 3000 Hz, I expect to see something like the\n",
    "Eye of Sauron in that range.  The first harmonic sweeps from 5000 to 6000 Hz, so I expect a shorter tower in that range, like the Outhouse of Sauron.  The second harmonic sweeps from 7500 to 9000 Hz, so I expect something even shorter in that range, like the Patio of Sauron.\n",
    "\n",
    "The other harmonics get aliased all over the place, so I expect to see some energy at all other frequencies.  This distributed energy creates some interesting sounds."
   ]
  },
  {
   "cell_type": "code",
   "execution_count": 11,
   "metadata": {},
   "outputs": [],
   "source": [
    "signal = SawtoothChirp(start=2500, end=3000)\n",
    "wave = signal.make_wave(duration=1, framerate=20000)\n",
    "wave.make_audio()"
   ]
  },
  {
   "cell_type": "code",
   "execution_count": 12,
   "metadata": {},
   "outputs": [],
   "source": [
    "wave.make_spectrum().plot()\n",
    "decorate(xlabel='Frequency (Hz)')"
   ]
  },
  {
   "cell_type": "markdown",
   "metadata": {},
   "source": [
    "### Exercise 4\n",
    "\n",
    "In musical terminology, a “glissando” is a note that slides from one pitch to another, so it is similar to a chirp. Find or make a recording of a glissando and plot its spectrogram.  \n",
    "\n",
    "One suggestion: George Gershwin's *Rhapsody in Blue* starts with a famous clarinet glissando; you can download a recording from http://archive.org/details/rhapblue11924."
   ]
  },
  {
   "cell_type": "code",
   "execution_count": 13,
   "metadata": {},
   "outputs": [],
   "source": [
    "if not os.path.exists('72475__rockwehrmann__glissup02.wav'):\n",
    "    !wget https://github.com/AllenDowney/ThinkDSP/raw/master/code/72475__rockwehrmann__glissup02.wav"
   ]
  },
  {
   "cell_type": "code",
   "execution_count": 14,
   "metadata": {},
   "outputs": [],
   "source": [
    "wave = read_wave('72475__rockwehrmann__glissup02.wav')\n",
    "wave.make_audio()"
   ]
  },
  {
   "cell_type": "code",
   "execution_count": 15,
   "metadata": {},
   "outputs": [],
   "source": [
    "wave.make_spectrogram(512).plot(high=5000)\n",
    "decorate(xlabel='Time (s)', ylabel='Frequency (Hz)')"
   ]
  },
  {
   "cell_type": "markdown",
   "metadata": {},
   "source": [
    "### Exercise 5\n",
    "\n",
    "A trombone player can play a glissando by extending the trombone slide while blowing continuously. As the slide extends, the total length of the tube gets longer, and the resulting pitch is inversely proportional to length.\n",
    "Assuming that the player moves the slide at a constant speed, how\n",
    "does frequency vary with time?  \n",
    "\n",
    "Write a class called `TromboneGliss` that extends `Chirp` and\n",
    "provides `evaluate`.  Make a wave that simulates a trombone\n",
    "glissando from F3 down to C3 and back up to F3.  C3 is 262 Hz; F3 is\n",
    "349 Hz.\n",
    "\n",
    "Plot a spectrogram of the resulting wave.  Is a trombone glissando\n",
    "more like a linear or exponential chirp?"
   ]
  },
  {
   "cell_type": "code",
   "execution_count": 16,
   "metadata": {},
   "outputs": [],
   "source": [
    "class TromboneGliss(Chirp):\n",
    "    \"\"\"Represents a trombone-like signal with varying frequency.\"\"\"\n",
    "    \n",
    "    def evaluate(self, ts):\n",
    "        \"\"\"Evaluates the signal at the given times.\n",
    "\n",
    "        ts: float array of times\n",
    "        \n",
    "        returns: float wave array\n",
    "        \"\"\"\n",
    "        l1, l2 = 1.0 / self.start, 1.0 / self.end\n",
    "        lengths = np.linspace(l1, l2, len(ts))\n",
    "        freqs = 1 / lengths\n",
    "        \n",
    "        dts = np.diff(ts, prepend=0)\n",
    "        dphis = PI2 * freqs * dts\n",
    "        phases = np.cumsum(dphis)\n",
    "        ys = self.amp * np.cos(phases)\n",
    "        return ys"
   ]
  },
  {
   "cell_type": "markdown",
   "metadata": {},
   "source": [
    "Here's the first part of the wave:"
   ]
  },
  {
   "cell_type": "code",
   "execution_count": 17,
   "metadata": {},
   "outputs": [],
   "source": [
    "low = 262\n",
    "high = 349\n",
    "signal = TromboneGliss(high, low)\n",
    "wave1 = signal.make_wave(duration=1)\n",
    "wave1.apodize()\n",
    "wave1.make_audio()"
   ]
  },
  {
   "cell_type": "markdown",
   "metadata": {},
   "source": [
    "And the second part:"
   ]
  },
  {
   "cell_type": "code",
   "execution_count": 18,
   "metadata": {},
   "outputs": [],
   "source": [
    "signal = TromboneGliss(low, high)\n",
    "wave2 = signal.make_wave(duration=1)\n",
    "wave2.apodize()\n",
    "wave2.make_audio()"
   ]
  },
  {
   "cell_type": "markdown",
   "metadata": {},
   "source": [
    "Putting them together:"
   ]
  },
  {
   "cell_type": "code",
   "execution_count": 19,
   "metadata": {},
   "outputs": [],
   "source": [
    "wave = wave1 | wave2\n",
    "wave.make_audio()"
   ]
  },
  {
   "cell_type": "markdown",
   "metadata": {},
   "source": [
    "Here's the spectrogram:"
   ]
  },
  {
   "cell_type": "code",
   "execution_count": 20,
   "metadata": {},
   "outputs": [],
   "source": [
    "sp = wave.make_spectrogram(1024)\n",
    "sp.plot(high=1000)\n",
    "decorate(xlabel='Time (s)', ylabel='Frequency (Hz)')"
   ]
  },
  {
   "cell_type": "markdown",
   "metadata": {},
   "source": [
    "### Exercise 6\n",
    "\n",
    "Make or find a recording of a series of vowel sounds and look at the\n",
    "spectrogram.  Can you identify different vowels?"
   ]
  },
  {
   "cell_type": "code",
   "execution_count": 21,
   "metadata": {},
   "outputs": [],
   "source": [
    "if not os.path.exists('87778__marcgascon7__vocals.wav'):\n",
    "    !wget https://github.com/AllenDowney/ThinkDSP/raw/master/code/87778__marcgascon7__vocals.wav"
   ]
  },
  {
   "cell_type": "code",
   "execution_count": 22,
   "metadata": {},
   "outputs": [],
   "source": [
    "wave = read_wave('87778__marcgascon7__vocals.wav')\n",
    "wave.make_audio()"
   ]
  },
  {
   "cell_type": "code",
   "execution_count": 23,
   "metadata": {},
   "outputs": [],
   "source": [
    "wave.make_spectrogram(1024).plot(high=1000)\n",
    "decorate(xlabel='Time (s)', ylabel='Frequency (Hz)')"
   ]
  },
  {
   "cell_type": "markdown",
   "metadata": {},
   "source": [
    "The stripe across the bottom is probably background noise.  The peaks in the spectrogram are called \"formants\".\n",
    "\n",
    "In general, vowel sounds are distinguished by the amplitude ratios of the first two formants relative to the fundamental.  For more, see https://en.wikipedia.org/wiki/Formant\n",
    "\n",
    "We can see the formats more clearly by selecting a segment during 'ah'."
   ]
  },
  {
   "cell_type": "code",
   "execution_count": 24,
   "metadata": {},
   "outputs": [],
   "source": [
    "high = 1000\n",
    "\n",
    "segment = wave.segment(start=1, duration=0.25)\n",
    "segment.make_spectrum().plot(high=high)"
   ]
  },
  {
   "cell_type": "markdown",
   "metadata": {},
   "source": [
    "The fundamental is near 100 Hz.  The next highest peaks are at 200 Hz and 700 Hz.  People who know more about this than I do can identify vowels by looking at spectrums, but I can't."
   ]
  },
  {
   "cell_type": "markdown",
   "metadata": {},
   "source": [
    "The 'eh' segment has a high-amplitude formant near 500 Hz."
   ]
  },
  {
   "cell_type": "code",
   "execution_count": 25,
   "metadata": {},
   "outputs": [],
   "source": [
    "segment = wave.segment(start=2.2, duration=0.25)\n",
    "segment.make_spectrum().plot(high=high)\n",
    "decorate(xlabel='Frequency (Hz)')"
   ]
  },
  {
   "cell_type": "markdown",
   "metadata": {},
   "source": [
    "The 'ih' segment has no high frequency components."
   ]
  },
  {
   "cell_type": "code",
   "execution_count": 26,
   "metadata": {},
   "outputs": [],
   "source": [
    "segment = wave.segment(start=3.5, duration=0.25)\n",
    "segment.make_spectrum().plot(high=high)\n",
    "decorate(xlabel='Frequency (Hz)')"
   ]
  },
  {
   "cell_type": "markdown",
   "metadata": {},
   "source": [
    "The 'oh' segment has a high-amplitude formant near 500 Hz, even higher than the fundamental."
   ]
  },
  {
   "cell_type": "code",
   "execution_count": 27,
   "metadata": {},
   "outputs": [],
   "source": [
    "segment = wave.segment(start=5.1, duration=0.25)\n",
    "segment.make_spectrum().plot(high=high)\n",
    "decorate(xlabel='Frequency (Hz)')"
   ]
  },
  {
   "cell_type": "markdown",
   "metadata": {},
   "source": [
    "The 'oo' segment has a high-amplitude formant near 300 Hz and no high-frequency components"
   ]
  },
  {
   "cell_type": "code",
   "execution_count": 28,
   "metadata": {},
   "outputs": [],
   "source": [
    "segment = wave.segment(start=6.5, duration=0.25)\n",
    "segment.make_spectrum().plot(high=high)\n",
    "decorate(xlabel='Frequency (Hz)')"
   ]
  },
  {
   "cell_type": "code",
   "execution_count": null,
   "metadata": {
    "jupyter": {
     "outputs_hidden": true
    }
   },
   "outputs": [],
   "source": []
  }
 ],
 "metadata": {
  "kernelspec": {
   "display_name": "Python 3",
   "language": "python",
   "name": "python3"
  },
  "language_info": {
   "codemirror_mode": {
    "name": "ipython",
    "version": 3
   },
   "file_extension": ".py",
   "mimetype": "text/x-python",
   "name": "python",
   "nbconvert_exporter": "python",
   "pygments_lexer": "ipython3",
   "version": "3.8.2"
  }
 },
 "nbformat": 4,
 "nbformat_minor": 4
}
