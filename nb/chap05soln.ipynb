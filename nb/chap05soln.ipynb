{
 "cells": [
  {
   "cell_type": "markdown",
   "metadata": {},
   "source": [
    "## ThinkDSP\n",
    "\n",
    "This notebook contains solutions to exercises in Chapter 5: Autocorrelation\n",
    "\n",
    "Copyright 2015 Allen Downey\n",
    "\n",
    "License: [Creative Commons Attribution 4.0 International](http://creativecommons.org/licenses/by/4.0/)"
   ]
  },
  {
   "cell_type": "code",
   "execution_count": 1,
   "metadata": {},
   "outputs": [],
   "source": [
    "# Get thinkdsp.py\n",
    "\n",
    "import os\n",
    "\n",
    "if not os.path.exists('thinkdsp.py'):\n",
    "    !wget https://github.com/AllenDowney/ThinkDSP/raw/master/code/thinkdsp.py"
   ]
  },
  {
   "cell_type": "code",
   "execution_count": 2,
   "metadata": {},
   "outputs": [],
   "source": [
    "import numpy as np\n",
    "import matplotlib.pyplot as plt\n",
    "\n",
    "from thinkdsp import decorate"
   ]
  },
  {
   "cell_type": "markdown",
   "metadata": {},
   "source": [
    "## Exercise 1\n",
    "\n",
    "If you did the exercises in the previous chapter, you downloaded\n",
    "the historical price of BitCoins and estimated the power spectrum\n",
    "of the price changes.  Using the same data, compute the autocorrelation\n",
    "of BitCoin prices.  Does the autocorrelation function drop off quickly?  Is there evidence of periodic behavior?"
   ]
  },
  {
   "cell_type": "code",
   "execution_count": 3,
   "metadata": {},
   "outputs": [],
   "source": [
    "if not os.path.exists('BTC_USD_2013-10-01_2020-03-26-CoinDesk.csv'):\n",
    "    !wget https://github.com/AllenDowney/ThinkDSP/raw/master/code/BTC_USD_2013-10-01_2020-03-26-CoinDesk.csv"
   ]
  },
  {
   "cell_type": "code",
   "execution_count": 4,
   "metadata": {},
   "outputs": [],
   "source": [
    "import pandas as pd\n",
    "\n",
    "df = pd.read_csv('BTC_USD_2013-10-01_2020-03-26-CoinDesk.csv', \n",
    "                 parse_dates=[0])\n",
    "\n",
    "ys = df['Closing Price (USD)']\n",
    "ts = df.index"
   ]
  },
  {
   "cell_type": "code",
   "execution_count": 5,
   "metadata": {},
   "outputs": [],
   "source": [
    "from thinkdsp import Wave\n",
    "\n",
    "wave = Wave(ys, ts, framerate=1)\n",
    "wave.plot()\n",
    "decorate(xlabel='Time (days)',\n",
    "         ylabel='Price of BitCoin ($)')"
   ]
  },
  {
   "cell_type": "markdown",
   "metadata": {},
   "source": [
    "Here's the autocorrelation function using the statistical definition, which unbiases, normalizes, and standardizes; that is, it shifts the mean to zero, divides through by standard deviation, and divides the sum by N."
   ]
  },
  {
   "cell_type": "code",
   "execution_count": 6,
   "metadata": {},
   "outputs": [],
   "source": [
    "def autocorr(wave):\n",
    "    \"\"\"Computes and plots the autocorrelation function.\n",
    "\n",
    "    wave: Wave\n",
    "    \"\"\"\n",
    "    lags = np.arange(len(wave.ys)//2)\n",
    "    corrs = [serial_corr(wave, lag) for lag in lags]\n",
    "    return lags, corrs"
   ]
  },
  {
   "cell_type": "code",
   "execution_count": 7,
   "metadata": {},
   "outputs": [],
   "source": [
    "def serial_corr(wave, lag=1):\n",
    "    \"\"\"Computes serial correlation with given lag.\n",
    "\n",
    "    wave: Wave\n",
    "    lag: integer, how much to shift the wave\n",
    "\n",
    "    returns: float correlation coefficient\n",
    "    \"\"\"\n",
    "    n = len(wave)\n",
    "    y1 = wave.ys[lag:]\n",
    "    y2 = wave.ys[:n-lag]\n",
    "    corr_mat = np.corrcoef(y1, y2)\n",
    "    return corr_mat[0, 1]"
   ]
  },
  {
   "cell_type": "code",
   "execution_count": 8,
   "metadata": {},
   "outputs": [],
   "source": [
    "lags, corrs = autocorr(wave)\n",
    "plt.plot(lags, corrs)\n",
    "decorate(xlabel='Lag',\n",
    "         ylabel='Correlation')"
   ]
  },
  {
   "cell_type": "markdown",
   "metadata": {},
   "source": [
    "The ACF drops off slowly as lag increases, suggesting some kind of pink noise."
   ]
  },
  {
   "cell_type": "markdown",
   "metadata": {},
   "source": [
    "We can compare my implementation of `autocorr` with `np.correlate`, which uses the definition of correlation used in signal processing.  It doesn't unbias, normalize, or standardize the wave."
   ]
  },
  {
   "cell_type": "code",
   "execution_count": 9,
   "metadata": {},
   "outputs": [],
   "source": [
    "N = len(wave)\n",
    "corrs2 = np.correlate(wave.ys, wave.ys, mode='same')\n",
    "lags = np.arange(-N//2, N//2)\n",
    "plt.plot(lags, corrs2)\n",
    "decorate(xlabel='Lag',\n",
    "         ylabel='Dot product')"
   ]
  },
  {
   "cell_type": "markdown",
   "metadata": {},
   "source": [
    "The second half of the result corresponds to positive lags:"
   ]
  },
  {
   "cell_type": "code",
   "execution_count": 10,
   "metadata": {},
   "outputs": [],
   "source": [
    "N = len(corrs2)\n",
    "half = corrs2[N//2:]\n",
    "plt.plot(half)\n",
    "decorate(xlabel='Lag',\n",
    "         ylabel='Dot product')"
   ]
  },
  {
   "cell_type": "markdown",
   "metadata": {},
   "source": [
    "We can standardize the results after the fact by dividing through by `lengths`:"
   ]
  },
  {
   "cell_type": "code",
   "execution_count": 11,
   "metadata": {},
   "outputs": [],
   "source": [
    "lengths = range(N, N//2, -1)\n",
    "half /= lengths\n",
    "half /= half[0]\n",
    "plt.plot(half)\n",
    "decorate(xlabel='Lag',\n",
    "         ylabel='Dot product')"
   ]
  },
  {
   "cell_type": "markdown",
   "metadata": {},
   "source": [
    "Now we can compare the two."
   ]
  },
  {
   "cell_type": "code",
   "execution_count": 12,
   "metadata": {},
   "outputs": [],
   "source": [
    "plt.plot(corrs, label='autocorr')\n",
    "plt.plot(half, label='correlate')\n",
    "decorate(xlabel='Lag', ylabel='Correlation')"
   ]
  },
  {
   "cell_type": "markdown",
   "metadata": {},
   "source": [
    "Even after standardizing, the results look substantially different. \n",
    "\n",
    "For this dataset, the statistical definition of ACF is probably more appropriate."
   ]
  },
  {
   "cell_type": "markdown",
   "metadata": {},
   "source": [
    "## Exercise 2\n",
    "\n",
    "The example code in `chap05.ipynb` shows how to use autocorrelation\n",
    "to estimate the fundamental frequency of a periodic signal.\n",
    "Encapsulate this code in a function called `estimate_fundamental`,\n",
    "and use it to track the pitch of a recorded sound.\n",
    "\n",
    "To see how well it works, try superimposing your pitch estimates on a\n",
    "spectrogram of the recording."
   ]
  },
  {
   "cell_type": "code",
   "execution_count": 13,
   "metadata": {},
   "outputs": [],
   "source": [
    "if not os.path.exists('28042__bcjordan__voicedownbew.wav'):\n",
    "    !wget https://github.com/AllenDowney/ThinkDSP/raw/master/code/28042__bcjordan__voicedownbew.wav"
   ]
  },
  {
   "cell_type": "code",
   "execution_count": 14,
   "metadata": {},
   "outputs": [],
   "source": [
    "from thinkdsp import read_wave\n",
    "\n",
    "wave = read_wave('28042__bcjordan__voicedownbew.wav')\n",
    "wave.normalize()\n",
    "wave.make_audio()"
   ]
  },
  {
   "cell_type": "markdown",
   "metadata": {},
   "source": [
    "I'll use the same example from `chap05.ipynb`.  Here's the spectrogram:"
   ]
  },
  {
   "cell_type": "code",
   "execution_count": 15,
   "metadata": {},
   "outputs": [],
   "source": [
    "wave.make_spectrogram(2048).plot(high=4200)\n",
    "decorate(xlabel='Time (s)', \n",
    "         ylabel='Frequency (Hz)')"
   ]
  },
  {
   "cell_type": "markdown",
   "metadata": {},
   "source": [
    "And here's a function that encapsulates the code from Chapter 5.  In general, finding the first, highest peak in the autocorrelation function is tricky.  I kept it simple by specifying the range of lags to search."
   ]
  },
  {
   "cell_type": "code",
   "execution_count": 16,
   "metadata": {},
   "outputs": [],
   "source": [
    "def estimate_fundamental(segment, low=70, high=150):\n",
    "    lags, corrs = autocorr(segment)\n",
    "    lag = np.array(corrs[low:high]).argmax() + low\n",
    "    period = lag / segment.framerate\n",
    "    frequency = 1 / period\n",
    "    return frequency"
   ]
  },
  {
   "cell_type": "markdown",
   "metadata": {},
   "source": [
    "Here's an example of how it works."
   ]
  },
  {
   "cell_type": "code",
   "execution_count": 17,
   "metadata": {},
   "outputs": [],
   "source": [
    "duration = 0.01\n",
    "segment = wave.segment(start=0.2, duration=duration)\n",
    "freq = estimate_fundamental(segment)\n",
    "freq"
   ]
  },
  {
   "cell_type": "markdown",
   "metadata": {},
   "source": [
    "And here's a loop that tracks pitch over the sample.\n",
    "\n",
    "The `ts` are the mid-points of each segment."
   ]
  },
  {
   "cell_type": "code",
   "execution_count": 18,
   "metadata": {},
   "outputs": [],
   "source": [
    "step = 0.05\n",
    "starts = np.arange(0.0, 1.4, step)\n",
    "\n",
    "ts = []\n",
    "freqs = []\n",
    "\n",
    "for start in starts:\n",
    "    ts.append(start + step/2)\n",
    "    segment = wave.segment(start=start, duration=duration)\n",
    "    freq = estimate_fundamental(segment)\n",
    "    freqs.append(freq)"
   ]
  },
  {
   "cell_type": "markdown",
   "metadata": {},
   "source": [
    "Here's the pitch-tracking curve superimposed on the spectrogram:"
   ]
  },
  {
   "cell_type": "code",
   "execution_count": 19,
   "metadata": {},
   "outputs": [],
   "source": [
    "wave.make_spectrogram(2048).plot(high=900)\n",
    "plt.plot(ts, freqs, color='white')\n",
    "decorate(xlabel='Time (s)', \n",
    "                     ylabel='Frequency (Hz)')"
   ]
  },
  {
   "cell_type": "markdown",
   "metadata": {},
   "source": [
    "Looks pretty good!"
   ]
  },
  {
   "cell_type": "code",
   "execution_count": null,
   "metadata": {
    "collapsed": true,
    "jupyter": {
     "outputs_hidden": true
    }
   },
   "outputs": [],
   "source": []
  }
 ],
 "metadata": {
  "kernelspec": {
   "display_name": "Python 3",
   "language": "python",
   "name": "python3"
  },
  "language_info": {
   "codemirror_mode": {
    "name": "ipython",
    "version": 3
   },
   "file_extension": ".py",
   "mimetype": "text/x-python",
   "name": "python",
   "nbconvert_exporter": "python",
   "pygments_lexer": "ipython3",
   "version": "3.6.10"
  }
 },
 "nbformat": 4,
 "nbformat_minor": 4
}
