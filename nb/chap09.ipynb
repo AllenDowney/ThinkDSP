{
 "cells": [
  {
   "cell_type": "markdown",
   "metadata": {},
   "source": [
    "## ThinkDSP\n",
    "\n",
    "This notebook contains code examples from Chapter 9: Differentiation and Integration\n",
    "\n",
    "Copyright 2015 Allen Downey\n",
    "\n",
    "License: [Creative Commons Attribution 4.0 International](http://creativecommons.org/licenses/by/4.0/)"
   ]
  },
  {
   "cell_type": "code",
   "execution_count": 1,
   "metadata": {},
   "outputs": [],
   "source": [
    "# Get thinkdsp.py\n",
    "\n",
    "import os\n",
    "\n",
    "if not os.path.exists('thinkdsp.py'):\n",
    "    !wget https://github.com/AllenDowney/ThinkDSP/raw/master/code/thinkdsp.py"
   ]
  },
  {
   "cell_type": "code",
   "execution_count": 2,
   "metadata": {},
   "outputs": [],
   "source": [
    "import numpy as np\n",
    "import matplotlib.pyplot as plt\n",
    "\n",
    "from thinkdsp import decorate"
   ]
  },
  {
   "cell_type": "markdown",
   "metadata": {},
   "source": [
    "## Difference\n",
    "\n",
    "As the first example, let's look at the Facebook data again."
   ]
  },
  {
   "cell_type": "code",
   "execution_count": 3,
   "metadata": {},
   "outputs": [],
   "source": [
    "if not os.path.exists('FB_2.csv'):\n",
    "    !wget https://github.com/AllenDowney/ThinkDSP/raw/master/code/FB_2.csv"
   ]
  },
  {
   "cell_type": "code",
   "execution_count": 4,
   "metadata": {},
   "outputs": [],
   "source": [
    "import pandas as pd\n",
    "\n",
    "df = pd.read_csv('FB_2.csv', header=0, parse_dates=[0])\n",
    "len(df)"
   ]
  },
  {
   "cell_type": "code",
   "execution_count": 5,
   "metadata": {},
   "outputs": [],
   "source": [
    "from thinkdsp import Wave\n",
    "\n",
    "ys = df['Close']\n",
    "\n",
    "# for these examples, we need the wave to have \n",
    "# an even number of samples\n",
    "if len(ys) % 2:\n",
    "    ys = ys[:-1]\n",
    "\n",
    "close = Wave(ys, framerate=1)\n",
    "len(close)"
   ]
  },
  {
   "cell_type": "markdown",
   "metadata": {},
   "source": [
    "Here's what the time series looks like (ignoring the gaps between trading days)."
   ]
  },
  {
   "cell_type": "code",
   "execution_count": 6,
   "metadata": {},
   "outputs": [],
   "source": [
    "close.plot()\n",
    "decorate(xlabel='Time (days)', ylabel='Price ($)')"
   ]
  },
  {
   "cell_type": "markdown",
   "metadata": {},
   "source": [
    "And here's the spectrum on a log-log scale."
   ]
  },
  {
   "cell_type": "code",
   "execution_count": 7,
   "metadata": {
    "scrolled": true
   },
   "outputs": [],
   "source": [
    "close_spectrum = close.make_spectrum()\n",
    "close_spectrum.plot()\n",
    "decorate(xlabel='Frequency (1/day)', ylabel='Amplitude',\n",
    "                 xscale='log', yscale='log')"
   ]
  },
  {
   "cell_type": "markdown",
   "metadata": {},
   "source": [
    "The slope of the power spectrum is -1.86, which is similar to red noise (which should have a slope of -2)."
   ]
  },
  {
   "cell_type": "code",
   "execution_count": 8,
   "metadata": {},
   "outputs": [],
   "source": [
    "close_spectrum.estimate_slope().slope"
   ]
  },
  {
   "cell_type": "markdown",
   "metadata": {},
   "source": [
    "We can use `np.diff` to compute the difference between successive elements, which is the daily change."
   ]
  },
  {
   "cell_type": "code",
   "execution_count": 9,
   "metadata": {},
   "outputs": [],
   "source": [
    "change = Wave(np.diff(close.ys), framerate=1)\n",
    "change.plot()\n",
    "decorate(xlabel='Time (days)', ylabel='Price change($)')\n",
    "len(change)"
   ]
  },
  {
   "cell_type": "markdown",
   "metadata": {},
   "source": [
    "And here's the spectrum of the daily changes:"
   ]
  },
  {
   "cell_type": "code",
   "execution_count": 10,
   "metadata": {},
   "outputs": [],
   "source": [
    "change_spectrum = change.make_spectrum()\n",
    "change_spectrum.plot()\n",
    "decorate(xlabel='Frequency (1/day)', ylabel='Amplitude')"
   ]
  },
  {
   "cell_type": "markdown",
   "metadata": {},
   "source": [
    "Recall that the spectrum of white noise looks like white noise.\n",
    "\n",
    "Here's the spectrum on a log-log scale."
   ]
  },
  {
   "cell_type": "code",
   "execution_count": 11,
   "metadata": {},
   "outputs": [],
   "source": [
    "change_spectrum.plot()\n",
    "decorate(xlabel='Frequency (1/day)', ylabel='Amplitude',\n",
    "                 xscale='log', yscale='log')"
   ]
  },
  {
   "cell_type": "markdown",
   "metadata": {},
   "source": [
    "The estimated slope is close to zero, which is consistent with white noise."
   ]
  },
  {
   "cell_type": "code",
   "execution_count": 12,
   "metadata": {},
   "outputs": [],
   "source": [
    "change_spectrum.estimate_slope().slope"
   ]
  },
  {
   "cell_type": "markdown",
   "metadata": {},
   "source": [
    "We can think the diff operation as convolution with a difference window, [1, -1].\n",
    "\n",
    "And convolution with this window corresponds to multiplication by a filter.\n",
    "\n",
    "The following function computes the filter that corresponds to the window."
   ]
  },
  {
   "cell_type": "code",
   "execution_count": 13,
   "metadata": {},
   "outputs": [],
   "source": [
    "from thinkdsp import zero_pad\n",
    "\n",
    "def make_filter(window, wave):\n",
    "    \"\"\"Computes the filter that corresponds to a window.\n",
    "    \n",
    "    window: NumPy array\n",
    "    wave: wave used to choose the length and framerate\n",
    "    \n",
    "    returns: new Spectrum\n",
    "    \"\"\"\n",
    "    padded = zero_pad(window, len(wave))\n",
    "    window_wave = Wave(padded, framerate=wave.framerate)\n",
    "    window_spectrum = window_wave.make_spectrum()\n",
    "    return window_spectrum"
   ]
  },
  {
   "cell_type": "markdown",
   "metadata": {},
   "source": [
    "And here's what the filter looks like for the difference window:"
   ]
  },
  {
   "cell_type": "code",
   "execution_count": 14,
   "metadata": {},
   "outputs": [],
   "source": [
    "diff_window = np.array([1.0, -1.0])\n",
    "diff_filter = make_filter(diff_window, close)\n",
    "diff_filter.plot()\n",
    "decorate(xlabel='Frequency (1/day)', ylabel='Amplitude ratio')"
   ]
  },
  {
   "cell_type": "markdown",
   "metadata": {},
   "source": [
    "And the angles:"
   ]
  },
  {
   "cell_type": "code",
   "execution_count": 15,
   "metadata": {},
   "outputs": [],
   "source": [
    "plt.plot(diff_filter.angles)\n",
    "decorate(xlabel='Frequency (1/day)', ylabel='Phase offset (radians)')"
   ]
  },
  {
   "cell_type": "markdown",
   "metadata": {},
   "source": [
    "So we could also compute the daily changes by multiplying the spectrum of closing prices by the diff filter:"
   ]
  },
  {
   "cell_type": "code",
   "execution_count": 16,
   "metadata": {},
   "outputs": [],
   "source": [
    "change_spectrum2 = close_spectrum * diff_filter\n",
    "change_spectrum2.plot()\n",
    "decorate(xlabel='Frequency (1/day)', ylabel='Amplitude')"
   ]
  },
  {
   "cell_type": "markdown",
   "metadata": {},
   "source": [
    "And then converting the spectrum to a wave."
   ]
  },
  {
   "cell_type": "code",
   "execution_count": 17,
   "metadata": {},
   "outputs": [],
   "source": [
    "change2 = change_spectrum2.make_wave()\n",
    "\n",
    "# we have to trim the first element to avoid wrap-around\n",
    "change2.ys = change2.ys[1:]\n",
    "change2.ts = change2.ts[1:]\n",
    "\n",
    "change.plot()\n",
    "change2.plot()\n",
    "decorate(xlabel='Time (day)', ylabel='Price change ($)')"
   ]
  },
  {
   "cell_type": "markdown",
   "metadata": {},
   "source": [
    "Then we can confirm that we get the same result both ways (within floating point error)."
   ]
  },
  {
   "cell_type": "code",
   "execution_count": 44,
   "metadata": {},
   "outputs": [],
   "source": [
    "change.max_diff(change2)"
   ]
  },
  {
   "cell_type": "markdown",
   "metadata": {},
   "source": [
    "### Differentiation\n",
    "\n",
    "This diff operation is an approximation of differentiation, and we can compute the filter for differentiation analytically: each complex component is multiplied by $2 \\pi i f$."
   ]
  },
  {
   "cell_type": "code",
   "execution_count": 19,
   "metadata": {},
   "outputs": [],
   "source": [
    "#start with a filter that has the right size, then replace hs\n",
    "\n",
    "PI2 = np.pi * 2\n",
    "deriv_filter = close.make_spectrum()\n",
    "deriv_filter.hs = PI2 * 1j * deriv_filter.fs\n",
    "deriv_filter.plot()\n",
    "decorate(xlabel='Frequency (1/day)', ylabel='Amplitude ratio')"
   ]
  },
  {
   "cell_type": "markdown",
   "metadata": {},
   "source": [
    "Now we can apply the derivative filter to the spectrum of closing prices:"
   ]
  },
  {
   "cell_type": "code",
   "execution_count": 20,
   "metadata": {},
   "outputs": [],
   "source": [
    "deriv_spectrum = close.make_spectrum().differentiate()\n",
    "\n",
    "deriv_spectrum.plot()\n",
    "decorate(xlabel='Frequency (1/day)', ylabel='Amplitude')"
   ]
  },
  {
   "cell_type": "markdown",
   "metadata": {},
   "source": [
    "The results are similar to what we got from `np.diff`, with some differences due to (1) the difference window is only a coarse approximation of the derivative, especially at higher frequencies, and (2) the spectral derivative is based on the assumption that the signal is periodic, so the behavior at the beginning and end is different."
   ]
  },
  {
   "cell_type": "code",
   "execution_count": 21,
   "metadata": {},
   "outputs": [],
   "source": [
    "deriv = deriv_spectrum.make_wave()\n",
    "len(deriv), len(change)"
   ]
  },
  {
   "cell_type": "code",
   "execution_count": 22,
   "metadata": {},
   "outputs": [],
   "source": [
    "deriv = deriv_spectrum.make_wave()\n",
    "change.plot(alpha=0.5)\n",
    "deriv.plot(alpha=0.5)\n",
    "decorate(xlabel='Time (day)')"
   ]
  },
  {
   "cell_type": "markdown",
   "metadata": {},
   "source": [
    "We can see the differences more clearly by zooming in on a slice:"
   ]
  },
  {
   "cell_type": "code",
   "execution_count": 23,
   "metadata": {},
   "outputs": [],
   "source": [
    "low, high = 0, 50\n",
    "plt.plot(change.ys[low:high], label='diff')\n",
    "plt.plot(deriv.ys[low:high], label='deriv')\n",
    "decorate(xlabel='Time (day)', ylabel='Price change ($)')"
   ]
  },
  {
   "cell_type": "markdown",
   "metadata": {},
   "source": [
    "The diffs and the spectral derivative are similar in many places, but sometimes substantially different."
   ]
  },
  {
   "cell_type": "markdown",
   "metadata": {},
   "source": [
    "Here's the difference between the derivative filter and the difference filter:"
   ]
  },
  {
   "cell_type": "code",
   "execution_count": 24,
   "metadata": {},
   "outputs": [],
   "source": [
    "deriv_filter.plot()\n",
    "diff_filter.plot()\n",
    "decorate(xlabel='Frequency (1/day)', ylabel='Amplitude ratio')"
   ]
  },
  {
   "cell_type": "markdown",
   "metadata": {},
   "source": [
    "The difference filter does not amplify the highest frequencies as much, which is why the diffs are smoother than the derivative."
   ]
  },
  {
   "cell_type": "markdown",
   "metadata": {},
   "source": [
    "## Integration\n",
    "\n",
    "Now let's think about integration.  We can compute the filter for integration analytically: each frequency component gets divided by $2 \\pi i f$.\n",
    "\n",
    "I plot the result on a log-y scale so we can see it more clearly."
   ]
  },
  {
   "cell_type": "code",
   "execution_count": 25,
   "metadata": {},
   "outputs": [],
   "source": [
    "#start with a copy of the deriv filter and replace the hs\n",
    "integ_filter = deriv_filter.copy()\n",
    "integ_filter.hs[1:] = 1 / (PI2 * 1j * integ_filter.fs[1:])\n",
    "\n",
    "# set the component at freq=0 to infinity\n",
    "integ_filter.hs[0] = np.inf\n",
    "\n",
    "integ_filter.plot()\n",
    "decorate(xlabel='Frequency (1/day)', ylabel='Amplitude ratio', \n",
    "                 yscale='log')"
   ]
  },
  {
   "cell_type": "markdown",
   "metadata": {},
   "source": [
    "We can confirm that the integration filter is correct by applying it to the spectrum of the derivative we just computed:"
   ]
  },
  {
   "cell_type": "code",
   "execution_count": 26,
   "metadata": {},
   "outputs": [],
   "source": [
    "integ_spectrum = deriv_spectrum.copy().integrate()\n",
    "integ_spectrum.plot()\n",
    "decorate(xlabel='Frequency (1/day)', ylabel='Amplitude')\n",
    "decorate(yscale='log')"
   ]
  },
  {
   "cell_type": "markdown",
   "metadata": {},
   "source": [
    "And then converting back to a wave.  The result is identical to the daily closing prices we started with, but shifted so the mean is 0.  \n",
    "\n",
    "The reason the mean is 0 is that the derivative clobbers the first element of the spectrum, which is the bias.  Once the bias information is lost, integration can't restore it.  So the result has an unspecified constant of integration."
   ]
  },
  {
   "cell_type": "code",
   "execution_count": 27,
   "metadata": {},
   "outputs": [],
   "source": [
    "close.plot(label='closing prices', alpha=0.7)\n",
    "\n",
    "integ_spectrum.hs[0] = 0\n",
    "integ_wave = integ_spectrum.make_wave()\n",
    "integ_wave.plot(label='integrated derivative', alpha=0.7)\n",
    "decorate(xlabel='Time (day)', ylabel='Price ($)')"
   ]
  },
  {
   "cell_type": "code",
   "execution_count": 28,
   "metadata": {},
   "outputs": [],
   "source": [
    "shift = np.mean(close.ys) - np.mean(integ_wave.ys)\n",
    "\n",
    "diff = integ_wave.ys - close.ys + shift\n",
    "np.max(np.abs(diff))"
   ]
  },
  {
   "cell_type": "markdown",
   "metadata": {},
   "source": [
    "### Cumulative sum\n",
    "\n",
    "In the same way that the diff operator approximates differentiation, the cumulative sum approximates integration.\n",
    "\n",
    "I'll demonstrate with a Sawtooth signal."
   ]
  },
  {
   "cell_type": "code",
   "execution_count": 29,
   "metadata": {},
   "outputs": [],
   "source": [
    "from thinkdsp import SawtoothSignal\n",
    "\n",
    "in_wave = SawtoothSignal(freq=50).make_wave(duration=0.1, framerate=44100)\n",
    "in_wave.unbias()\n",
    "in_wave.plot()\n",
    "decorate(xlabel='Time (s)')"
   ]
  },
  {
   "cell_type": "markdown",
   "metadata": {},
   "source": [
    "Here's the spectrum before the cumulative sum:"
   ]
  },
  {
   "cell_type": "code",
   "execution_count": 30,
   "metadata": {},
   "outputs": [],
   "source": [
    "in_spectrum = in_wave.make_spectrum()\n",
    "in_spectrum.plot()\n",
    "decorate(xlabel='Frequency (Hz)', ylabel='Amplitude')"
   ]
  },
  {
   "cell_type": "markdown",
   "metadata": {},
   "source": [
    "The output wave is the cumulative sum of the input"
   ]
  },
  {
   "cell_type": "code",
   "execution_count": 31,
   "metadata": {
    "scrolled": true
   },
   "outputs": [],
   "source": [
    "out_wave = in_wave.cumsum()\n",
    "out_wave.unbias()\n",
    "out_wave.plot()\n",
    "decorate(xlabel='Time (s)')"
   ]
  },
  {
   "cell_type": "markdown",
   "metadata": {},
   "source": [
    "And here's its spectrum"
   ]
  },
  {
   "cell_type": "code",
   "execution_count": 32,
   "metadata": {},
   "outputs": [],
   "source": [
    "out_spectrum = out_wave.make_spectrum()\n",
    "out_spectrum.plot()\n",
    "decorate(xlabel='Frequency (Hz)', ylabel='Amplitude')"
   ]
  },
  {
   "cell_type": "markdown",
   "metadata": {},
   "source": [
    "Now we compute the ratio of the output to the input:"
   ]
  },
  {
   "cell_type": "code",
   "execution_count": 33,
   "metadata": {},
   "outputs": [],
   "source": [
    "sum(in_spectrum.amps < 1), len(in_spectrum)"
   ]
  },
  {
   "cell_type": "markdown",
   "metadata": {},
   "source": [
    "In between the harmonics, the input componenents are small, so I set those ratios to NaN."
   ]
  },
  {
   "cell_type": "code",
   "execution_count": 34,
   "metadata": {},
   "outputs": [],
   "source": [
    "ratio_spectrum = out_spectrum.ratio(in_spectrum, thresh=1)\n",
    "ratio_spectrum.plot(marker='.', ms=4, ls='')\n",
    "\n",
    "decorate(xlabel='Frequency (Hz)',\n",
    "         ylabel='Amplitude ratio',\n",
    "         yscale='log')"
   ]
  },
  {
   "cell_type": "markdown",
   "metadata": {},
   "source": [
    "To get the cumsum filter, I compute the diff filter again and invert it."
   ]
  },
  {
   "cell_type": "code",
   "execution_count": 35,
   "metadata": {},
   "outputs": [],
   "source": [
    "# compute the diff filter\n",
    "diff_window = np.array([1.0, -1.0])\n",
    "padded = zero_pad(diff_window, len(in_wave))\n",
    "diff_wave = Wave(padded, framerate=in_wave.framerate)\n",
    "diff_filter = diff_wave.make_spectrum()"
   ]
  },
  {
   "cell_type": "code",
   "execution_count": 36,
   "metadata": {},
   "outputs": [],
   "source": [
    "# compute the cumsum filter by inverting the diff filter\n",
    "cumsum_filter = diff_filter.copy()\n",
    "cumsum_filter.hs[1:] = 1 / cumsum_filter.hs[1:]\n",
    "cumsum_filter.hs[0] = np.inf"
   ]
  },
  {
   "cell_type": "code",
   "execution_count": 37,
   "metadata": {},
   "outputs": [],
   "source": [
    "# compute the integration filter\n",
    "integ_filter = cumsum_filter.copy()\n",
    "integ_filter.hs[1:] = integ_filter.framerate / (PI2 * 1j * integ_filter.fs[1:])\n",
    "integ_filter.hs[0] = np.inf"
   ]
  },
  {
   "cell_type": "code",
   "execution_count": 38,
   "metadata": {},
   "outputs": [],
   "source": [
    "cumsum_filter.plot(label='cumsum filter', alpha=0.7)\n",
    "integ_filter.plot(label='integral filter', alpha=0.7)\n",
    "\n",
    "decorate(xlabel='Frequency (Hz)',\n",
    "         ylabel='Amplitude ratio',\n",
    "         yscale='log')"
   ]
  },
  {
   "cell_type": "markdown",
   "metadata": {},
   "source": [
    "Finally, we can compare the computed ratios to the filter.  They match, confirming that the cumsum filter is the inverse of the diff filter."
   ]
  },
  {
   "cell_type": "code",
   "execution_count": 39,
   "metadata": {},
   "outputs": [],
   "source": [
    "cumsum_filter.plot(label='cumsum filter')\n",
    "ratio_spectrum.plot(label='ratio', marker='.', ms=4, ls='')\n",
    "decorate(xlabel='Frequency (Hz)',\n",
    "         ylabel='Amplitude ratio',\n",
    "         yscale='log')"
   ]
  },
  {
   "cell_type": "markdown",
   "metadata": {},
   "source": [
    "Now we can compute the output wave using the convolution theorem, and compare the results:"
   ]
  },
  {
   "cell_type": "code",
   "execution_count": 40,
   "metadata": {},
   "outputs": [],
   "source": [
    "len(in_spectrum), len(cumsum_filter)"
   ]
  },
  {
   "cell_type": "code",
   "execution_count": 41,
   "metadata": {
    "scrolled": true
   },
   "outputs": [],
   "source": [
    "out_wave.plot(label='summed', alpha=0.7)\n",
    "\n",
    "cumsum_filter.hs[0] = 0\n",
    "out_wave2 = (in_spectrum * cumsum_filter).make_wave()\n",
    "out_wave2.plot(label='filtered', alpha=0.7)\n",
    "\n",
    "decorate(xlabel='Time (s)')"
   ]
  },
  {
   "cell_type": "markdown",
   "metadata": {},
   "source": [
    "They are the same, within floating point error."
   ]
  },
  {
   "cell_type": "code",
   "execution_count": 43,
   "metadata": {},
   "outputs": [],
   "source": [
    "out_wave.max_diff(out_wave2)"
   ]
  },
  {
   "cell_type": "code",
   "execution_count": null,
   "metadata": {},
   "outputs": [],
   "source": []
  }
 ],
 "metadata": {
  "kernelspec": {
   "display_name": "Python 3",
   "language": "python",
   "name": "python3"
  },
  "language_info": {
   "codemirror_mode": {
    "name": "ipython",
    "version": 3
   },
   "file_extension": ".py",
   "mimetype": "text/x-python",
   "name": "python",
   "nbconvert_exporter": "python",
   "pygments_lexer": "ipython3",
   "version": "3.6.10"
  }
 },
 "nbformat": 4,
 "nbformat_minor": 4
}
