{
 "cells": [
  {
   "cell_type": "markdown",
   "metadata": {},
   "source": [
    "## ThinkDSP\n",
    "\n",
    "This notebook contains code examples from Chapter 11: Modulation and sampling\n",
    "\n",
    "Copyright 2015 Allen Downey\n",
    "\n",
    "Special thanks to my colleague Siddhartan Govindasamy; the sequence of topics in this notebook is based on material he developed for Signals and Systems at Olin College, which he and Oscar Mur-Miranda and I co-taught in Spring 2015.\n",
    "\n",
    "License: [Creative Commons Attribution 4.0 International](http://creativecommons.org/licenses/by/4.0/)"
   ]
  },
  {
   "cell_type": "code",
   "execution_count": 1,
   "metadata": {},
   "outputs": [],
   "source": [
    "# Get thinkdsp.py\n",
    "\n",
    "import os\n",
    "\n",
    "if not os.path.exists('thinkdsp.py'):\n",
    "    !wget https://github.com/AllenDowney/ThinkDSP/raw/master/code/thinkdsp.py"
   ]
  },
  {
   "cell_type": "code",
   "execution_count": 2,
   "metadata": {},
   "outputs": [],
   "source": [
    "import numpy as np\n",
    "import matplotlib.pyplot as plt\n",
    "\n",
    "from thinkdsp import decorate"
   ]
  },
  {
   "cell_type": "markdown",
   "metadata": {},
   "source": [
    "## Convolution with impulses\n",
    "\n",
    "To demonstrate the effect of convolution with impulses, I'll load a short beep sound."
   ]
  },
  {
   "cell_type": "code",
   "execution_count": 3,
   "metadata": {},
   "outputs": [],
   "source": [
    "if not os.path.exists('253887__themusicalnomad__positive-beeps.wav'):\n",
    "    !wget https://github.com/AllenDowney/ThinkDSP/raw/master/code/253887__themusicalnomad__positive-beeps.wav"
   ]
  },
  {
   "cell_type": "code",
   "execution_count": 4,
   "metadata": {
    "collapsed": false,
    "jupyter": {
     "outputs_hidden": false
    }
   },
   "outputs": [],
   "source": [
    "from thinkdsp import read_wave\n",
    "\n",
    "wave = read_wave('253887__themusicalnomad__positive-beeps.wav')\n",
    "wave.normalize()\n",
    "wave.plot()"
   ]
  },
  {
   "cell_type": "markdown",
   "metadata": {},
   "source": [
    "Here's what it sounds like."
   ]
  },
  {
   "cell_type": "code",
   "execution_count": 5,
   "metadata": {
    "collapsed": false,
    "jupyter": {
     "outputs_hidden": false
    }
   },
   "outputs": [],
   "source": [
    "wave.make_audio()"
   ]
  },
  {
   "cell_type": "markdown",
   "metadata": {},
   "source": [
    "And here's a sequence of 4 impulses with diminishing amplitudes:"
   ]
  },
  {
   "cell_type": "code",
   "execution_count": 6,
   "metadata": {
    "collapsed": false,
    "jupyter": {
     "outputs_hidden": false
    }
   },
   "outputs": [],
   "source": [
    "from thinkdsp import Impulses\n",
    "\n",
    "imp_sig = Impulses([0.005, 0.3, 0.6, 0.9], amps=[1, 0.5, 0.25, 0.1])\n",
    "impulses = imp_sig.make_wave(start=0, duration=1.0, framerate=wave.framerate)\n",
    "impulses.plot()\n",
    "decorate(xlabel='Time (s)')"
   ]
  },
  {
   "cell_type": "markdown",
   "metadata": {},
   "source": [
    "If we convolve the wave with the impulses, we get 4 shifted, scaled copies of the original sound."
   ]
  },
  {
   "cell_type": "code",
   "execution_count": 7,
   "metadata": {
    "collapsed": false,
    "jupyter": {
     "outputs_hidden": false
    }
   },
   "outputs": [],
   "source": [
    "convolved = wave.convolve(impulses)\n",
    "convolved.plot()"
   ]
  },
  {
   "cell_type": "markdown",
   "metadata": {},
   "source": [
    "And here's what it sounds like."
   ]
  },
  {
   "cell_type": "code",
   "execution_count": 8,
   "metadata": {
    "collapsed": false,
    "jupyter": {
     "outputs_hidden": false
    }
   },
   "outputs": [],
   "source": [
    "convolved.make_audio()"
   ]
  },
  {
   "cell_type": "markdown",
   "metadata": {},
   "source": [
    "## Amplitude modulation (AM)\n",
    "\n",
    "The previous example gives some insight into how AM works.\n",
    "\n",
    "First I'll load a recording that sounds like AM radio."
   ]
  },
  {
   "cell_type": "code",
   "execution_count": 9,
   "metadata": {},
   "outputs": [],
   "source": [
    "if not os.path.exists('105977__wcfl10__favorite-station.wav'):\n",
    "    !wget https://github.com/AllenDowney/ThinkDSP/raw/master/code/105977__wcfl10__favorite-station.wav"
   ]
  },
  {
   "cell_type": "code",
   "execution_count": 10,
   "metadata": {
    "collapsed": false,
    "jupyter": {
     "outputs_hidden": false
    }
   },
   "outputs": [],
   "source": [
    "wave = read_wave('105977__wcfl10__favorite-station.wav')\n",
    "wave.unbias()\n",
    "wave.normalize()\n",
    "wave.make_audio()"
   ]
  },
  {
   "cell_type": "markdown",
   "metadata": {},
   "source": [
    "Here's what the spectrum looks like:"
   ]
  },
  {
   "cell_type": "code",
   "execution_count": 11,
   "metadata": {
    "collapsed": false,
    "jupyter": {
     "outputs_hidden": false
    }
   },
   "outputs": [],
   "source": [
    "spectrum = wave.make_spectrum()\n",
    "spectrum.plot()\n",
    "decorate(xlabel='Frequency (Hz)')"
   ]
  },
  {
   "cell_type": "markdown",
   "metadata": {},
   "source": [
    "For the following examples, it will be more useful to look at the full spectrum, which includes the negative frequencies.  Since we are starting with a real signal, the spectrum is always symmetric."
   ]
  },
  {
   "cell_type": "code",
   "execution_count": 12,
   "metadata": {
    "collapsed": false,
    "jupyter": {
     "outputs_hidden": false
    }
   },
   "outputs": [],
   "source": [
    "spectrum = wave.make_spectrum(full=True)\n",
    "spectrum.plot()\n",
    "decorate(xlabel='Frequency (Hz)')"
   ]
  },
  {
   "cell_type": "markdown",
   "metadata": {},
   "source": [
    "Amplitude modulation works my multiplying the input signal by a \"carrier wave\", which is a cosine, 10 kHz in this example."
   ]
  },
  {
   "cell_type": "code",
   "execution_count": 13,
   "metadata": {
    "collapsed": false,
    "jupyter": {
     "outputs_hidden": false
    }
   },
   "outputs": [],
   "source": [
    "from thinkdsp import CosSignal\n",
    "\n",
    "carrier_sig = CosSignal(freq=10000)\n",
    "carrier_wave = carrier_sig.make_wave(duration=wave.duration, framerate=wave.framerate)"
   ]
  },
  {
   "cell_type": "markdown",
   "metadata": {},
   "source": [
    "The `*` operator performs elementwise multiplication."
   ]
  },
  {
   "cell_type": "code",
   "execution_count": 14,
   "metadata": {
    "collapsed": false,
    "jupyter": {
     "outputs_hidden": false
    }
   },
   "outputs": [],
   "source": [
    "modulated = wave * carrier_wave"
   ]
  },
  {
   "cell_type": "markdown",
   "metadata": {},
   "source": [
    "The result sounds pretty horrible."
   ]
  },
  {
   "cell_type": "code",
   "execution_count": 15,
   "metadata": {
    "collapsed": false,
    "jupyter": {
     "outputs_hidden": false
    }
   },
   "outputs": [],
   "source": [
    "modulated.make_audio()"
   ]
  },
  {
   "cell_type": "markdown",
   "metadata": {},
   "source": [
    "Why?  Because multiplication in the time domain corresponds to convolution in the frequency domain.  The DFT of the carrier wave is two impulses; convolution with those impulses makes shifted, scaled copies of the spectrum.\n",
    "\n",
    "Specifically, AM modulation has the effect of splitting the spectrum in two halves and shifting the frequencies by 10 kHz (notice that the amplitudes are half what they were in the previous plot)."
   ]
  },
  {
   "cell_type": "code",
   "execution_count": 16,
   "metadata": {
    "collapsed": false,
    "jupyter": {
     "outputs_hidden": false
    }
   },
   "outputs": [],
   "source": [
    "modulated.make_spectrum(full=True).plot()\n",
    "decorate(xlabel='Frequency (Hz)')"
   ]
  },
  {
   "cell_type": "markdown",
   "metadata": {},
   "source": [
    "To recover the signal, we modulate it again."
   ]
  },
  {
   "cell_type": "code",
   "execution_count": 17,
   "metadata": {
    "collapsed": false,
    "jupyter": {
     "outputs_hidden": false
    }
   },
   "outputs": [],
   "source": [
    "demodulated = modulated * carrier_wave"
   ]
  },
  {
   "cell_type": "markdown",
   "metadata": {},
   "source": [
    "Each half of the spectrum gets split and shifted again.  Two of the quarters get shifted to 0 and added up.  The other two are at $\\pm$20Khz"
   ]
  },
  {
   "cell_type": "code",
   "execution_count": 18,
   "metadata": {
    "collapsed": false,
    "jupyter": {
     "outputs_hidden": false
    }
   },
   "outputs": [],
   "source": [
    "demodulated_spectrum = demodulated.make_spectrum(full=True)\n",
    "demodulated_spectrum.plot()\n",
    "decorate(xlabel='Frequency (Hz)')"
   ]
  },
  {
   "cell_type": "markdown",
   "metadata": {},
   "source": [
    "If you listen to it now, it sounds pretty good.  You probably can't hear the extra components at high frequencies."
   ]
  },
  {
   "cell_type": "code",
   "execution_count": 19,
   "metadata": {
    "collapsed": false,
    "jupyter": {
     "outputs_hidden": false
    }
   },
   "outputs": [],
   "source": [
    "demodulated.make_audio()"
   ]
  },
  {
   "cell_type": "markdown",
   "metadata": {},
   "source": [
    "If we compare the input and output signals, they are pretty close."
   ]
  },
  {
   "cell_type": "code",
   "execution_count": 20,
   "metadata": {
    "collapsed": false,
    "jupyter": {
     "outputs_hidden": false
    }
   },
   "outputs": [],
   "source": [
    "wave.plot()\n",
    "demodulated.plot()\n",
    "decorate(xlabel='Time (s)')"
   ]
  },
  {
   "cell_type": "markdown",
   "metadata": {},
   "source": [
    "If the high frequency components bother you, you can clobber them by applying a low pass filter.  In this example, I use a \"brick wall\" filter that cuts off sharply at 10 kHz.  In real applications, we would use a more gentle filter."
   ]
  },
  {
   "cell_type": "code",
   "execution_count": 21,
   "metadata": {
    "collapsed": false,
    "jupyter": {
     "outputs_hidden": false
    }
   },
   "outputs": [],
   "source": [
    "demodulated_spectrum.low_pass(10000)\n",
    "demodulated_spectrum.plot()\n",
    "decorate(xlabel='Frequency (Hz)')"
   ]
  },
  {
   "cell_type": "markdown",
   "metadata": {},
   "source": [
    "Here's what it sounds like after filtering."
   ]
  },
  {
   "cell_type": "code",
   "execution_count": 22,
   "metadata": {
    "collapsed": false,
    "jupyter": {
     "outputs_hidden": false
    }
   },
   "outputs": [],
   "source": [
    "filtered = demodulated_spectrum.make_wave()\n",
    "filtered.make_audio()"
   ]
  },
  {
   "cell_type": "markdown",
   "metadata": {},
   "source": [
    "To understand how AM works, let's see what's going on in the frequency domain.\n",
    "\n",
    "When we multiply two signals in the time domain, that corresponds to convolution in the frequency domain.  The carrier wave is a cosine at 10 kHz, so its spectrum is two impulses, at $\\pm$ 10 kHz"
   ]
  },
  {
   "cell_type": "code",
   "execution_count": 23,
   "metadata": {
    "collapsed": false,
    "jupyter": {
     "outputs_hidden": false
    }
   },
   "outputs": [],
   "source": [
    "carrier_spectrum = carrier_wave.make_spectrum(full=True)\n",
    "carrier_spectrum.plot()\n",
    "decorate(xlabel='Frequency (Hz)')"
   ]
  },
  {
   "cell_type": "markdown",
   "metadata": {},
   "source": [
    "As we saw in the beep example, convolution with impulses makes shifted, scaled copies."
   ]
  },
  {
   "cell_type": "code",
   "execution_count": 24,
   "metadata": {
    "collapsed": false,
    "jupyter": {
     "outputs_hidden": false
    }
   },
   "outputs": [],
   "source": [
    "convolved = spectrum.convolve(carrier_spectrum)\n",
    "convolved.plot()\n",
    "decorate(xlabel='Frequency (Hz)')"
   ]
  },
  {
   "cell_type": "markdown",
   "metadata": {},
   "source": [
    "After one convolution, we have two peaks.  After two convolutions, we have four."
   ]
  },
  {
   "cell_type": "code",
   "execution_count": 25,
   "metadata": {
    "collapsed": false,
    "jupyter": {
     "outputs_hidden": false
    }
   },
   "outputs": [],
   "source": [
    "reconvolved = convolved.convolve(carrier_spectrum)\n",
    "reconvolved.plot()\n",
    "decorate(xlabel='Frequency (Hz)')"
   ]
  },
  {
   "cell_type": "markdown",
   "metadata": {},
   "source": [
    "And that's how AM works.  Now let's talk about sampling."
   ]
  },
  {
   "cell_type": "markdown",
   "metadata": {},
   "source": [
    "## Sampling\n",
    "\n",
    "I'll start with a recording of a drum break.  If you don't know about the Amen break, you might want to read this: https://en.wikipedia.org/wiki/Amen_break"
   ]
  },
  {
   "cell_type": "code",
   "execution_count": 61,
   "metadata": {},
   "outputs": [],
   "source": [
    "if not os.path.exists('263868__kevcio__amen-break-a-160-bpm.wav'):\n",
    "    !wget https://github.com/AllenDowney/ThinkDSP/raw/master/code/263868__kevcio__amen-break-a-160-bpm.wav"
   ]
  },
  {
   "cell_type": "code",
   "execution_count": 62,
   "metadata": {
    "collapsed": false,
    "jupyter": {
     "outputs_hidden": false
    }
   },
   "outputs": [],
   "source": [
    "wave = read_wave('263868__kevcio__amen-break-a-160-bpm.wav')\n",
    "wave.normalize()\n",
    "wave.plot()\n",
    "decorate(xlabel='Time (s)')"
   ]
  },
  {
   "cell_type": "markdown",
   "metadata": {},
   "source": [
    "This signal is sampled at 44100 Hz.  Here's what it sounds like."
   ]
  },
  {
   "cell_type": "code",
   "execution_count": 63,
   "metadata": {
    "collapsed": false,
    "jupyter": {
     "outputs_hidden": false
    }
   },
   "outputs": [],
   "source": [
    "wave.make_audio()"
   ]
  },
  {
   "cell_type": "markdown",
   "metadata": {},
   "source": [
    "And here's the spectrum:"
   ]
  },
  {
   "cell_type": "code",
   "execution_count": 29,
   "metadata": {
    "collapsed": false,
    "jupyter": {
     "outputs_hidden": false
    }
   },
   "outputs": [],
   "source": [
    "wave.make_spectrum(full=True).plot()\n",
    "decorate(xlabel='Frequency (Hz)')"
   ]
  },
  {
   "cell_type": "markdown",
   "metadata": {},
   "source": [
    "Even though this signal has already been sampled, let's pretend it hasn't.  So we'll treat the original wave as if it were a continuous analog signal.\n",
    "\n",
    "Now I'm going to sample it at 1/4 of the framerate (11025 Hz) by keeping every 4th sample and setting the rest to zero."
   ]
  },
  {
   "cell_type": "code",
   "execution_count": 30,
   "metadata": {},
   "outputs": [],
   "source": [
    "from thinkdsp import Wave\n",
    "\n",
    "def sample(wave, factor):\n",
    "    \"\"\"Simulates sampling of a wave.\n",
    "    \n",
    "    wave: Wave object\n",
    "    factor: ratio of the new framerate to the original\n",
    "    \"\"\"\n",
    "    ys = np.zeros(len(wave))\n",
    "    ys[::factor] = wave.ys[::factor]\n",
    "    return Wave(ys, framerate=wave.framerate) "
   ]
  },
  {
   "cell_type": "markdown",
   "metadata": {},
   "source": [
    "The result doesn't sound very good.  It has a bunch of extra high frequency components."
   ]
  },
  {
   "cell_type": "code",
   "execution_count": 31,
   "metadata": {
    "collapsed": false,
    "jupyter": {
     "outputs_hidden": false
    }
   },
   "outputs": [],
   "source": [
    "sampled = sample(wave, 4)\n",
    "sampled.make_audio()"
   ]
  },
  {
   "cell_type": "markdown",
   "metadata": {},
   "source": [
    "If we look at the spectrum, we can see the extra components."
   ]
  },
  {
   "cell_type": "code",
   "execution_count": 32,
   "metadata": {
    "collapsed": false,
    "jupyter": {
     "outputs_hidden": false
    }
   },
   "outputs": [],
   "source": [
    "sampled.make_spectrum(full=True).plot()\n",
    "decorate(xlabel='Frequency (Hz)')"
   ]
  },
  {
   "cell_type": "markdown",
   "metadata": {},
   "source": [
    "To understand where those came from, it helps to think of sampling as multiplication with an \"impulse train\".  The following function is similar to `sample`, but it makes the impulse train explicit."
   ]
  },
  {
   "cell_type": "code",
   "execution_count": 33,
   "metadata": {},
   "outputs": [],
   "source": [
    "def make_impulses(wave, factor):\n",
    "    ys = np.zeros(len(wave))\n",
    "    ys[::factor] = 1\n",
    "    ts = np.arange(len(wave)) / wave.framerate\n",
    "    return Wave(ys, ts, wave.framerate)\n",
    "\n",
    "impulses = make_impulses(wave, 4)"
   ]
  },
  {
   "cell_type": "markdown",
   "metadata": {},
   "source": [
    "Multiplying by `impulses` has the same effect as `sample`."
   ]
  },
  {
   "cell_type": "code",
   "execution_count": 34,
   "metadata": {
    "collapsed": false,
    "jupyter": {
     "outputs_hidden": false
    }
   },
   "outputs": [],
   "source": [
    "sampled = wave * impulses\n",
    "sampled.make_audio()"
   ]
  },
  {
   "cell_type": "markdown",
   "metadata": {},
   "source": [
    "Now if we look at the spectrum of `impulses`, we can see what's going on in the frequency domain."
   ]
  },
  {
   "cell_type": "code",
   "execution_count": 35,
   "metadata": {
    "collapsed": false,
    "jupyter": {
     "outputs_hidden": false
    }
   },
   "outputs": [],
   "source": [
    "impulses.make_spectrum(full=True).plot()\n",
    "decorate(xlabel='Frequency (Hz)')"
   ]
  },
  {
   "cell_type": "markdown",
   "metadata": {},
   "source": [
    "Multiplying by `impulses` makes 4 shifted copies of the original spectrum.  One of them wraps around from the negative end of the spectrum to the positive, which is why there are 5 peaks in the spectrum off the sampled wave."
   ]
  },
  {
   "cell_type": "code",
   "execution_count": 36,
   "metadata": {},
   "outputs": [],
   "source": [
    "def show_impulses(wave, factor):\n",
    "    impulses = make_impulses(wave, factor)\n",
    "    plt.subplot(1, 2, 1)\n",
    "    impulses.segment(0, 0.001).plot_vlines(linewidth=2)\n",
    "    decorate(xlabel='Time (s)')\n",
    "    \n",
    "    plt.subplot(1, 2, 2)\n",
    "    impulses.make_spectrum(full=True).plot()\n",
    "    decorate(xlabel='Frequency (Hz)', xlim=[-22400, 22400])"
   ]
  },
  {
   "cell_type": "markdown",
   "metadata": {},
   "source": [
    "As we take fewer samples, they get farther apart in the time domain and the copies of the spectrum get closer together in the frequency domain.\n",
    "\n",
    "As you vary the sampling factor, below, you can see the effect."
   ]
  },
  {
   "cell_type": "code",
   "execution_count": 37,
   "metadata": {
    "collapsed": false,
    "jupyter": {
     "outputs_hidden": false
    }
   },
   "outputs": [],
   "source": [
    "from ipywidgets import interact, interactive, fixed\n",
    "import ipywidgets as widgets\n",
    "\n",
    "slider = widgets.IntSlider(min=2, max=32, value=4)\n",
    "interact(show_impulses, wave=fixed(wave), factor=slider);"
   ]
  },
  {
   "cell_type": "markdown",
   "metadata": {},
   "source": [
    "To recover the original wave, we can apply a low pass filter to clobber the unwanted copies.  The wave was sampled at 11025 Hz, so we'll cut it off at the Nyquist frequency, 5512.5."
   ]
  },
  {
   "cell_type": "code",
   "execution_count": 38,
   "metadata": {
    "collapsed": false,
    "jupyter": {
     "outputs_hidden": false
    }
   },
   "outputs": [],
   "source": [
    "spectrum = sampled.make_spectrum(full=True)\n",
    "spectrum.low_pass(5512.5)\n",
    "spectrum.plot()\n",
    "decorate(xlabel='Frequency (Hz)')"
   ]
  },
  {
   "cell_type": "markdown",
   "metadata": {},
   "source": [
    "The result sounds quite different from the original, for two reasons:\n",
    "\n",
    "1. Because we had to cut off frequencies about 5512.5 Hz, we lost some of the high frequency components of the original signal.\n",
    "2. Even for the frequencies below 5512.5 Hz, the spectrum is not quite right, because it includes contributions leftover from the extra copies."
   ]
  },
  {
   "cell_type": "code",
   "execution_count": 39,
   "metadata": {
    "collapsed": false,
    "jupyter": {
     "outputs_hidden": false
    }
   },
   "outputs": [],
   "source": [
    "filtered = spectrum.make_wave()\n",
    "filtered.make_audio()"
   ]
  },
  {
   "cell_type": "markdown",
   "metadata": {},
   "source": [
    "We can see that the original and the sampled/filtered signal are not the same:"
   ]
  },
  {
   "cell_type": "code",
   "execution_count": 40,
   "metadata": {
    "collapsed": false,
    "jupyter": {
     "outputs_hidden": false
    }
   },
   "outputs": [],
   "source": [
    "def plot_segments(original, filtered):\n",
    "    start = 1\n",
    "    duration = 0.01\n",
    "    original.segment(start=start, duration=duration).plot(color='gray')\n",
    "    filtered.segment(start=start, duration=duration).plot()"
   ]
  },
  {
   "cell_type": "code",
   "execution_count": 41,
   "metadata": {
    "collapsed": false,
    "jupyter": {
     "outputs_hidden": false
    }
   },
   "outputs": [],
   "source": [
    "plot_segments(wave, filtered)"
   ]
  },
  {
   "cell_type": "markdown",
   "metadata": {},
   "source": [
    "Sampling didn't work very well with this signal because it contains a lot of components above the Nyquist frequency.\n",
    "\n",
    "## Sampling, take two\n",
    "\n",
    "Let's try again with a bass guitar intro (can you name that tune?).\n"
   ]
  },
  {
   "cell_type": "code",
   "execution_count": 42,
   "metadata": {},
   "outputs": [],
   "source": [
    "if not os.path.exists('328878__tzurkan__guitar-phrase-tzu.wav'):\n",
    "    !wget https://github.com/AllenDowney/ThinkDSP/raw/master/code/328878__tzurkan__guitar-phrase-tzu.wav"
   ]
  },
  {
   "cell_type": "code",
   "execution_count": 43,
   "metadata": {
    "collapsed": false,
    "jupyter": {
     "outputs_hidden": false
    }
   },
   "outputs": [],
   "source": [
    "wave = read_wave('328878__tzurkan__guitar-phrase-tzu.wav')\n",
    "wave.normalize()\n",
    "wave.plot()\n",
    "decorate(xlabel='Time (s)')"
   ]
  },
  {
   "cell_type": "markdown",
   "metadata": {},
   "source": [
    "Unless you have good speakers, it might not sound very good."
   ]
  },
  {
   "cell_type": "code",
   "execution_count": 44,
   "metadata": {
    "collapsed": false,
    "jupyter": {
     "outputs_hidden": false
    }
   },
   "outputs": [],
   "source": [
    "wave.make_audio()"
   ]
  },
  {
   "cell_type": "markdown",
   "metadata": {},
   "source": [
    "Here's the spectrum.  Not a lot of high frequency components!"
   ]
  },
  {
   "cell_type": "code",
   "execution_count": 45,
   "metadata": {
    "collapsed": false,
    "jupyter": {
     "outputs_hidden": false
    }
   },
   "outputs": [],
   "source": [
    "wave.make_spectrum(full=True).plot()\n",
    "decorate(xlabel='Frequency (Hz)')"
   ]
  },
  {
   "cell_type": "markdown",
   "metadata": {},
   "source": [
    "Here's the spectrum after sampling:"
   ]
  },
  {
   "cell_type": "code",
   "execution_count": 46,
   "metadata": {
    "collapsed": false,
    "jupyter": {
     "outputs_hidden": false
    }
   },
   "outputs": [],
   "source": [
    "sampled = sample(wave, 4)\n",
    "sampled.make_spectrum(full=True).plot()\n",
    "decorate(xlabel='Frequency (Hz)')"
   ]
  },
  {
   "cell_type": "markdown",
   "metadata": {},
   "source": [
    "And here's what it sounds like:"
   ]
  },
  {
   "cell_type": "code",
   "execution_count": 47,
   "metadata": {
    "collapsed": false,
    "jupyter": {
     "outputs_hidden": false
    }
   },
   "outputs": [],
   "source": [
    "sampled.make_audio()"
   ]
  },
  {
   "cell_type": "markdown",
   "metadata": {},
   "source": [
    "Now, instead of using `Spectrum.low_pass`, I'm going to make the low pass filter explicitly.  I'm calling it `boxcar` because it looks like the boxcar smoothing window from Chapter 8."
   ]
  },
  {
   "cell_type": "code",
   "execution_count": 48,
   "metadata": {
    "collapsed": false,
    "jupyter": {
     "outputs_hidden": false
    }
   },
   "outputs": [],
   "source": [
    "from thinkdsp import Spectrum\n",
    "\n",
    "def make_boxcar(spectrum, factor):\n",
    "    \"\"\"Makes a boxcar filter for the given spectrum.\n",
    "    \n",
    "    spectrum: Spectrum to be filtered\n",
    "    factor: sampling factor\n",
    "    \"\"\"\n",
    "    fs = np.copy(spectrum.fs)\n",
    "    hs = np.zeros_like(spectrum.hs)\n",
    "    \n",
    "    cutoff = spectrum.framerate / 2 / factor\n",
    "    for i, f in enumerate(fs):\n",
    "        if abs(f) <= cutoff:\n",
    "            hs[i] = 1\n",
    "    return Spectrum(hs, fs, spectrum.framerate, full=spectrum.full)"
   ]
  },
  {
   "cell_type": "markdown",
   "metadata": {},
   "source": [
    "Here's what it looks like:"
   ]
  },
  {
   "cell_type": "code",
   "execution_count": 49,
   "metadata": {
    "collapsed": false,
    "jupyter": {
     "outputs_hidden": false
    }
   },
   "outputs": [],
   "source": [
    "spectrum = sampled.make_spectrum(full=True)\n",
    "boxcar = make_boxcar(spectrum, 4)\n",
    "boxcar.plot()\n",
    "decorate(xlabel='Frequency (Hz)')"
   ]
  },
  {
   "cell_type": "markdown",
   "metadata": {},
   "source": [
    "Now we can apply the filter by multiplying in the frequency domain."
   ]
  },
  {
   "cell_type": "code",
   "execution_count": 50,
   "metadata": {
    "collapsed": false,
    "jupyter": {
     "outputs_hidden": false
    }
   },
   "outputs": [],
   "source": [
    "filtered = (spectrum * boxcar).make_wave()\n",
    "filtered.scale(4)\n",
    "filtered.make_spectrum(full=True).plot()\n",
    "decorate(xlabel='Frequency (Hz)')"
   ]
  },
  {
   "cell_type": "markdown",
   "metadata": {},
   "source": [
    "Now if we listen to the sampled/filtered wave, it sounds pretty good."
   ]
  },
  {
   "cell_type": "code",
   "execution_count": 51,
   "metadata": {
    "collapsed": false,
    "jupyter": {
     "outputs_hidden": false
    }
   },
   "outputs": [],
   "source": [
    "filtered.make_audio()"
   ]
  },
  {
   "cell_type": "markdown",
   "metadata": {},
   "source": [
    "And if we compare it to the original, it is almost identical."
   ]
  },
  {
   "cell_type": "code",
   "execution_count": 52,
   "metadata": {
    "collapsed": false,
    "jupyter": {
     "outputs_hidden": false
    }
   },
   "outputs": [],
   "source": [
    "plot_segments(wave, filtered)\n",
    "decorate(xlabel='Time (s)')"
   ]
  },
  {
   "cell_type": "markdown",
   "metadata": {},
   "source": [
    "It's not completely identical because the original signal had some tiny components above the Nyquist frequency.  But the differences are small."
   ]
  },
  {
   "cell_type": "code",
   "execution_count": 53,
   "metadata": {
    "collapsed": false,
    "jupyter": {
     "outputs_hidden": false
    }
   },
   "outputs": [],
   "source": [
    "diff = wave.ys - filtered.ys\n",
    "plt.plot(diff.real)\n",
    "np.mean(abs(diff))"
   ]
  },
  {
   "cell_type": "markdown",
   "metadata": {},
   "source": [
    "Multiplying the spectrum of the sampled signal and the boxcar filter, in the frequency domain, corresponds to convolution in the time domain.  And you might wonder what the convolution window looks like.  We can find out by computing the wave that corresponds to the boxcar filter."
   ]
  },
  {
   "cell_type": "code",
   "execution_count": 54,
   "metadata": {
    "collapsed": false,
    "jupyter": {
     "outputs_hidden": false
    }
   },
   "outputs": [],
   "source": [
    "sinc = boxcar.make_wave()\n",
    "ys = np.roll(sinc.ys, 50)\n",
    "plt.plot(ys[:100].real)\n",
    "decorate(xlabel='Index')"
   ]
  },
  {
   "cell_type": "markdown",
   "metadata": {},
   "source": [
    "It's the sinc function, which you can read about at https://en.wikipedia.org/wiki/Sinc_function\n",
    "\n",
    "## Sinc interpolation\n",
    "\n",
    "Multiplying by a boxcar filter corresponds to convolution with a sinc function, which has the effect of interpolating between the samples.  To see how that works, let's zoom in on a short segment of the signal:"
   ]
  },
  {
   "cell_type": "code",
   "execution_count": 55,
   "metadata": {
    "collapsed": false,
    "jupyter": {
     "outputs_hidden": false
    }
   },
   "outputs": [],
   "source": [
    "start = 1.0\n",
    "duration = 0.01\n",
    "factor = 8\n",
    "\n",
    "short = wave.segment(start=start, duration=duration)\n",
    "short.plot()\n",
    "decorate(xlabel='Time (s)')"
   ]
  },
  {
   "cell_type": "markdown",
   "metadata": {},
   "source": [
    "Now I'll sample the signal and show the samples using vertical lines:"
   ]
  },
  {
   "cell_type": "code",
   "execution_count": 56,
   "metadata": {
    "collapsed": false,
    "jupyter": {
     "outputs_hidden": false
    }
   },
   "outputs": [],
   "source": [
    "sampled = sample(short, factor)\n",
    "sampled.plot_vlines(color='gray')\n",
    "decorate(xlabel='Time(s)')"
   ]
  },
  {
   "cell_type": "markdown",
   "metadata": {},
   "source": [
    "We can use the sampled spectrum to construct the sinc function.  In this example I\n",
    "\n",
    "1. Shift the sinc function in time so it lines up with the sampled segment (both start at 1.0 seconds).\n",
    "\n",
    "2. Roll the sinc function so the peak is in the middle, just because it looks better that way."
   ]
  },
  {
   "cell_type": "code",
   "execution_count": 57,
   "metadata": {
    "collapsed": false,
    "jupyter": {
     "outputs_hidden": false
    }
   },
   "outputs": [],
   "source": [
    "spectrum = sampled.make_spectrum()\n",
    "boxcar = make_boxcar(spectrum, factor)\n",
    "sinc = boxcar.make_wave()\n",
    "sinc.shift(sampled.ts[0])\n",
    "sinc.roll(len(sinc)//2)\n",
    "\n",
    "sinc.plot()\n",
    "decorate(xlabel='Time(s)')"
   ]
  },
  {
   "cell_type": "markdown",
   "metadata": {},
   "source": [
    "The following figure shows how convolution makes lots of shifted, scaled copies of the sinc function and adds them up. "
   ]
  },
  {
   "cell_type": "code",
   "execution_count": 58,
   "metadata": {
    "collapsed": false,
    "jupyter": {
     "outputs_hidden": false
    }
   },
   "outputs": [],
   "source": [
    "def plot_sinc_demo(wave, factor, start=None, duration=None):\n",
    "\n",
    "    def make_sinc(t, i, y):\n",
    "        \"\"\"Makes a shifted, scaled copy of the sinc function.\"\"\"\n",
    "        sinc = boxcar.make_wave()\n",
    "        sinc.shift(t)\n",
    "        sinc.roll(i)\n",
    "        sinc.scale(y * factor)\n",
    "        return sinc\n",
    " \n",
    "    def plot_sincs(wave):\n",
    "        \"\"\"Plots sinc functions for each sample in wave.\"\"\"\n",
    "        t0 = wave.ts[0]\n",
    "        for i in range(0, len(wave), factor):\n",
    "            sinc = make_sinc(t0, i, wave.ys[i])\n",
    "            seg = sinc.segment(start, duration)\n",
    "            seg.plot(color='green', linewidth=0.5, alpha=0.3)\n",
    "            if i == 0:\n",
    "                total = sinc\n",
    "            else:\n",
    "                total += sinc\n",
    "            \n",
    "        seg = total.segment(start, duration)        \n",
    "        seg.plot(color='blue', alpha=0.5)\n",
    "\n",
    "    sampled = sample(wave, factor)\n",
    "    spectrum = sampled.make_spectrum()\n",
    "    boxcar = make_boxcar(spectrum, factor)\n",
    "\n",
    "    start = wave.start if start is None else start\n",
    "    duration = wave.duration if duration is None else duration\n",
    "        \n",
    "    sampled.segment(start, duration).plot_vlines(color='gray')\n",
    "    wave.segment(start, duration).plot(color='gray')\n",
    "    plot_sincs(wave)"
   ]
  },
  {
   "cell_type": "code",
   "execution_count": 59,
   "metadata": {
    "collapsed": false,
    "jupyter": {
     "outputs_hidden": false
    }
   },
   "outputs": [],
   "source": [
    "# CAUTION: don't call plot_sinc_demo with a large wave or it will\n",
    "# fill memory and crash\n",
    "plot_sinc_demo(short, 4)"
   ]
  },
  {
   "cell_type": "markdown",
   "metadata": {},
   "source": [
    "In this figure:\n",
    "\n",
    "1. The thin green lines are the shifted, scaled copies of the sinc function.\n",
    "2. The blue line is the sum of the sinc functions.\n",
    "3. The gray line (which you mostly can't see) is the original function.\n",
    "\n",
    "The sum of the sinc functions interpolates between the samples and recovers the original wave.  At the beginning and end, where the interpolation deviates from the original; the problem is that the original is not periodic, so the sinc interpolation breaks at the boundaries.\n",
    "\n",
    "If we zoom in on a short segment, we can see how it works more clearly."
   ]
  },
  {
   "cell_type": "code",
   "execution_count": 60,
   "metadata": {
    "collapsed": false,
    "jupyter": {
     "outputs_hidden": false
    }
   },
   "outputs": [],
   "source": [
    "start = short.start + 0.004\n",
    "duration = 0.00061\n",
    "plot_sinc_demo(short, 4, start, duration)\n",
    "decorate(xlim=[start, start+duration],\n",
    "         ylim=[-0.05, 0.17])"
   ]
  },
  {
   "cell_type": "markdown",
   "metadata": {},
   "source": [
    "The vertical gray lines are the samples.\n",
    "\n",
    "Again, the thin green lines are the shifted, scaled copies of the sinc function.\n",
    "\n",
    "In this segment, the interpolation matches the original wave very well.\n",
    "\n",
    "Notice that each sinc function has a peak at the location of one sample and the value 0 at every other sample location.  That way, when we add them up, the sum passes through each of the samples."
   ]
  },
  {
   "cell_type": "code",
   "execution_count": null,
   "metadata": {
    "collapsed": true,
    "jupyter": {
     "outputs_hidden": true
    }
   },
   "outputs": [],
   "source": []
  }
 ],
 "metadata": {
  "kernelspec": {
   "display_name": "Python 3",
   "language": "python",
   "name": "python3"
  },
  "language_info": {
   "codemirror_mode": {
    "name": "ipython",
    "version": 3
   },
   "file_extension": ".py",
   "mimetype": "text/x-python",
   "name": "python",
   "nbconvert_exporter": "python",
   "pygments_lexer": "ipython3",
   "version": "3.6.10"
  }
 },
 "nbformat": 4,
 "nbformat_minor": 4
}
