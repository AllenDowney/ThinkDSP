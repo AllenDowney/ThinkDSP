{
 "cells": [
  {
   "cell_type": "markdown",
   "metadata": {},
   "source": [
    "## ThinkDSP\n",
    "\n",
    "This notebook contains code examples from Chapter 3: Non-periodic signals\n",
    "\n",
    "Copyright 2015 Allen Downey\n",
    "\n",
    "License: [Creative Commons Attribution 4.0 International](http://creativecommons.org/licenses/by/4.0/)"
   ]
  },
  {
   "cell_type": "code",
   "execution_count": 1,
   "metadata": {},
   "outputs": [],
   "source": [
    "# Get thinkdsp.py\n",
    "\n",
    "import os\n",
    "\n",
    "if not os.path.exists('thinkdsp.py'):\n",
    "    !wget https://github.com/AllenDowney/ThinkDSP/raw/master/code/thinkdsp.py"
   ]
  },
  {
   "cell_type": "code",
   "execution_count": 2,
   "metadata": {},
   "outputs": [],
   "source": [
    "import numpy as np\n",
    "import matplotlib.pyplot as plt\n",
    "\n",
    "from thinkdsp import decorate"
   ]
  },
  {
   "cell_type": "markdown",
   "metadata": {},
   "source": [
    "### Chirp\n",
    "\n",
    "Make a linear chirp from A3 to A5."
   ]
  },
  {
   "cell_type": "code",
   "execution_count": 3,
   "metadata": {},
   "outputs": [],
   "source": [
    "from thinkdsp import Chirp\n",
    "\n",
    "signal = Chirp(start=220, end=880)\n",
    "wave1 = signal.make_wave(duration=2)\n",
    "wave1.make_audio()"
   ]
  },
  {
   "cell_type": "markdown",
   "metadata": {},
   "source": [
    "Here's what the waveform looks like near the beginning."
   ]
  },
  {
   "cell_type": "code",
   "execution_count": 4,
   "metadata": {},
   "outputs": [],
   "source": [
    "wave1.segment(start=0, duration=0.01).plot()\n",
    "decorate(xlabel='Time (s)')"
   ]
  },
  {
   "cell_type": "markdown",
   "metadata": {},
   "source": [
    "And near the end."
   ]
  },
  {
   "cell_type": "code",
   "execution_count": 5,
   "metadata": {},
   "outputs": [],
   "source": [
    "wave1.segment(start=0.9, duration=0.01).plot()\n",
    "decorate(xlabel='Time (s)')"
   ]
  },
  {
   "cell_type": "markdown",
   "metadata": {},
   "source": [
    "Here's an exponential chirp with the same frequency range and duration."
   ]
  },
  {
   "cell_type": "code",
   "execution_count": 6,
   "metadata": {},
   "outputs": [],
   "source": [
    "from thinkdsp import ExpoChirp\n",
    "\n",
    "signal = ExpoChirp(start=220, end=880)\n",
    "wave2 = signal.make_wave(duration=2)\n",
    "wave2.make_audio()"
   ]
  },
  {
   "cell_type": "markdown",
   "metadata": {},
   "source": [
    "## Leakage\n",
    "\n",
    "Spectral leakage is when some of the energy at one frequency appears at another frequency (usually nearby).\n",
    "\n",
    "Let's look at the effect of leakage on a sine signal (which only contains one frequency component)."
   ]
  },
  {
   "cell_type": "code",
   "execution_count": 7,
   "metadata": {},
   "outputs": [],
   "source": [
    "from thinkdsp import SinSignal\n",
    "\n",
    "signal = SinSignal(freq=440)"
   ]
  },
  {
   "cell_type": "markdown",
   "metadata": {},
   "source": [
    "If the duration is an integer multiple of the period, the beginning and end of the segment line up, and we get minimal leakage."
   ]
  },
  {
   "cell_type": "code",
   "execution_count": 8,
   "metadata": {},
   "outputs": [],
   "source": [
    "duration = signal.period * 30\n",
    "wave = signal.make_wave(duration)\n",
    "wave.plot()\n",
    "decorate(xlabel='Time (s)')"
   ]
  },
  {
   "cell_type": "code",
   "execution_count": 9,
   "metadata": {},
   "outputs": [],
   "source": [
    "spectrum = wave.make_spectrum()\n",
    "spectrum.plot(high=880)\n",
    "decorate(xlabel='Frequency (Hz)', ylabel='Amplitude')"
   ]
  },
  {
   "cell_type": "markdown",
   "metadata": {},
   "source": [
    "If the duration is not a multiple of a period, the leakage is pretty bad."
   ]
  },
  {
   "cell_type": "code",
   "execution_count": 10,
   "metadata": {},
   "outputs": [],
   "source": [
    "duration = signal.period * 30.25\n",
    "wave = signal.make_wave(duration)\n",
    "wave.plot()\n",
    "decorate(xlabel='Time (s)')"
   ]
  },
  {
   "cell_type": "code",
   "execution_count": 11,
   "metadata": {},
   "outputs": [],
   "source": [
    "spectrum = wave.make_spectrum()\n",
    "spectrum.plot(high=880)\n",
    "decorate(xlabel='Frequency (Hz)')"
   ]
  },
  {
   "cell_type": "markdown",
   "metadata": {},
   "source": [
    "Windowing helps (but notice that it reduces the total energy)."
   ]
  },
  {
   "cell_type": "code",
   "execution_count": 12,
   "metadata": {},
   "outputs": [],
   "source": [
    "wave.hamming()\n",
    "spectrum = wave.make_spectrum()\n",
    "spectrum.plot(high=880)\n",
    "decorate(xlabel='Frequency (Hz)')"
   ]
  },
  {
   "cell_type": "markdown",
   "metadata": {},
   "source": [
    "## Spectrogram\n",
    "\n",
    "If you blindly compute the DFT of a non-periodic segment, you get \"motion blur\"."
   ]
  },
  {
   "cell_type": "code",
   "execution_count": 13,
   "metadata": {},
   "outputs": [],
   "source": [
    "signal = Chirp(start=220, end=440)\n",
    "wave = signal.make_wave(duration=1)\n",
    "spectrum = wave.make_spectrum()\n",
    "spectrum.plot(high=700)\n",
    "decorate(xlabel='Frequency (Hz)')"
   ]
  },
  {
   "cell_type": "markdown",
   "metadata": {},
   "source": [
    "A spectrogram is a visualization of a short-time DFT that lets you see how the spectrum varies over time."
   ]
  },
  {
   "cell_type": "code",
   "execution_count": 14,
   "metadata": {},
   "outputs": [],
   "source": [
    "def plot_spectrogram(wave, seg_length):\n",
    "    \"\"\"\n",
    "    \"\"\"\n",
    "    spectrogram = wave.make_spectrogram(seg_length)\n",
    "    print('Time resolution (s)', spectrogram.time_res)\n",
    "    print('Frequency resolution (Hz)', spectrogram.freq_res)\n",
    "    spectrogram.plot(high=700)\n",
    "    decorate(xlabel='Time(s)', ylabel='Frequency (Hz)')"
   ]
  },
  {
   "cell_type": "code",
   "execution_count": 15,
   "metadata": {},
   "outputs": [],
   "source": [
    "signal = Chirp(start=220, end=440)\n",
    "wave = signal.make_wave(duration=1, framerate=11025)\n",
    "plot_spectrogram(wave, 512)"
   ]
  },
  {
   "cell_type": "markdown",
   "metadata": {},
   "source": [
    "If you increase the segment length, you get better frequency resolution, worse time resolution."
   ]
  },
  {
   "cell_type": "code",
   "execution_count": 16,
   "metadata": {},
   "outputs": [],
   "source": [
    "plot_spectrogram(wave, 1024)"
   ]
  },
  {
   "cell_type": "markdown",
   "metadata": {},
   "source": [
    "If you decrease the segment length, you get better time resolution, worse frequency resolution."
   ]
  },
  {
   "cell_type": "code",
   "execution_count": 17,
   "metadata": {},
   "outputs": [],
   "source": [
    "plot_spectrogram(wave, 256)"
   ]
  },
  {
   "cell_type": "code",
   "execution_count": 18,
   "metadata": {},
   "outputs": [],
   "source": [
    "from ipywidgets import interact, interactive, fixed\n",
    "import ipywidgets as widgets\n",
    "\n",
    "slider = widgets.IntSlider(min=128, max=4096, value=100, step=128)\n",
    "interact(plot_spectrogram, wave=fixed(wave), seg_length=slider);"
   ]
  },
  {
   "cell_type": "markdown",
   "metadata": {},
   "source": [
    "## Spectrum of a chirp\n",
    "\n",
    "The following interaction lets you customize the Eye of Sauron as you vary the start and end frequency of the chirp."
   ]
  },
  {
   "cell_type": "code",
   "execution_count": 19,
   "metadata": {},
   "outputs": [],
   "source": [
    "def eye_of_sauron(start, end):\n",
    "    \"\"\"Plots the spectrum of a chirp.\n",
    "    \n",
    "    start: initial frequency\n",
    "    end: final frequency\n",
    "    \"\"\"\n",
    "    signal =  Chirp(start=start, end=end)\n",
    "    wave = signal.make_wave(duration=0.5)\n",
    "    spectrum = wave.make_spectrum()\n",
    "    \n",
    "    spectrum.plot(high=1200)\n",
    "    decorate(xlabel='Frequency (Hz)', ylabel='Amplitude')"
   ]
  },
  {
   "cell_type": "code",
   "execution_count": 20,
   "metadata": {},
   "outputs": [],
   "source": [
    "slider1 = widgets.FloatSlider(min=100, max=1000, value=100, step=50)\n",
    "slider2 = widgets.FloatSlider(min=100, max=1000, value=200, step=50)\n",
    "interact(eye_of_sauron, start=slider1, end=slider2);"
   ]
  },
  {
   "cell_type": "code",
   "execution_count": null,
   "metadata": {
    "collapsed": true,
    "jupyter": {
     "outputs_hidden": true
    }
   },
   "outputs": [],
   "source": []
  }
 ],
 "metadata": {
  "kernelspec": {
   "display_name": "Python 3 (ipykernel)",
   "language": "python",
   "name": "python3"
  },
  "language_info": {
   "codemirror_mode": {
    "name": "ipython",
    "version": 3
   },
   "file_extension": ".py",
   "mimetype": "text/x-python",
   "name": "python",
   "nbconvert_exporter": "python",
   "pygments_lexer": "ipython3",
   "version": "3.8.16"
  }
 },
 "nbformat": 4,
 "nbformat_minor": 4
}
