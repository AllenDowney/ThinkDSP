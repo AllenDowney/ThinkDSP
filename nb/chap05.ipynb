{
 "cells": [
  {
   "cell_type": "markdown",
   "metadata": {},
   "source": [
    "## ThinkDSP\n",
    "\n",
    "This notebook contains code examples from Chapter 5: Autocorrelation\n",
    "\n",
    "Copyright 2015 Allen Downey\n",
    "\n",
    "License: [Creative Commons Attribution 4.0 International](http://creativecommons.org/licenses/by/4.0/)"
   ]
  },
  {
   "cell_type": "code",
   "execution_count": 1,
   "metadata": {
    "jupyter": {
     "outputs_hidden": false
    }
   },
   "outputs": [],
   "source": [
    "# Get thinkdsp.py\n",
    "\n",
    "import os\n",
    "\n",
    "if not os.path.exists('thinkdsp.py'):\n",
    "    !wget https://github.com/AllenDowney/ThinkDSP/raw/master/code/thinkdsp.py"
   ]
  },
  {
   "cell_type": "code",
   "execution_count": 2,
   "metadata": {},
   "outputs": [],
   "source": [
    "import numpy as np\n",
    "import matplotlib.pyplot as plt\n",
    "\n",
    "from thinkdsp import decorate"
   ]
  },
  {
   "cell_type": "markdown",
   "metadata": {},
   "source": [
    "To investigate serial correlation of signals, let's start with a sine wave at 440 Hz."
   ]
  },
  {
   "cell_type": "code",
   "execution_count": 3,
   "metadata": {
    "jupyter": {
     "outputs_hidden": false
    }
   },
   "outputs": [],
   "source": [
    "from thinkdsp import SinSignal\n",
    "\n",
    "def make_sine(offset):\n",
    "    signal = SinSignal(freq=440, offset=offset)\n",
    "    wave = signal.make_wave(duration=0.5, framerate=10000)\n",
    "    return wave"
   ]
  },
  {
   "cell_type": "markdown",
   "metadata": {},
   "source": [
    "I'll make two waves with different phase offsets."
   ]
  },
  {
   "cell_type": "code",
   "execution_count": 4,
   "metadata": {
    "jupyter": {
     "outputs_hidden": false
    }
   },
   "outputs": [],
   "source": [
    "wave1 = make_sine(offset=0)\n",
    "wave2 = make_sine(offset=1)\n",
    "\n",
    "wave1.segment(duration=0.01).plot()\n",
    "wave2.segment(duration=0.01).plot()\n",
    "decorate(xlabel='Time (s)')"
   ]
  },
  {
   "cell_type": "markdown",
   "metadata": {},
   "source": [
    "The two waves appears correlated: when one is high, the other is usually high, too.\n",
    "\n",
    "We can use `np.corrcoef` to compute the correlation matrix."
   ]
  },
  {
   "cell_type": "code",
   "execution_count": 5,
   "metadata": {
    "jupyter": {
     "outputs_hidden": false
    }
   },
   "outputs": [],
   "source": [
    "print(np.corrcoef(wave1.ys, wave2.ys))"
   ]
  },
  {
   "cell_type": "markdown",
   "metadata": {},
   "source": [
    "The diagonal elements are the correlations of the waves with themselves, which is why they are 1.\n",
    "The off-diagonal elements are the correlations between the two waves.  In this case, 0.54 indicates that there is a moderate correlation between these waves.\n",
    "\n",
    "The correlation matrix is more interesting when there are more than two waves.  With only two waves, there is really only one number in the matrix we care about.\n",
    "\n",
    "` Wave` provides `corr`, which computes the correlation between waves:"
   ]
  },
  {
   "cell_type": "code",
   "execution_count": 6,
   "metadata": {
    "jupyter": {
     "outputs_hidden": false
    }
   },
   "outputs": [],
   "source": [
    "wave1.corr(wave2)"
   ]
  },
  {
   "cell_type": "markdown",
   "metadata": {},
   "source": [
    "To investigate the relationship between phase offset and correlation, I'll make an interactive function that computes correlation for each offset:"
   ]
  },
  {
   "cell_type": "code",
   "execution_count": 7,
   "metadata": {
    "jupyter": {
     "outputs_hidden": false
    }
   },
   "outputs": [],
   "source": [
    "def compute_corr(offset):\n",
    "    wave1 = make_sine(offset=0)\n",
    "    wave2 = make_sine(offset=-offset)\n",
    "\n",
    "    wave1.segment(duration=0.01).plot()\n",
    "    wave2.segment(duration=0.01).plot()\n",
    "    \n",
    "    corr = wave1.corr(wave2)\n",
    "    print('corr =', corr)\n",
    "    \n",
    "    decorate(xlabel='Time (s)')"
   ]
  },
  {
   "cell_type": "markdown",
   "metadata": {},
   "source": [
    "The following interaction plots waves with different phase offsets and prints their correlations:"
   ]
  },
  {
   "cell_type": "code",
   "execution_count": 8,
   "metadata": {
    "jupyter": {
     "outputs_hidden": false
    }
   },
   "outputs": [],
   "source": [
    "from ipywidgets import interact, interactive, fixed\n",
    "import ipywidgets as widgets\n",
    "\n",
    "PI2 = np.pi * 2\n",
    "slider = widgets.FloatSlider(min=0, max=PI2, value=1)\n",
    "interact(compute_corr, offset=slider);"
   ]
  },
  {
   "cell_type": "markdown",
   "metadata": {},
   "source": [
    "Finally, we can plot correlation as a function of offset:"
   ]
  },
  {
   "cell_type": "code",
   "execution_count": 9,
   "metadata": {
    "jupyter": {
     "outputs_hidden": false
    }
   },
   "outputs": [],
   "source": [
    "offsets = np.linspace(0, PI2, 101)\n",
    "\n",
    "corrs = []\n",
    "for offset in offsets:\n",
    "    wave2 = make_sine(offset)\n",
    "    corr = np.corrcoef(wave1.ys, wave2.ys)[0, 1]\n",
    "    corrs.append(corr)\n",
    "    \n",
    "plt.plot(offsets, corrs)\n",
    "decorate(xlabel='Offset (radians)',\n",
    "         ylabel='Correlation')"
   ]
  },
  {
   "cell_type": "markdown",
   "metadata": {},
   "source": [
    "That curve is a cosine.\n",
    "\n",
    "Next we'll compute serial correlations for different kinds of noise."
   ]
  },
  {
   "cell_type": "code",
   "execution_count": 10,
   "metadata": {
    "jupyter": {
     "outputs_hidden": false
    }
   },
   "outputs": [],
   "source": [
    "def serial_corr(wave, lag=1):\n",
    "    N = len(wave)\n",
    "    y1 = wave.ys[lag:]\n",
    "    y2 = wave.ys[:N-lag]\n",
    "    corr = np.corrcoef(y1, y2)[0, 1]\n",
    "    return corr"
   ]
  },
  {
   "cell_type": "markdown",
   "metadata": {},
   "source": [
    "We expect uncorrelated noise to be... well... uncorrelated."
   ]
  },
  {
   "cell_type": "code",
   "execution_count": 11,
   "metadata": {
    "jupyter": {
     "outputs_hidden": false
    }
   },
   "outputs": [],
   "source": [
    "from thinkdsp import UncorrelatedGaussianNoise\n",
    "\n",
    "signal = UncorrelatedGaussianNoise()\n",
    "wave = signal.make_wave(duration=0.5, framerate=11025)\n",
    "serial_corr(wave)"
   ]
  },
  {
   "cell_type": "markdown",
   "metadata": {},
   "source": [
    "As expected, the serial correlation is near 0.\n",
    "\n",
    "In Brownian noise, each value is the sum of the previous value and a random \"step\", so we expect a strong serial correlation:"
   ]
  },
  {
   "cell_type": "code",
   "execution_count": 12,
   "metadata": {
    "jupyter": {
     "outputs_hidden": false
    }
   },
   "outputs": [],
   "source": [
    "from thinkdsp import BrownianNoise\n",
    "\n",
    "signal = BrownianNoise()\n",
    "wave = signal.make_wave(duration=0.5, framerate=11025)\n",
    "serial_corr(wave)"
   ]
  },
  {
   "cell_type": "markdown",
   "metadata": {},
   "source": [
    "In fact, the correlation is near 1.\n",
    "\n",
    "Since pink noise is between white and Brownian, we expect an intermediate correlation."
   ]
  },
  {
   "cell_type": "code",
   "execution_count": 13,
   "metadata": {
    "jupyter": {
     "outputs_hidden": false
    }
   },
   "outputs": [],
   "source": [
    "from thinkdsp import PinkNoise\n",
    "\n",
    "signal = PinkNoise(beta=1)\n",
    "wave = signal.make_wave(duration=0.5, framerate=11025)\n",
    "serial_corr(wave)"
   ]
  },
  {
   "cell_type": "markdown",
   "metadata": {},
   "source": [
    "And we get one.\n",
    "\n",
    "Now we can plot serial correlation as a function of the pink noise parameter $\\beta$."
   ]
  },
  {
   "cell_type": "code",
   "execution_count": 14,
   "metadata": {
    "jupyter": {
     "outputs_hidden": false
    }
   },
   "outputs": [],
   "source": [
    "np.random.seed(19)\n",
    "\n",
    "betas = np.linspace(0, 2, 21)\n",
    "corrs = []\n",
    "\n",
    "for beta in betas:\n",
    "    signal =  PinkNoise(beta=beta)\n",
    "    wave = signal.make_wave(duration=1.0, framerate=11025)\n",
    "    corr = serial_corr(wave)\n",
    "    corrs.append(corr)\n",
    "    \n",
    "plt.plot(betas, corrs)\n",
    "decorate(xlabel=r'Pink noise parameter, $\\beta$',\n",
    "         ylabel='Serial correlation')"
   ]
  },
  {
   "cell_type": "markdown",
   "metadata": {},
   "source": [
    "The autocorrelation function calls `serial_corr` with different values of `lag`."
   ]
  },
  {
   "cell_type": "code",
   "execution_count": 15,
   "metadata": {
    "jupyter": {
     "outputs_hidden": false
    }
   },
   "outputs": [],
   "source": [
    "def autocorr(wave):\n",
    "    \"\"\"Computes and plots the autocorrelation function.\n",
    "\n",
    "    wave: Wave\n",
    "    \n",
    "    returns: tuple of sequences (lags, corrs)\n",
    "    \"\"\"\n",
    "    lags = np.arange(len(wave.ys)//2)\n",
    "    corrs = [serial_corr(wave, lag) for lag in lags]\n",
    "    return lags, corrs"
   ]
  },
  {
   "cell_type": "markdown",
   "metadata": {},
   "source": [
    "Now we can plot autocorrelation for pink noise with various values of $\\beta$."
   ]
  },
  {
   "cell_type": "code",
   "execution_count": 16,
   "metadata": {
    "jupyter": {
     "outputs_hidden": false
    }
   },
   "outputs": [],
   "source": [
    "def plot_pink_autocorr(beta, label):\n",
    "    signal = PinkNoise(beta=beta)\n",
    "    wave = signal.make_wave(duration=1.0, framerate=10000)\n",
    "    lags, corrs = autocorr(wave)\n",
    "    plt.plot(lags, corrs, label=label)"
   ]
  },
  {
   "cell_type": "code",
   "execution_count": 17,
   "metadata": {
    "jupyter": {
     "outputs_hidden": false
    }
   },
   "outputs": [],
   "source": [
    "np.random.seed(19)\n",
    "\n",
    "for beta in [1.7, 1.0, 0.3]:\n",
    "    label = r'$\\beta$ = %.1f' % beta\n",
    "    plot_pink_autocorr(beta, label)\n",
    "\n",
    "decorate(xlabel='Lag', \n",
    "         ylabel='Correlation')"
   ]
  },
  {
   "cell_type": "markdown",
   "metadata": {},
   "source": [
    "For low values of $\\beta$, the autocorrelation function drops off quickly.  As $\\beta$ increases, pink noise shows more long range dependency."
   ]
  },
  {
   "cell_type": "markdown",
   "metadata": {},
   "source": [
    "Now let's investigate using autocorrelation for pitch tracking.  I'll load a recording of someone singing a chirp:"
   ]
  },
  {
   "cell_type": "code",
   "execution_count": 18,
   "metadata": {},
   "outputs": [],
   "source": [
    "if not os.path.exists('28042__bcjordan__voicedownbew.wav'):\n",
    "    !wget https://github.com/AllenDowney/ThinkDSP/raw/master/code/28042__bcjordan__voicedownbew.wav"
   ]
  },
  {
   "cell_type": "code",
   "execution_count": 19,
   "metadata": {
    "jupyter": {
     "outputs_hidden": false
    }
   },
   "outputs": [],
   "source": [
    "from thinkdsp import read_wave\n",
    "\n",
    "wave = read_wave('28042__bcjordan__voicedownbew.wav')\n",
    "wave.normalize()\n",
    "wave.make_audio()"
   ]
  },
  {
   "cell_type": "markdown",
   "metadata": {},
   "source": [
    "The spectrum tells us what frequencies are present, but for chirps, the frequency components are blurred over a range:"
   ]
  },
  {
   "cell_type": "code",
   "execution_count": 20,
   "metadata": {
    "jupyter": {
     "outputs_hidden": false
    }
   },
   "outputs": [],
   "source": [
    "spectrum = wave.make_spectrum()\n",
    "spectrum.plot()\n",
    "decorate(xlabel='Frequency (Hz)', ylabel='Amplitude')"
   ]
  },
  {
   "cell_type": "markdown",
   "metadata": {},
   "source": [
    "The spectrogram gives a better picture of how the components vary over time:"
   ]
  },
  {
   "cell_type": "code",
   "execution_count": 21,
   "metadata": {
    "jupyter": {
     "outputs_hidden": false
    }
   },
   "outputs": [],
   "source": [
    "spectro = wave.make_spectrogram(seg_length=1024)\n",
    "spectro.plot(high=4200)\n",
    "decorate(xlabel='Time (s)', \n",
    "                 ylabel='Frequency (Hz)')"
   ]
  },
  {
   "cell_type": "markdown",
   "metadata": {},
   "source": [
    "We can see the fundamental frequency clearly, starting near 500 Hz and dropping.  Some of the harmonics are also visible.\n",
    "\n",
    "To track the fundamental frequency, we can take a short window:"
   ]
  },
  {
   "cell_type": "code",
   "execution_count": 22,
   "metadata": {
    "jupyter": {
     "outputs_hidden": false
    }
   },
   "outputs": [],
   "source": [
    "duration = 0.01\n",
    "segment = wave.segment(start=0.2, duration=duration)\n",
    "segment.plot()\n",
    "decorate(xlabel='Time (s)')"
   ]
  },
  {
   "cell_type": "code",
   "execution_count": 23,
   "metadata": {
    "jupyter": {
     "outputs_hidden": false
    }
   },
   "outputs": [],
   "source": [
    "spectrum = segment.make_spectrum()\n",
    "spectrum.plot(high=1000)\n",
    "decorate(xlabel='Frequency (Hz)', ylabel='Amplitude')"
   ]
  },
  {
   "cell_type": "markdown",
   "metadata": {},
   "source": [
    "The spectrum shows a clear peak near 400 Hz, but we can't get an very accurate estimate of frequency, partly because the peak is blurry, and partly because even if it were a perfect spike, the frequency resolution is not very good."
   ]
  },
  {
   "cell_type": "code",
   "execution_count": 24,
   "metadata": {
    "jupyter": {
     "outputs_hidden": false
    }
   },
   "outputs": [],
   "source": [
    "len(segment), segment.framerate, spectrum.freq_res"
   ]
  },
  {
   "cell_type": "markdown",
   "metadata": {},
   "source": [
    "Each element of the spectrum spans a range of 100 Hz, so we can't get an accurate estimate of the fundamental frequency.  \n",
    "\n",
    "For signals that are at least approximately periodic, we can do better by estimating the length of the period.\n",
    "\n",
    "The following function plots the segment, and a shifted version of the segment, and computes the correlation between them:"
   ]
  },
  {
   "cell_type": "code",
   "execution_count": 25,
   "metadata": {
    "jupyter": {
     "outputs_hidden": false
    }
   },
   "outputs": [],
   "source": [
    "def plot_shifted(wave, offset=0.001, start=0.2):\n",
    "    segment1 = wave.segment(start=start, duration=0.01)\n",
    "    segment1.plot(linewidth=2, alpha=0.8)\n",
    "\n",
    "    # start earlier and then shift times to line up\n",
    "    segment2 = wave.segment(start=start-offset, duration=0.01)\n",
    "    segment2.shift(offset)\n",
    "    segment2.plot(linewidth=2, alpha=0.4)\n",
    "\n",
    "    corr = segment1.corr(segment2)\n",
    "    text = r'$\\rho =$ %.2g' % corr\n",
    "    plt.text(segment1.start+0.0005, -0.8, text)\n",
    "    decorate(xlabel='Time (s)')\n",
    "\n",
    "plot_shifted(wave, 0.0001)"
   ]
  },
  {
   "cell_type": "markdown",
   "metadata": {},
   "source": [
    "With a small shift the segments are still moderately correlated.  As the shift increases, the correlation falls for a while, then rises again, peaking when the shift equals the period of the signal.\n",
    "\n",
    "You can use the following interaction to search for the shift that maximizes correlation:"
   ]
  },
  {
   "cell_type": "code",
   "execution_count": 26,
   "metadata": {
    "jupyter": {
     "outputs_hidden": false
    }
   },
   "outputs": [],
   "source": [
    "end = 0.004\n",
    "slider1 = widgets.FloatSlider(min=0, max=end, step=end/40, value=0)\n",
    "slider2 = widgets.FloatSlider(min=0.1, max=0.5, step=0.05, value=0.2)\n",
    "interact(plot_shifted, wave=fixed(wave), offset=slider1, start=slider2);"
   ]
  },
  {
   "cell_type": "markdown",
   "metadata": {},
   "source": [
    "The `autocorr` function automates this process by computing the correlation for each possible lag, up to half the length of the wave."
   ]
  },
  {
   "cell_type": "markdown",
   "metadata": {},
   "source": [
    "The following figure shows this autocorrelation as a function of lag:"
   ]
  },
  {
   "cell_type": "code",
   "execution_count": 27,
   "metadata": {
    "jupyter": {
     "outputs_hidden": false
    }
   },
   "outputs": [],
   "source": [
    "wave = read_wave('28042__bcjordan__voicedownbew.wav')\n",
    "wave.normalize()\n",
    "duration = 0.01\n",
    "segment = wave.segment(start=0.2, duration=duration)"
   ]
  },
  {
   "cell_type": "code",
   "execution_count": 28,
   "metadata": {
    "jupyter": {
     "outputs_hidden": false
    }
   },
   "outputs": [],
   "source": [
    "lags, corrs = autocorr(segment)\n",
    "plt.plot(lags, corrs)\n",
    "decorate(xlabel='Lag (index)', ylabel='Correlation')"
   ]
  },
  {
   "cell_type": "markdown",
   "metadata": {},
   "source": [
    "The first peak (other than 0) is near lag=100.\n",
    "\n",
    "We can use `argmax` to find the index of that peak:"
   ]
  },
  {
   "cell_type": "code",
   "execution_count": 29,
   "metadata": {
    "jupyter": {
     "outputs_hidden": false
    }
   },
   "outputs": [],
   "source": [
    "low, high = 90, 110\n",
    "lag = np.array(corrs[low:high]).argmax() + low\n",
    "lag"
   ]
  },
  {
   "cell_type": "markdown",
   "metadata": {},
   "source": [
    "We can convert from an index to a time in seconds:"
   ]
  },
  {
   "cell_type": "code",
   "execution_count": 30,
   "metadata": {
    "jupyter": {
     "outputs_hidden": false
    }
   },
   "outputs": [],
   "source": [
    "period = lag / segment.framerate\n",
    "period"
   ]
  },
  {
   "cell_type": "markdown",
   "metadata": {},
   "source": [
    "Given the period in seconds, we can compute frequency:"
   ]
  },
  {
   "cell_type": "code",
   "execution_count": 31,
   "metadata": {
    "jupyter": {
     "outputs_hidden": false
    }
   },
   "outputs": [],
   "source": [
    "frequency = 1 / period\n",
    "frequency"
   ]
  },
  {
   "cell_type": "markdown",
   "metadata": {},
   "source": [
    "This should be a better estimate of the fundamental frequency.  We can approximate the resolution of this estimate by computing how much we would be off by if the index were off by 1:"
   ]
  },
  {
   "cell_type": "code",
   "execution_count": 32,
   "metadata": {
    "jupyter": {
     "outputs_hidden": false
    }
   },
   "outputs": [],
   "source": [
    "segment.framerate / 102, segment.framerate / 100"
   ]
  },
  {
   "cell_type": "markdown",
   "metadata": {},
   "source": [
    "The range is less than 10 Hz.\n",
    "\n",
    "The function I wrote to compute autocorrelations is slow; `np.correlate` is much faster."
   ]
  },
  {
   "cell_type": "code",
   "execution_count": 33,
   "metadata": {
    "jupyter": {
     "outputs_hidden": false
    }
   },
   "outputs": [],
   "source": [
    "N = len(segment)\n",
    "corrs2 = np.correlate(segment.ys, segment.ys, mode='same')\n",
    "lags = np.arange(-N//2, N//2)\n",
    "plt.plot(lags, corrs2)\n",
    "decorate(xlabel='Lag', ylabel='Correlation')"
   ]
  },
  {
   "cell_type": "markdown",
   "metadata": {},
   "source": [
    "`np.correlate` computes correlations for positive and negative lags, so lag=0 is in the middle.  For our purposes, we only care about positive lags.\n",
    "\n",
    "Also, `np.correlate` doesn't correct for the fact that the number of overlapping elements changes as the lag increases.\n",
    "\n",
    "The following code selects the second half of the results and corrects for the length of the overlap:"
   ]
  },
  {
   "cell_type": "code",
   "execution_count": 34,
   "metadata": {
    "jupyter": {
     "outputs_hidden": false
    }
   },
   "outputs": [],
   "source": [
    "N = len(corrs2)\n",
    "lengths = range(N, N//2, -1)\n",
    "\n",
    "half = corrs2[N//2:].copy()\n",
    "half /= lengths\n",
    "half /= half[0]\n",
    "plt.plot(half)\n",
    "decorate(xlabel='Lag', ylabel='Correlation')"
   ]
  },
  {
   "cell_type": "markdown",
   "metadata": {},
   "source": [
    "Now the result is similar to what we computed before.\n",
    "\n",
    "If we plot the results computed by NumPy and my implementation, they are visually similar.  They are not quite identical because my version and theirs are normalized differently."
   ]
  },
  {
   "cell_type": "code",
   "execution_count": 35,
   "metadata": {
    "jupyter": {
     "outputs_hidden": false
    }
   },
   "outputs": [],
   "source": [
    "plt.plot(half)\n",
    "plt.plot(corrs)\n",
    "decorate(xlabel='Lag', ylabel='Correlation')"
   ]
  },
  {
   "cell_type": "markdown",
   "metadata": {},
   "source": [
    "The difference between the NumPy implementation and mine is less than 0.02 over most of the range."
   ]
  },
  {
   "cell_type": "code",
   "execution_count": 36,
   "metadata": {
    "jupyter": {
     "outputs_hidden": false
    }
   },
   "outputs": [],
   "source": [
    "diff = corrs - half[:-1]\n",
    "plt.plot(diff)\n",
    "decorate(xlabel='Lag', ylabel='Difference in correlation')"
   ]
  },
  {
   "cell_type": "code",
   "execution_count": null,
   "metadata": {
    "jupyter": {
     "outputs_hidden": false
    }
   },
   "outputs": [],
   "source": []
  }
 ],
 "metadata": {
  "kernelspec": {
   "display_name": "Python 3 (ipykernel)",
   "language": "python",
   "name": "python3"
  },
  "language_info": {
   "codemirror_mode": {
    "name": "ipython",
    "version": 3
   },
   "file_extension": ".py",
   "mimetype": "text/x-python",
   "name": "python",
   "nbconvert_exporter": "python",
   "pygments_lexer": "ipython3",
   "version": "3.8.16"
  }
 },
 "nbformat": 4,
 "nbformat_minor": 4
}
