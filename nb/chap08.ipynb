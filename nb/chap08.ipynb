{
 "cells": [
  {
   "cell_type": "markdown",
   "metadata": {},
   "source": [
    "## ThinkDSP\n",
    "\n",
    "This notebook contains code examples from Chapter 8: Filtering and Convolution\n",
    "\n",
    "Copyright 2015 Allen Downey\n",
    "\n",
    "License: [Creative Commons Attribution 4.0 International](http://creativecommons.org/licenses/by/4.0/)"
   ]
  },
  {
   "cell_type": "code",
   "execution_count": 1,
   "metadata": {},
   "outputs": [],
   "source": [
    "# Get thinkdsp.py\n",
    "\n",
    "import os\n",
    "\n",
    "if not os.path.exists('thinkdsp.py'):\n",
    "    !wget https://github.com/AllenDowney/ThinkDSP/raw/master/code/thinkdsp.py"
   ]
  },
  {
   "cell_type": "code",
   "execution_count": 2,
   "metadata": {},
   "outputs": [],
   "source": [
    "import numpy as np\n",
    "import matplotlib.pyplot as plt\n",
    "\n",
    "from thinkdsp import decorate"
   ]
  },
  {
   "cell_type": "code",
   "execution_count": 3,
   "metadata": {},
   "outputs": [],
   "source": [
    "# suppress scientific notation for small numbers\n",
    "np.set_printoptions(precision=3, suppress=True)"
   ]
  },
  {
   "cell_type": "markdown",
   "metadata": {},
   "source": [
    "### Smoothing\n",
    "\n",
    "As the first example, I'll look at [daily closing stock prices for Facebook](https://finance.yahoo.com/quote/FB/history?period1=1337299200&period2=1585353600&interval=1d&filter=history&frequency=1d), from its IPO on 2012-05-18 to 2020-03-27 (note: the dataset includes only trading days )"
   ]
  },
  {
   "cell_type": "code",
   "execution_count": 4,
   "metadata": {},
   "outputs": [],
   "source": [
    "if not os.path.exists('FB_2.csv'):\n",
    "    !wget https://github.com/AllenDowney/ThinkDSP/raw/master/code/FB_2.csv"
   ]
  },
  {
   "cell_type": "code",
   "execution_count": 5,
   "metadata": {},
   "outputs": [],
   "source": [
    "import pandas as pd\n",
    "\n",
    "df = pd.read_csv('FB_2.csv', header=0, parse_dates=[0])\n",
    "df.head()"
   ]
  },
  {
   "cell_type": "code",
   "execution_count": 6,
   "metadata": {},
   "outputs": [],
   "source": [
    "df.tail()"
   ]
  },
  {
   "cell_type": "markdown",
   "metadata": {},
   "source": [
    "Extract the close prices and days since start of series:"
   ]
  },
  {
   "cell_type": "code",
   "execution_count": 7,
   "metadata": {},
   "outputs": [],
   "source": [
    "close = df['Close']\n",
    "dates = df['Date']\n",
    "days = (dates - dates[0]) / np.timedelta64(1,'D')"
   ]
  },
  {
   "cell_type": "markdown",
   "metadata": {},
   "source": [
    "Make a window to compute a 30-day moving average and convolve the window with the data.  The `valid` flag means the convolution is only computed where the window completely overlaps with the signal."
   ]
  },
  {
   "cell_type": "code",
   "execution_count": 8,
   "metadata": {},
   "outputs": [],
   "source": [
    "M = 30\n",
    "window = np.ones(M)\n",
    "window /= sum(window)\n",
    "smoothed = np.convolve(close, window, mode='valid')\n",
    "smoothed_days = days[M//2: len(smoothed) + M//2]"
   ]
  },
  {
   "cell_type": "markdown",
   "metadata": {},
   "source": [
    "Plot the original and smoothed signals."
   ]
  },
  {
   "cell_type": "code",
   "execution_count": 9,
   "metadata": {},
   "outputs": [],
   "source": [
    "plt.plot(days, close, color='gray', alpha=0.6, label='daily close')\n",
    "plt.plot(smoothed_days, smoothed, color='C1', alpha=0.6, label='30 day average')\n",
    "\n",
    "decorate(xlabel='Time (days)', ylabel='Price ($)')"
   ]
  },
  {
   "cell_type": "markdown",
   "metadata": {},
   "source": [
    "## Smoothing sound signals\n",
    "\n",
    "Generate a 440 Hz sawtooth signal."
   ]
  },
  {
   "cell_type": "code",
   "execution_count": 10,
   "metadata": {},
   "outputs": [],
   "source": [
    "from thinkdsp import SawtoothSignal\n",
    "\n",
    "signal = SawtoothSignal(freq=440)\n",
    "wave = signal.make_wave(duration=1.0, framerate=44100)\n",
    "wave.make_audio()"
   ]
  },
  {
   "cell_type": "markdown",
   "metadata": {},
   "source": [
    "Make a moving average window."
   ]
  },
  {
   "cell_type": "code",
   "execution_count": 11,
   "metadata": {},
   "outputs": [],
   "source": [
    "window = np.ones(11)\n",
    "window /= sum(window)\n",
    "plt.plot(window)\n",
    "decorate(xlabel='Index')"
   ]
  },
  {
   "cell_type": "markdown",
   "metadata": {},
   "source": [
    "Plot the wave."
   ]
  },
  {
   "cell_type": "code",
   "execution_count": 12,
   "metadata": {},
   "outputs": [],
   "source": [
    "segment = wave.segment(duration=0.01)\n",
    "segment.plot()\n",
    "decorate(xlabel='Time (s)')"
   ]
  },
  {
   "cell_type": "markdown",
   "metadata": {},
   "source": [
    "Pad the window so it's the same length as the signal, and plot it."
   ]
  },
  {
   "cell_type": "code",
   "execution_count": 13,
   "metadata": {},
   "outputs": [],
   "source": [
    "def zero_pad(array, n):\n",
    "    \"\"\"Extends an array with zeros.\n",
    "\n",
    "    array: NumPy array\n",
    "    n: length of result\n",
    "\n",
    "    returns: new NumPy array\n",
    "    \"\"\"\n",
    "    res = np.zeros(n)\n",
    "    res[:len(array)] = array\n",
    "    return res"
   ]
  },
  {
   "cell_type": "code",
   "execution_count": 14,
   "metadata": {},
   "outputs": [],
   "source": [
    "N = len(segment)\n",
    "padded = zero_pad(window, N)\n",
    "plt.plot(padded)\n",
    "decorate(xlabel='Index')"
   ]
  },
  {
   "cell_type": "markdown",
   "metadata": {},
   "source": [
    "Apply the window to the signal (with lag=0)."
   ]
  },
  {
   "cell_type": "code",
   "execution_count": 15,
   "metadata": {},
   "outputs": [],
   "source": [
    "prod = padded * segment.ys\n",
    "np.sum(prod)"
   ]
  },
  {
   "cell_type": "markdown",
   "metadata": {},
   "source": [
    "Compute a convolution by rolling the window to the right."
   ]
  },
  {
   "cell_type": "code",
   "execution_count": 16,
   "metadata": {},
   "outputs": [],
   "source": [
    "smoothed = np.zeros(N)\n",
    "rolled = padded.copy()\n",
    "for i in range(N):\n",
    "    smoothed[i] = sum(rolled * segment.ys)\n",
    "    rolled = np.roll(rolled, 1)"
   ]
  },
  {
   "cell_type": "code",
   "execution_count": 17,
   "metadata": {},
   "outputs": [],
   "source": [
    "plt.plot(rolled)\n",
    "decorate(xlabel='Index')"
   ]
  },
  {
   "cell_type": "markdown",
   "metadata": {},
   "source": [
    "Plot the result of the convolution and the original."
   ]
  },
  {
   "cell_type": "code",
   "execution_count": 18,
   "metadata": {},
   "outputs": [],
   "source": [
    "from thinkdsp import Wave\n",
    "\n",
    "segment.plot(color='gray')\n",
    "smooth = Wave(smoothed, framerate=wave.framerate)\n",
    "smooth.plot()\n",
    "decorate(xlabel='Time(s)')"
   ]
  },
  {
   "cell_type": "markdown",
   "metadata": {},
   "source": [
    "Compute the same convolution using `numpy.convolve`."
   ]
  },
  {
   "cell_type": "code",
   "execution_count": 19,
   "metadata": {},
   "outputs": [],
   "source": [
    "segment.plot(color='gray')\n",
    "ys = np.convolve(segment.ys, window, mode='valid')\n",
    "smooth2 = Wave(ys, framerate=wave.framerate)\n",
    "smooth2.plot()\n",
    "decorate(xlabel='Time(s)')"
   ]
  },
  {
   "cell_type": "markdown",
   "metadata": {},
   "source": [
    "## Frequency domain\n",
    "\n",
    "Let's see what's happening in the frequency domain."
   ]
  },
  {
   "cell_type": "markdown",
   "metadata": {},
   "source": [
    "Compute the smoothed wave using `np.convolve`, which is much faster than my version above."
   ]
  },
  {
   "cell_type": "code",
   "execution_count": 20,
   "metadata": {},
   "outputs": [],
   "source": [
    "convolved = np.convolve(wave.ys, window, mode='same')\n",
    "smooth = Wave(convolved, framerate=wave.framerate)\n",
    "smooth.make_audio()"
   ]
  },
  {
   "cell_type": "markdown",
   "metadata": {},
   "source": [
    "Plot spectrums of the original and smoothed waves:"
   ]
  },
  {
   "cell_type": "code",
   "execution_count": 21,
   "metadata": {},
   "outputs": [],
   "source": [
    "spectrum = wave.make_spectrum()\n",
    "spectrum.plot(color='gray')\n",
    "\n",
    "spectrum2 = smooth.make_spectrum()\n",
    "spectrum2.plot()\n",
    "\n",
    "decorate(xlabel='Frequency (Hz)', ylabel='Amplitude')"
   ]
  },
  {
   "cell_type": "markdown",
   "metadata": {},
   "source": [
    "For each harmonic, compute the ratio of the amplitudes before and after smoothing."
   ]
  },
  {
   "cell_type": "code",
   "execution_count": 22,
   "metadata": {},
   "outputs": [],
   "source": [
    "amps = spectrum.amps\n",
    "amps2 = spectrum2.amps\n",
    "ratio = amps2 / amps    \n",
    "ratio[amps<280] = 0\n",
    "\n",
    "plt.plot(ratio)\n",
    "decorate(xlabel='Frequency (Hz)', ylabel='Amplitude ratio')"
   ]
  },
  {
   "cell_type": "markdown",
   "metadata": {},
   "source": [
    "Plot the ratios again, but also plot the FFT of the window."
   ]
  },
  {
   "cell_type": "code",
   "execution_count": 23,
   "metadata": {},
   "outputs": [],
   "source": [
    "padded =  zero_pad(window, len(wave))\n",
    "dft_window = np.fft.rfft(padded)\n",
    "\n",
    "plt.plot(np.abs(dft_window), color='gray', label='DFT(window)')\n",
    "plt.plot(ratio, label='amplitude ratio')\n",
    "\n",
    "decorate(xlabel='Frequency (Hz)', ylabel='Amplitude ratio')"
   ]
  },
  {
   "cell_type": "markdown",
   "metadata": {},
   "source": [
    "### Gaussian window\n",
    "\n",
    "Let's compare boxcar and Gaussian windows."
   ]
  },
  {
   "cell_type": "markdown",
   "metadata": {},
   "source": [
    "Make the boxcar window."
   ]
  },
  {
   "cell_type": "code",
   "execution_count": 24,
   "metadata": {},
   "outputs": [],
   "source": [
    "boxcar = np.ones(11)\n",
    "boxcar /= sum(boxcar)"
   ]
  },
  {
   "cell_type": "markdown",
   "metadata": {},
   "source": [
    "Make the Gaussian window."
   ]
  },
  {
   "cell_type": "code",
   "execution_count": 25,
   "metadata": {},
   "outputs": [],
   "source": [
    "import scipy.signal\n",
    "\n",
    "gaussian = scipy.signal.gaussian(M=11, std=2)\n",
    "gaussian /= sum(gaussian)"
   ]
  },
  {
   "cell_type": "markdown",
   "metadata": {},
   "source": [
    "Plot the two windows."
   ]
  },
  {
   "cell_type": "code",
   "execution_count": 26,
   "metadata": {},
   "outputs": [],
   "source": [
    "plt.plot(boxcar, label='boxcar')\n",
    "plt.plot(gaussian, label='Gaussian')\n",
    "decorate(xlabel='Index')"
   ]
  },
  {
   "cell_type": "markdown",
   "metadata": {},
   "source": [
    "Convolve the square wave with the Gaussian window."
   ]
  },
  {
   "cell_type": "code",
   "execution_count": 27,
   "metadata": {},
   "outputs": [],
   "source": [
    "ys = np.convolve(wave.ys, gaussian, mode='same')\n",
    "smooth = Wave(ys, framerate=wave.framerate)\n",
    "spectrum2 = smooth.make_spectrum()"
   ]
  },
  {
   "cell_type": "markdown",
   "metadata": {},
   "source": [
    "Compute the ratio of the amplitudes."
   ]
  },
  {
   "cell_type": "code",
   "execution_count": 28,
   "metadata": {},
   "outputs": [],
   "source": [
    "amps = spectrum.amps\n",
    "amps2 = spectrum2.amps\n",
    "ratio = amps2 / amps    \n",
    "ratio[amps<560] = 0"
   ]
  },
  {
   "cell_type": "markdown",
   "metadata": {},
   "source": [
    "Compute the FFT of the window."
   ]
  },
  {
   "cell_type": "code",
   "execution_count": 29,
   "metadata": {},
   "outputs": [],
   "source": [
    "padded =  zero_pad(gaussian, len(wave))\n",
    "dft_gaussian = np.fft.rfft(padded)"
   ]
  },
  {
   "cell_type": "markdown",
   "metadata": {},
   "source": [
    "Plot the ratios and the FFT of the window."
   ]
  },
  {
   "cell_type": "code",
   "execution_count": 30,
   "metadata": {},
   "outputs": [],
   "source": [
    "plt.plot(np.abs(dft_gaussian), color='0.7', label='Gaussian filter')\n",
    "plt.plot(ratio, label='amplitude ratio')\n",
    "\n",
    "decorate(xlabel='Frequency (Hz)', ylabel='Amplitude ratio')"
   ]
  },
  {
   "cell_type": "markdown",
   "metadata": {},
   "source": [
    "Combine the preceding example into one big function so we can interact with it."
   ]
  },
  {
   "cell_type": "code",
   "execution_count": 31,
   "metadata": {},
   "outputs": [],
   "source": [
    "from thinkdsp import SquareSignal\n",
    "\n",
    "def plot_filter(M=11, std=2):\n",
    "    signal = SquareSignal(freq=440)\n",
    "    wave = signal.make_wave(duration=1, framerate=44100)\n",
    "    spectrum = wave.make_spectrum()\n",
    "\n",
    "    gaussian = scipy.signal.gaussian(M=M, std=std)\n",
    "    gaussian /= sum(gaussian)\n",
    "\n",
    "    ys = np.convolve(wave.ys, gaussian, mode='same')\n",
    "    smooth =  Wave(ys, framerate=wave.framerate)\n",
    "    spectrum2 = smooth.make_spectrum()\n",
    "\n",
    "    # plot the ratio of the original and smoothed spectrum\n",
    "    amps = spectrum.amps\n",
    "    amps2 = spectrum2.amps\n",
    "    ratio = amps2 / amps    \n",
    "    ratio[amps<560] = 0\n",
    "\n",
    "    # plot the same ratio along with the FFT of the window\n",
    "    padded =  zero_pad(gaussian, len(wave))\n",
    "    dft_gaussian = np.fft.rfft(padded)\n",
    "\n",
    "    plt.plot(np.abs(dft_gaussian), color='gray', label='Gaussian filter')\n",
    "    plt.plot(ratio, label='amplitude ratio')\n",
    "\n",
    "    decorate(xlabel='Frequency (Hz)', ylabel='Amplitude ratio')\n",
    "    plt.show()"
   ]
  },
  {
   "cell_type": "markdown",
   "metadata": {},
   "source": [
    "Try out different values of `M` and `std`."
   ]
  },
  {
   "cell_type": "code",
   "execution_count": 32,
   "metadata": {},
   "outputs": [],
   "source": [
    "from ipywidgets import interact, interactive, fixed\n",
    "import ipywidgets as widgets\n",
    "\n",
    "slider = widgets.IntSlider(min=2, max=100, value=11)\n",
    "slider2 = widgets.FloatSlider(min=0, max=20, value=2)\n",
    "interact(plot_filter, M=slider, std=slider2);"
   ]
  },
  {
   "cell_type": "markdown",
   "metadata": {},
   "source": [
    "## Convolution theorem\n",
    "\n",
    "Let's use the Convolution theorem to compute convolutions using FFT.  \n",
    "\n",
    "I'll use the Facebook data again, and smooth it using `np.convolve` and a 30-day Gaussian window.\n",
    "\n",
    "I ignore the dates and treat the values as if they are equally spaced in time."
   ]
  },
  {
   "cell_type": "code",
   "execution_count": 33,
   "metadata": {},
   "outputs": [],
   "source": [
    "window = scipy.signal.gaussian(M=30, std=6)\n",
    "window /= window.sum()\n",
    "smoothed = np.convolve(close, window, mode='valid')\n",
    "\n",
    "len(close), len(smoothed)"
   ]
  },
  {
   "cell_type": "markdown",
   "metadata": {},
   "source": [
    "Plot the original and smoothed data."
   ]
  },
  {
   "cell_type": "code",
   "execution_count": 34,
   "metadata": {},
   "outputs": [],
   "source": [
    "plt.plot(close, color='gray')\n",
    "plt.plot(smoothed)\n",
    "decorate(xlabel='Time (days)', ylabel='Price ($)')"
   ]
  },
  {
   "cell_type": "markdown",
   "metadata": {},
   "source": [
    "Pad the window and compute its FFT."
   ]
  },
  {
   "cell_type": "code",
   "execution_count": 35,
   "metadata": {},
   "outputs": [],
   "source": [
    "N = len(close)\n",
    "padded = zero_pad(window, N)\n",
    "fft_window = np.fft.fft(padded)\n",
    "plt.plot(np.abs(fft_window))\n",
    "decorate(xlabel='Index')"
   ]
  },
  {
   "cell_type": "markdown",
   "metadata": {},
   "source": [
    "Apply the convolution theorem."
   ]
  },
  {
   "cell_type": "code",
   "execution_count": 36,
   "metadata": {},
   "outputs": [],
   "source": [
    "fft_signal = np.fft.fft(close)\n",
    "smoothed2 = np.fft.ifft(fft_signal * fft_window)\n",
    "M = len(window)\n",
    "smoothed2 = smoothed2[M-1:]"
   ]
  },
  {
   "cell_type": "markdown",
   "metadata": {},
   "source": [
    "Plot the two signals (smoothed with numpy and FFT)."
   ]
  },
  {
   "cell_type": "code",
   "execution_count": 37,
   "metadata": {},
   "outputs": [],
   "source": [
    "plt.plot(smoothed)\n",
    "plt.plot(smoothed2.real)\n",
    "decorate(xlabel='Time (days)', ylabel='Price ($)')"
   ]
  },
  {
   "cell_type": "markdown",
   "metadata": {},
   "source": [
    "Confirm that the difference is small."
   ]
  },
  {
   "cell_type": "code",
   "execution_count": 38,
   "metadata": {},
   "outputs": [],
   "source": [
    "diff = smoothed - smoothed2\n",
    "np.max(np.abs(diff))"
   ]
  },
  {
   "cell_type": "markdown",
   "metadata": {},
   "source": [
    "`scipy.signal` provides `fftconvolve`, which computes convolutions using FFT."
   ]
  },
  {
   "cell_type": "code",
   "execution_count": 39,
   "metadata": {},
   "outputs": [],
   "source": [
    "smoothed3 = scipy.signal.fftconvolve(close, window, mode='valid')"
   ]
  },
  {
   "cell_type": "markdown",
   "metadata": {},
   "source": [
    "Confirm that it gives the same answer, at least approximately."
   ]
  },
  {
   "cell_type": "code",
   "execution_count": 40,
   "metadata": {},
   "outputs": [],
   "source": [
    "diff = smoothed - smoothed3\n",
    "np.max(np.abs(diff))"
   ]
  },
  {
   "cell_type": "markdown",
   "metadata": {},
   "source": [
    "We can encapsulate the process in a function:"
   ]
  },
  {
   "cell_type": "code",
   "execution_count": 41,
   "metadata": {},
   "outputs": [],
   "source": [
    "def fft_convolve(signal, window):\n",
    "    fft_signal = np.fft.fft(signal)\n",
    "    fft_window = np.fft.fft(window)\n",
    "    return np.fft.ifft(fft_signal * fft_window)"
   ]
  },
  {
   "cell_type": "markdown",
   "metadata": {},
   "source": [
    "And confirm that it gives the same answer."
   ]
  },
  {
   "cell_type": "code",
   "execution_count": 42,
   "metadata": {},
   "outputs": [],
   "source": [
    "smoothed4 = fft_convolve(close, padded)[M-1:]\n",
    "len(smoothed4)"
   ]
  },
  {
   "cell_type": "code",
   "execution_count": 43,
   "metadata": {},
   "outputs": [],
   "source": [
    "diff = smoothed - smoothed4\n",
    "np.max(np.abs(diff))"
   ]
  },
  {
   "cell_type": "markdown",
   "metadata": {},
   "source": [
    "### Autocorrelation\n",
    "\n",
    "We can also use the convolution theorem to compute autocorrelation functions.\n",
    "\n",
    "Compute autocorrelation using `numpy.correlate`:\n"
   ]
  },
  {
   "cell_type": "code",
   "execution_count": 44,
   "metadata": {},
   "outputs": [],
   "source": [
    "corrs = np.correlate(close, close, mode='same')\n",
    "corrs[:7]"
   ]
  },
  {
   "cell_type": "markdown",
   "metadata": {},
   "source": [
    "Compute autocorrelation using my `fft_convolve`.  The window is a reversed copy of the signal.  We have to pad the window and signal with zeros and then select the middle half from the result."
   ]
  },
  {
   "cell_type": "code",
   "execution_count": 45,
   "metadata": {},
   "outputs": [],
   "source": [
    "def fft_autocorr(signal):\n",
    "    N = len(signal)\n",
    "    signal = zero_pad(signal, 2*N)\n",
    "    window = np.flipud(signal)\n",
    "\n",
    "    corrs = fft_convolve(signal, window)\n",
    "    corrs = np.roll(corrs, N//2+1)[:N]\n",
    "    return corrs"
   ]
  },
  {
   "cell_type": "markdown",
   "metadata": {},
   "source": [
    "Test the function."
   ]
  },
  {
   "cell_type": "code",
   "execution_count": 46,
   "metadata": {},
   "outputs": [],
   "source": [
    "corrs2 = fft_autocorr(close)\n",
    "corrs2[:7]"
   ]
  },
  {
   "cell_type": "markdown",
   "metadata": {},
   "source": [
    "Plot the results."
   ]
  },
  {
   "cell_type": "code",
   "execution_count": 47,
   "metadata": {},
   "outputs": [],
   "source": [
    "lags = np.arange(N) - N//2\n",
    "plt.plot(lags, corrs, color='gray', alpha=0.5, label='np.convolve')\n",
    "plt.plot(lags, corrs2.real, color='C1', alpha=0.5, label='fft_convolve')\n",
    "decorate(xlabel='Lag', ylabel='Correlation')\n",
    "len(corrs), len(corrs2)"
   ]
  },
  {
   "cell_type": "markdown",
   "metadata": {},
   "source": [
    "Confirm that the difference is small."
   ]
  },
  {
   "cell_type": "code",
   "execution_count": 48,
   "metadata": {},
   "outputs": [],
   "source": [
    "diff = corrs - corrs2.real\n",
    "np.max(np.abs(diff))"
   ]
  },
  {
   "cell_type": "code",
   "execution_count": null,
   "metadata": {
    "collapsed": true,
    "jupyter": {
     "outputs_hidden": true
    }
   },
   "outputs": [],
   "source": []
  }
 ],
 "metadata": {
  "kernelspec": {
   "display_name": "Python 3",
   "language": "python",
   "name": "python3"
  },
  "language_info": {
   "codemirror_mode": {
    "name": "ipython",
    "version": 3
   },
   "file_extension": ".py",
   "mimetype": "text/x-python",
   "name": "python",
   "nbconvert_exporter": "python",
   "pygments_lexer": "ipython3",
   "version": "3.6.10"
  }
 },
 "nbformat": 4,
 "nbformat_minor": 4
}
