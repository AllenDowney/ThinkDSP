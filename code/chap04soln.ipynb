{
 "metadata": {
  "name": "",
  "signature": "sha256:8820d4d8be0d4567b01fe2ffe51a46ead129fa22742c62a5074db774d1876929"
 },
 "nbformat": 3,
 "nbformat_minor": 0,
 "worksheets": [
  {
   "cells": [
    {
     "cell_type": "code",
     "collapsed": false,
     "input": [
      "import thinkdsp\n",
      "import thinkplot\n",
      "import thinkstats2\n",
      "import numpy\n",
      "from __future__ import print_function, division"
     ],
     "language": "python",
     "metadata": {},
     "outputs": []
    },
    {
     "cell_type": "markdown",
     "metadata": {},
     "source": [
      "Start with UG noise."
     ]
    },
    {
     "cell_type": "code",
     "collapsed": false,
     "input": [
      "signal = thinkdsp.UncorrelatedGaussianNoise()\n",
      "wave = signal.make_wave(duration=4, framerate=32768)\n",
      "wave.plot()"
     ],
     "language": "python",
     "metadata": {},
     "outputs": []
    },
    {
     "cell_type": "markdown",
     "metadata": {},
     "source": [
      "The spectrum of UG noise is pretty flat."
     ]
    },
    {
     "cell_type": "code",
     "collapsed": false,
     "input": [
      "spectrum = wave.make_spectrum()\n",
      "spectrum.plot()"
     ],
     "language": "python",
     "metadata": {},
     "outputs": []
    },
    {
     "cell_type": "markdown",
     "metadata": {},
     "source": [
      "Let's look at the distribution of the real and imaginary parts:"
     ]
    },
    {
     "cell_type": "code",
     "collapsed": false,
     "input": [
      "xs = numpy.real(spectrum.hs)\n",
      "ys = numpy.imag(spectrum.hs)\n",
      "xs.mean(), xs.std()"
     ],
     "language": "python",
     "metadata": {},
     "outputs": []
    },
    {
     "cell_type": "markdown",
     "metadata": {},
     "source": [
      "The CDFs sure look Gaussian."
     ]
    },
    {
     "cell_type": "code",
     "collapsed": false,
     "input": [
      "cdf_x = thinkstats2.Cdf(xs)\n",
      "cdf_y = thinkstats2.Cdf(ys)\n",
      "thinkplot.Cdfs([cdf_x, cdf_y])"
     ],
     "language": "python",
     "metadata": {},
     "outputs": []
    },
    {
     "cell_type": "markdown",
     "metadata": {},
     "source": [
      "Which implies that the distribution of amplitude is chi and the distribution of power is chi-squared."
     ]
    },
    {
     "cell_type": "code",
     "collapsed": false,
     "input": [
      "cdf_power = thinkstats2.Cdf(spectrum.amps**2)\n",
      "thinkplot.Cdf(cdf_power)"
     ],
     "language": "python",
     "metadata": {},
     "outputs": []
    },
    {
     "cell_type": "markdown",
     "metadata": {},
     "source": [
      "To estimate PSD, we can start with a spectrogram:"
     ]
    },
    {
     "cell_type": "code",
     "collapsed": false,
     "input": [
      "gram = wave.make_spectrogram(seg_length=512)"
     ],
     "language": "python",
     "metadata": {},
     "outputs": []
    },
    {
     "cell_type": "markdown",
     "metadata": {},
     "source": [
      "And loop through the spectrums that make up the spectrogram."
     ]
    },
    {
     "cell_type": "code",
     "collapsed": false,
     "input": [
      "times = gram.times()\n",
      "\n",
      "for i, time in enumerate(times):\n",
      "    spectrum = gram.spec_map[time]\n",
      "    if i == 0:\n",
      "        total = spectrum.power\n",
      "    else:\n",
      "        total += spectrum.power\n",
      "\n",
      "total /= len(times)\n",
      "thinkplot.plot(gram.frequencies(), total)\n",
      "thinkplot.config(xlabel='frequency Hz', ylabel='PSD')"
     ],
     "language": "python",
     "metadata": {},
     "outputs": []
    },
    {
     "cell_type": "markdown",
     "metadata": {},
     "source": [
      "So UG noise has equal power at all frequencies."
     ]
    },
    {
     "cell_type": "code",
     "collapsed": false,
     "input": [],
     "language": "python",
     "metadata": {},
     "outputs": []
    }
   ],
   "metadata": {}
  }
 ]
}