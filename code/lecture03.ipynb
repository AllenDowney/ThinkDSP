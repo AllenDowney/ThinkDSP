{
 "metadata": {
  "name": "",
  "signature": "sha256:93ca15f3f0b6abbab062d745b255673c739cd7ca890b62fb7be6dc12fdd5b9b6"
 },
 "nbformat": 3,
 "nbformat_minor": 0,
 "worksheets": [
  {
   "cells": [
    {
     "cell_type": "code",
     "collapsed": false,
     "input": [
      "import thinkdsp\n",
      "import thinkplot\n",
      "import numpy\n",
      "from __future__ import print_function, division"
     ],
     "language": "python",
     "metadata": {},
     "outputs": []
    },
    {
     "cell_type": "markdown",
     "metadata": {},
     "source": [
      "Make a triangle wave and check out the harmonic structure."
     ]
    },
    {
     "cell_type": "code",
     "collapsed": false,
     "input": [
      "tri = thinkdsp.TriangleSignal(freq=200)\n",
      "wave = tri.make_wave(duration=1)"
     ],
     "language": "python",
     "metadata": {},
     "outputs": []
    },
    {
     "cell_type": "code",
     "collapsed": false,
     "input": [
      "spectrum = wave.make_spectrum()\n",
      "spectrum.plot()"
     ],
     "language": "python",
     "metadata": {},
     "outputs": []
    },
    {
     "cell_type": "code",
     "collapsed": false,
     "input": [
      "for i in [1, 3, 5, 7, 9]:\n",
      "    h = spectrum.hs[i * 200]\n",
      "    print(numpy.absolute(h), numpy.angle(h))"
     ],
     "language": "python",
     "metadata": {},
     "outputs": []
    },
    {
     "cell_type": "markdown",
     "metadata": {},
     "source": [
      "Synthesize a triangle wave by adding up cosines."
     ]
    },
    {
     "cell_type": "code",
     "collapsed": false,
     "input": [
      "def synth_triangle(num_harmonics):\n",
      "    cos = thinkdsp.CosSignal\n",
      "    fund = 200\n",
      "    mix = cos(fund)\n",
      "    harmonics = [3, 5, 7, 9, 11]\n",
      "    for mult in harmonics[:num_harmonics]:\n",
      "        freq = mult * fund\n",
      "        amp = 1 / mult ** 2\n",
      "        mix = mix + cos(freq=freq, amp=amp)\n",
      "        \n",
      "    wave = mix.make_wave(duration=1)\n",
      "    wave.normalize()\n",
      "    wave.segment(duration=0.02).plot()\n",
      "    return mix\n",
      "        \n",
      "mix = synth_triangle(0)"
     ],
     "language": "python",
     "metadata": {},
     "outputs": []
    },
    {
     "cell_type": "code",
     "collapsed": false,
     "input": [
      "wave = mix.make_wave(duration=1)\n",
      "spectrum = wave.make_spectrum()\n",
      "for i in [1, 3, 5, 7, 9]:\n",
      "    h = spectrum.hs[i * 200]\n",
      "    print(numpy.absolute(h), numpy.angle(h))"
     ],
     "language": "python",
     "metadata": {},
     "outputs": []
    },
    {
     "cell_type": "code",
     "collapsed": false,
     "input": [
      "wave.apodize()\n",
      "wave.make_audio()"
     ],
     "language": "python",
     "metadata": {},
     "outputs": []
    },
    {
     "cell_type": "code",
     "collapsed": false,
     "input": [
      "from IPython.html.widgets import interact, interactive, fixed\n",
      "from IPython.html import widgets"
     ],
     "language": "python",
     "metadata": {},
     "outputs": []
    },
    {
     "cell_type": "code",
     "collapsed": false,
     "input": [
      "slider = widgets.IntSliderWidget(min=0, max=6, step=1, value=0)\n",
      "interact(synth_triangle, num_harmonics=slider);"
     ],
     "language": "python",
     "metadata": {},
     "outputs": []
    },
    {
     "cell_type": "markdown",
     "metadata": {},
     "source": [
      "Check out the harmonic structure of a saxophone."
     ]
    },
    {
     "cell_type": "code",
     "collapsed": false,
     "input": [
      "wave = thinkdsp.read_wave('100475__iluppai__saxophone-weep.wav')\n",
      "wave.make_audio()\n"
     ],
     "language": "python",
     "metadata": {},
     "outputs": []
    },
    {
     "cell_type": "code",
     "collapsed": false,
     "input": [
      "start = 2.0\n",
      "duration = 1.0\n",
      "segment = wave.segment(start, duration)\n",
      "segment.apodize()\n",
      "segment.make_audio()"
     ],
     "language": "python",
     "metadata": {},
     "outputs": []
    },
    {
     "cell_type": "code",
     "collapsed": false,
     "input": [
      "segment.normalize()\n",
      "segment.plot()"
     ],
     "language": "python",
     "metadata": {},
     "outputs": []
    },
    {
     "cell_type": "code",
     "collapsed": false,
     "input": [
      "spectrum = segment.make_spectrum()\n",
      "high = 2000\n",
      "spectrum.plot(high=high)"
     ],
     "language": "python",
     "metadata": {},
     "outputs": []
    },
    {
     "cell_type": "code",
     "collapsed": false,
     "input": [
      "for f, amp in zip(spectrum.fs, spectrum.amps):\n",
      "    if amp > 500:\n",
      "        print(f, amp)"
     ],
     "language": "python",
     "metadata": {},
     "outputs": []
    },
    {
     "cell_type": "code",
     "collapsed": false,
     "input": [
      "wave = thinkdsp.TriangleSignal(freq=207.65).make_wave(duration=1)    # A flat\n",
      "wave.apodize()\n",
      "wave.make_audio()"
     ],
     "language": "python",
     "metadata": {},
     "outputs": []
    },
    {
     "cell_type": "markdown",
     "metadata": {},
     "source": [
      "Let's see what happens when we start knocking out harmonics."
     ]
    },
    {
     "cell_type": "code",
     "collapsed": false,
     "input": [
      "segment.make_audio()"
     ],
     "language": "python",
     "metadata": {},
     "outputs": []
    },
    {
     "cell_type": "code",
     "collapsed": false,
     "input": [
      "import copy\n",
      "s = copy.deepcopy(spectrum)\n",
      "s.band_stop(150, 250, 0.01)\n",
      "s.plot(high=high)"
     ],
     "language": "python",
     "metadata": {},
     "outputs": []
    },
    {
     "cell_type": "code",
     "collapsed": false,
     "input": [
      "s.make_wave().make_audio()"
     ],
     "language": "python",
     "metadata": {},
     "outputs": []
    },
    {
     "cell_type": "code",
     "collapsed": false,
     "input": [
      "s.band_stop(300, 500, 0.01)\n",
      "s.plot(high=high)"
     ],
     "language": "python",
     "metadata": {},
     "outputs": []
    },
    {
     "cell_type": "code",
     "collapsed": false,
     "input": [
      "s.make_wave().make_audio()"
     ],
     "language": "python",
     "metadata": {},
     "outputs": []
    },
    {
     "cell_type": "code",
     "collapsed": false,
     "input": [
      "s.low_pass(1500, 0.01)\n",
      "s.plot(high=high)"
     ],
     "language": "python",
     "metadata": {},
     "outputs": []
    },
    {
     "cell_type": "code",
     "collapsed": false,
     "input": [
      "s.make_wave().make_audio()"
     ],
     "language": "python",
     "metadata": {},
     "outputs": []
    },
    {
     "cell_type": "code",
     "collapsed": false,
     "input": [
      "s.low_pass(750, 0.01)\n",
      "s.plot(high=2000)"
     ],
     "language": "python",
     "metadata": {},
     "outputs": []
    },
    {
     "cell_type": "code",
     "collapsed": false,
     "input": [
      "s.make_wave().make_audio()"
     ],
     "language": "python",
     "metadata": {},
     "outputs": []
    },
    {
     "cell_type": "markdown",
     "metadata": {},
     "source": [
      "Let's make a failed attempt to shift the sound up by an octave."
     ]
    },
    {
     "cell_type": "code",
     "collapsed": false,
     "input": [
      "spectrum.make_wave().make_audio()"
     ],
     "language": "python",
     "metadata": {},
     "outputs": []
    },
    {
     "cell_type": "code",
     "collapsed": false,
     "input": [
      "spectrum.plot(high=1000)"
     ],
     "language": "python",
     "metadata": {},
     "outputs": []
    },
    {
     "cell_type": "code",
     "collapsed": false,
     "input": [
      "c = copy.deepcopy(spectrum)\n",
      "shift = 208\n",
      "c.hs = numpy.roll(c.hs, shift)"
     ],
     "language": "python",
     "metadata": {},
     "outputs": []
    },
    {
     "cell_type": "code",
     "collapsed": false,
     "input": [
      "c.plot(high=1000)"
     ],
     "language": "python",
     "metadata": {},
     "outputs": []
    },
    {
     "cell_type": "code",
     "collapsed": false,
     "input": [
      "w = c.make_wave().segment(duration=1)\n",
      "w.plot()"
     ],
     "language": "python",
     "metadata": {},
     "outputs": []
    },
    {
     "cell_type": "code",
     "collapsed": false,
     "input": [
      "w.normalize()\n",
      "w.make_audio()"
     ],
     "language": "python",
     "metadata": {},
     "outputs": []
    },
    {
     "cell_type": "markdown",
     "metadata": {},
     "source": [
      "What is a chord?"
     ]
    },
    {
     "cell_type": "code",
     "collapsed": false,
     "input": [
      "freq = 220\n",
      "mix = thinkdsp.TriangleSignal(freq=freq) + thinkdsp.TriangleSignal(freq=freq*2, amp=1.0) \n",
      "wave = mix.make_wave(duration=1)\n",
      "wave.normalize()\n",
      "wave.apodize()\n",
      "wave.make_audio()"
     ],
     "language": "python",
     "metadata": {},
     "outputs": []
    },
    {
     "cell_type": "code",
     "collapsed": false,
     "input": [
      "wave.segment(start=0.5, duration=0.021).plot()"
     ],
     "language": "python",
     "metadata": {},
     "outputs": []
    },
    {
     "cell_type": "code",
     "collapsed": false,
     "input": [
      "spectrum = wave.make_spectrum()\n",
      "spectrum.plot(high=2500)"
     ],
     "language": "python",
     "metadata": {},
     "outputs": []
    },
    {
     "cell_type": "code",
     "collapsed": false,
     "input": [],
     "language": "python",
     "metadata": {},
     "outputs": []
    },
    {
     "cell_type": "code",
     "collapsed": false,
     "input": [],
     "language": "python",
     "metadata": {},
     "outputs": []
    }
   ],
   "metadata": {}
  }
 ]
}