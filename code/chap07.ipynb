{
 "metadata": {
  "name": "",
  "signature": "sha256:4c4906077fa3f10c8373ca15a89e7c077beb785d9561eacf138989f497d99c23"
 },
 "nbformat": 3,
 "nbformat_minor": 0,
 "worksheets": [
  {
   "cells": [
    {
     "cell_type": "markdown",
     "metadata": {},
     "source": [
      "ThinkDSP, by Allen Downey\n",
      "(think-dsp.com)\n",
      "\n",
      "This notebook contains code examples from Chapter 7: Discrete Fourier Transform"
     ]
    },
    {
     "cell_type": "code",
     "collapsed": false,
     "input": [
      "import thinkdsp\n",
      "import thinkplot\n",
      "import thinkstats2\n",
      "import math\n",
      "import numpy\n",
      "from __future__ import print_function, division"
     ],
     "language": "python",
     "metadata": {},
     "outputs": [],
     "prompt_number": 240
    },
    {
     "cell_type": "markdown",
     "metadata": {},
     "source": [
      "Here's the definition of ComplexSignal"
     ]
    },
    {
     "cell_type": "code",
     "collapsed": false,
     "input": [
      "PI2 = math.pi * 2\n",
      "\n",
      "class ComplexSignal(thinkdsp.Sinusoid):\n",
      "    \"\"\"Represents a complex exponential signal.\"\"\"\n",
      "    \n",
      "    def evaluate(self, ts):\n",
      "        \"\"\"Evaluates the signal at the given times.\n",
      "\n",
      "        ts: float array of times\n",
      "        \n",
      "        returns: float wave array\n",
      "        \"\"\"\n",
      "        i = complex(0, 1)\n",
      "        phases = PI2 * self.freq * ts + self.offset\n",
      "        ys = self.amp * numpy.exp(i * phases)\n",
      "        return ys"
     ],
     "language": "python",
     "metadata": {},
     "outputs": [],
     "prompt_number": 241
    },
    {
     "cell_type": "markdown",
     "metadata": {},
     "source": [
      "Here's an example:"
     ]
    },
    {
     "cell_type": "code",
     "collapsed": false,
     "input": [
      "signal = ComplexSignal(1, 0.6, 1)\n",
      "wave = signal.make_wave(duration=1, framerate=4)\n",
      "wave.ys"
     ],
     "language": "python",
     "metadata": {},
     "outputs": [
      {
       "metadata": {},
       "output_type": "pyout",
       "prompt_number": 243,
       "text": [
        "array([ 0.32418138+0.50488259j, -0.50488259+0.32418138j,\n",
        "       -0.32418138-0.50488259j,  0.50488259-0.32418138j])"
       ]
      }
     ],
     "prompt_number": 243
    },
    {
     "cell_type": "markdown",
     "metadata": {},
     "source": [
      "The simplest way to synthesize a mixture of signals is to evaluate the signals and add them up."
     ]
    },
    {
     "cell_type": "code",
     "collapsed": false,
     "input": [
      "def synthesize1(amps, freqs, ts):\n",
      "    components = [thinkdsp.ComplexSignal(freq, amp)\n",
      "                  for amp, freq in zip(amps, freqs)]\n",
      "    signal = thinkdsp.SumSignal(*components)\n",
      "    ys = signal.evaluate(ts)\n",
      "    return ys"
     ],
     "language": "python",
     "metadata": {},
     "outputs": [],
     "prompt_number": 244
    },
    {
     "cell_type": "markdown",
     "metadata": {},
     "source": [
      "Here's an example that's a mixture of 4 components."
     ]
    },
    {
     "cell_type": "code",
     "collapsed": false,
     "input": [
      "amps = numpy.array([0.6, 0.25, 0.1, 0.05])\n",
      "freqs = [100, 200, 300, 400]\n",
      "framerate = 11025\n",
      "\n",
      "ts = numpy.linspace(0, 1, framerate)\n",
      "ys = synthesize1(amps, freqs, ts)\n",
      "ys"
     ],
     "language": "python",
     "metadata": {},
     "outputs": [
      {
       "metadata": {},
       "output_type": "pyout",
       "prompt_number": 246,
       "text": [
        "array([ 1.00000000 +0.00000000e+00j,  0.99465119 +9.09309464e-02j,\n",
        "        0.97873848 +1.80300718e-01j, ...,  0.97873848 -1.80300718e-01j,\n",
        "        0.99465119 -9.09309464e-02j,  1.00000000 -5.08135201e-15j])"
       ]
      }
     ],
     "prompt_number": 246
    },
    {
     "cell_type": "markdown",
     "metadata": {},
     "source": [
      "The real part is a mixture of cosines; the imaginary part is a mixture of sines."
     ]
    },
    {
     "cell_type": "code",
     "collapsed": false,
     "input": [
      "wave = thinkdsp.Wave(ys.real, framerate)\n",
      "wave.make_audio()"
     ],
     "language": "python",
     "metadata": {},
     "outputs": [
      {
       "html": [
        "\n",
        "                <audio controls=\"controls\" >\n",
        "                    <source src=\"data:audio/wav;base64,UklGRkZWAABXQVZFZm10IBAAAAABAAEAESsAACJWAAACABAAZGF0YSJWAAD/f09/Rn3veWF1tm8TaZ9hhFnyUBRIGT8rNnAtCiUUHaUVzA6QCPUC9v2K+aX1NfIq73Ds9Oml53LlUeM14Rrf/dze2sHYrNan1LrS8NBRz+bNs8y/ywnLkspVykzKb8q0yhDLd8vfyz3MiMy6zM3MwcyXzFHM98uRyyjLyMp9ylHKTsp+yufKjstzzJfN9c6I0EnSLtQu1kDYXNp73JnetODP4u7kHOdi6dLrfO5y8cj0j/ja/LQBKQc+DfMTPxsWI2MrDTTyPO5F1k5/V7pfW2c0bh1083iWfPF+9H+Zf+J92nqUdipxwGp6Y4NbCVM5SkJBTTiCLwUn8h5hF2MQAQo/BBz/jfqJ9v/y3e8R7YjqL+j35dPjt+Gc33/dYNtC2SvXIdUu01rRsM84zvfM9Msvy6nKXspKymPKocr4yl7Lx8sozHjMsczMzMfMpMxkzA7MqstBy97KjMpYykrKbsrIymDLNsxLzZzOI9DZ0bfTsdXA19rZ+dsX3jPgTeJr5JTm0+g469LttPDx85z3xft8AMsFugtIEnEZKCFbKfIxzDrGQ7dMc1XNXZdlo2zKcuV31HuAftZ/z39rfrJ7tneQcl9sSmV6XRtVXExqQ3A6mDEFKdcgJRkCEnoLkgVJAJj7dPfO85Xwtu0e67zofuZV5DjiHeAB3uPbxNmq15zVo9PH0RLQjc4/zSzMWcvEymvKSspZyo/K4cpFy67LEsxnzKbMyMzLzK/MdswkzMPLWsv0yp7KYcpKymDKrco2y/3LA81GzsHPbNFB0zXVQNdY2Xbbld2x38zh6OMO5kfooeos7fvvIfOv9rn6Tf93BD8KpxCsF0IfWifbL6g4nkGVSmJT11vIYwZrZ3HFdv96+n2kf/F/4H53fMd45nPybRBnaV8oV3xOkkWWPLMzDCvDIvEaqxP9DO4GfwGr/Gb4o/RS8V/uuOtK6QXn2OS54p/gg95l3EbaK9gZ1hrUNtJ30ObOis1pzIbL4sp7yk3KUsp/yszKLMuVy/vLVMyZzMLMzcy4zIbMOszby3PLDMuxym3KS8pWypbKD8vHy7/M881hzwLRzdK71MHW19j02hPdMN9L4WbjieW85wzqiuxH71byyvW1+Sf+KwPNCA8P7xVjHV4lyC2GNnU/cEhLUdpZ72FbafVvlXUYemF9XX/+f0F/Kn3GeSx1d2/KaE9hL1mYULlHvj7RNRgttiTGHFwViQ5UCL8Cxv1g+X/1FPIN71Xs2+mO51zlO+Mg4QXf59zI2qzYl9aS1KfS39BCz9jNqMy2ywPLjspTykzKccq3yhTLfMvjy0HMi8y7zM7MwMyUzE7M88uMyyTLxcp6ylDKT8qByu3Klct+zKTNBM+Z0FzSQtRD1lbYctqR3K7eyuDk4gTlMud76ezrmO6S8ez0ufgJ/ekBZQeADToUjBtoI7orZzROPUpGME/WVwxgpWd1blR0Hnm1fAJ/93+Of8l9tHpidu1weWorYy5bsFLeSeZA8jcpL7Amoh4WFx4QwwkHBOr+Yvpi9t3yv+/27G/qGOjh5b3joeGG32rdS9st2RbXDNUa00nRoM8qzuzM68spy6XKXcpKymXKpMr8ymLLy8sszHvMsszMzMbMosxhzArMpss9y9rKispWykvKcMrNymfLQMxYzavONNDs0crTxtXV1/DZDtwt3kjgY+KB5Krm6+hR6+7t0/AU9MT38/uvAAUG+guPEr0ZeiGyKUsyKDsiRBJNy1UgXuNl52wDcxN49nuUft1/x39Vfo97h3dVchts/WQnXcNUAUwOQxU6PzGwKIUg2Ri8ETsLWQUWAGv7TPer83bwmu0F66ToZ+Y/5CLiCODs3c3br9mV14jVj9O10QLQf84zzSPMUcu/ymnKSspbypLK5cpJy7LLFsxqzKjMyczLzK3Mc8whzL/LVsvxypvKX8pJymLKsso9ywbMD81UztHPftFU00rVVddu2Yzbq93H3+Lh/uMk5l7ouupH7RrwQ/PW9uX6f/+vBH4K7BD3F5Mfryc0MAM5+kHwSrpTLFwWZExro3H2diR7En6tf+1/zn5YfJt4rnOwbcVmF1/RViJONkU7PFkztSpwIqQaZBO8DLQGSwF9/D34f/Qy8UPunusz6e7mw+Sk4ongbt5P3DHaFdgE1gbUI9Jm0NfOfc1ezH7L3Mp4yk3KU8qCys/KMMuZy//LWMybzMTMzcy3zIPMNszXy2/LCMutymvKS8pYypnKFsvQy8rMAc5xzxPR4NLP1NbW7NgK2yndRt9g4Xzjn+XT5yXqpexl73jy8PXg+Vf+YgMKCVMPOBazHbIlIC7hNtE/zEilUS9aPmKjaTRwyXU/enx9an/9fzJ/DX2defd0N2+CaP5g2Vg+UF1HYj52NcAsYiR3HBQVRg4YCIkCl/02+Vr18/Hv7jvsw+l350blJeMK4e/e0tyz2pbYgtZ+1JTSzdAyz8vNnsyuy/7Ki8pSyk3Kc8q6yhjLgMvny0TMjcy9zM7Mv8ySzEvM78uIyyDLwcp4yk/KUMqEyvLKnsuIzLHNE8+r0G7SVtRY1mvYh9qm3MTe3+D64hrlSeeT6Qbste6y8RH14vg4/R4CoAfCDYMU2hu8IxEswTSqPaVGik8sWF1g72e2bot0SXnTfBN/+n+Df7B9jnovdrBwMmrcYtpaV1KDSYpAljfRLlsmUh7MFtoPhQnQA7n+Nvo89rvyoe/b7FbqAejL5afji+Fx31TdNdsX2QDX+NQH0zfRkM8czuDM4ssiy6HKW8pKymfKp8oAy2bLz8svzH7MtMzMzMXMn8xezAbMocs4y9bKh8pVykvKc8rSym/LSsxkzbnORND+0d7T29Xq1wXaJNxC3l7geeKX5MHmA+lr6wru8/A49Oz3IfzjAD8GOwzVEgoazCEIKqUygzt+RGxNIlZyXi5mKm09c0F4F3yofuJ/v38/fmx7V3cactZrsGTTXGtUpkuyQro55jBaKDQgjRh3EfsKIAXk/z77JfeI81fwfu3s6o3oUeYq5A3i8t/W3bfbmdmA13PVfNOj0fHPcM4nzRnMSsu6ymfKSspcypXK6cpNy7bLGcxtzKnMyczKzKvMcMwdzLrLUcvtypjKXspKymTKtspDyxDMG81izuHPkNFo017VateD2aLbwN3d3/fhFOQ65nXo0+pj7TjwZfP99hL7sf/nBLwKMRFCGOMfBCiNMF45VkJLSxNUf1xjZJFr33End0h7KX63f+h/u344fG54dXNtbXpmxV56VsdN2kTfO/8yXyoeIlcaHBN7DHkGFwFP/BX4W/QS8Sbuhesb6djmreSO4nPgWN463BvaANjv1fLTEdJV0MjOcc1UzHbL18p1ykzKVMqEytPKNMudywPMW8ydzMXMzcy1zIDMM8zTy2vLBMuqymnKSspZyp3KHMvZy9XMDs6AzyXR9NLk1OvWAtkf2z7dW9924ZLjteXq5z3qwOyD75nyFvYL+oj+mQNHCZYPghYCHgYmeC48Ny5AJ0n+UYVajWLraXJw/HVnepZ9d3/8fyN/8XxzecF09244aK5gg1jkTwFHBj4cNWksDyQpHMsUBA7cB1MCZ/0M+TX10/HS7iDsq+lg5zDlEOP14NrevNyd2oHYbdZq1IHSvNAjz77Nk8ymy/jKiMpRyk7Kdsq+yhzLhMvry0fMkMy+zM7MvsyQzEfM68uEyxzLvsp2yk7KUcqIyvjKpsuTzL7NI8+80IHSatRt1oHYndq83Nre9eAQ4zDlYOer6SDs0u7T8TX1DPln/VMC3AcEDssUKRwPJGksHDUGPgFH5E+DWK5gOGj3bsF0c3nxfCN//H93f5Z9Z3r8dXJw62mNYoVa/lEnSS5APDd4LgYmAh6CFpYPRwmZA4j+C/oW9pnyg+/A7D3q6ue15ZLjduFb3z7dH9sC2evW5NT00iXRgM8OztXM2cscy53KWcpKymnKqsoEy2vL08szzIDMtczNzMXMncxbzAPMncs0y9PKhMpUykzKdcrXynbLVMxxzcjOVdAR0vLT79UA2BvaOtxY3nPgjuKt5NjmG+mF6ybuEvFb9BX4T/wXAXkGewwcE1caHiJfKv8y3zvaRMdNelbFXnpmbW11c254OHy7fuh/t38pfkh7J3ffcZFrY2R/XBNUS0tWQl45jTAEKOMfQhgxEbwK5wSx/xL7/fZl8zjwY+3T6nXoOuYU5Pfh3d/A3aLbg9lq117VaNOQ0eHPYs4bzRDMQ8u2ymTKSspeypjK7cpRy7rLHcxwzKvMyszJzKnMbcwZzLbLTcvpypXKXMpKymfKuspKyxnMJ81wzvHPo9F803PVgNeZ2bfb1t3y3w3iKuRR5o3o7Op+7VfwiPMl9z775P8gBfsKdxGNGDQgWijmMLo5skKmS2tU01ywZNZrGnJXd2x7P36/f+J/qH4XfEF4PXMqbS5mcl4iVmxNfkSDO6UyCCrMIQoa1RI7DD8G4wAh/Oz3OPTz8Arua+sD6cHml+R54l7gQt4k3AXa6tfb1d7T/tFE0LnOZM1KzG/L0spzykvKVcqHytbKOMuhywbMXsyfzMXMzMy0zH7ML8zPy2bLAMunymfKSspbyqHKIsviy+DMHM6QzzfRB9P41ADXF9k121Tdcd+L4afjy+UB6Fbq2+yh77vyPPY2+rn+0AOFCdoPzBZSHlsm0S6WN4pAg0lXUtpa3GIyarBwL3aOerB9g3/6fxN/03xJeYt0tm7vZ11gLFiKT6VGqj3BNBEsvCPaG4MUwg2gBx4COP3i+BH1svG17gbsk+lJ5xrl+uLf4MTeptyH2mvYWNZW1G7Sq9ATz7HNiMyey/LKhMpQyk/KeMrByiDLiMvvy0vMksy/zM7MvcyNzETM58uAyxjLuspzyk3KUsqLyv7KrsuezMvNMs/N0JTSftSC1pbYs9rS3O/eCuEl40bld+fD6Tvs7+7z8Vr1NvmX/YkCGAhGDhQVdxxiJMAsdjViPl1HPlDZWP5ggmg3b/d0nXkNfTJ//X9qf3x9P3rJdTRwo2k+Yi9apVHMSNE/4TYgLrIlsx04FlMPCgliA1f+4Pnw9XjyZe+l7CXq0+ef5XzjYOFG3yndCtvs2NbWz9Tg0hPRcc8BzsrM0MsWy5nKWMpLymvKrcoIy2/L18s2zIPMt8zNzMTMm8xYzP/Lmcswy8/KgspTyk3KeMrcyn7LXsx9zdfOZtAj0gbUBNYV2DHaT9xu3ongpOLD5O7mM+me60PuMvF/9D34ffxLAbQGvAxkE6QacCK1KlkzOzw2RSJO0VYXX8VmsG2uc5t4WHzOfu1/rX8SfiR79najcUxrFmQsXLpT8Er6QQM5NDCvJ5Mf9xfsEH4KrwR//+X61vZD8xrwR+266l7oJOb+4+Lhx9+r3YzbbtlV10rVVNN+0dHPVM4PzQbMPcuyymLKScpfypvK8cpWy7/LIcxzzK3My8zJzKjMaswWzLLLScvlypLKW8pKymnKv8pRyyPMM81/zgLQtdGP04jVldev2c3b7N0I4CLiP+Rn5qToBeua7Xbwq/NM92v7FgBZBTsLvBHZGIUgsCg/MRU6DkMBTMNUJ139ZBtsVXKHd497VX7Hf91/lH72exN4A3PnbONlIF7LVRJNIkQoO0sysil6Ib0ZjxL6CwUGrwDz+8T3FPTT8O7tUevr6KrmgeRj4kjgLd4O3PDZ1dfG1crT7NE00KvOWM1AzGfLzcpwykvKVsqKytrKPcumywrMYcyizMbMzMyyzHvMLMzLy2LL/MqkymXKSspdyqXKKcvry+zMKs6gz0nRGtMM1RbXLdlL22rdht+h4b3j4eUY6G/q9uy/793yYvZi+ur+BwTDCR4QFheiHrAmKS/yN+ZA3kmwUi5bK2N5au1wYna0esl9jn/3fwJ/tXweeVR0dW6lZwxg1lcwT0pGTj1nNLoraCOMGzoUgA1lB+kBCf25+Oz0kvGY7uzre+ky5wTl5OLK4K7ekdxy2lbYQ9ZC1FzSmdAEz6TNfsyVy+3KgcpPylDKesrFyiTLjMvzy07MlMzAzM7Mu8yLzEHM48t8yxTLt8pxykzKU8qOygPLtsuozNjNQs/f0KfSktSX1qzYyNrn3AXfIOE741zljufb6VXsDe8U8n/1YPnG/b8CVAiJDlwVxhy2JBgt0TW+PrlHmFAvWU9hymh3byx1xnkqfUF//n9df2F9GHqVdfVvW2nvYdpZS1FwSHU/hjbILV4lYx3vFQ8PzQgrAyf+tfnK9VbyR++K7AzqvOeJ5WbjS+Ew3xPd9NrX2MHWu9TN0gLRYc/zzb/Mx8sPy5bKVspLym3KscoMy3PL28s6zIbMuMzNzMLMmcxUzPvLlcssy8zKf8pSyk3Ke8riyobLacyKzebOd9A20hrUGdYr2EbaZdyD3p/gueLY5AXnSum461/uUvGj9Gb4q/x/Ae4G/QyrE/EawyIMK7MzljySRXxOKFdpXxBn8m3mc8d4d3zgfvF/pH/6ff96xXZncQZryGPXW2JTlUqeQag42y9aJ0IfrBenED8KdwRN/7n6r/Yh8/vvLO2h6kfoDubo48zhsd+V3XbbWNlA1zXVQdNs0cHPRs4Dzf3LNsutymDKSsphyp7K9Mpay8PLJMx2zK/My8zIzKbMZ8wSzK7LRcvhyo/KWcpKymvKxMpZyyzMP82NzhLQx9Gj05zVqtfE2ePbAd4d4DjiVeR+5rzoHuu27ZXwzvN095j7SQCSBXoLAhIlGdcgBSmYMXA6akNcTBtVel1KZV9skHK2d7J7a37Pf9Z/gH7Ue+V3ynKjbJdlzV1zVbdMxkPMOvIxWykoIXEZSBK6C8sFfADF+5z38fO08NLtOOvT6JTma+RN4jPgF97529rZwNex1bfT2dEj0JzOS802zGDLyMpuykrKWMqMyt7KQcuqyw7MZMykzMfMzMyxzHjMKMzHy17L+MqhymPKSspeyqnKL8v0y/fMOM6wz1rRLtMh1SvXQtlg23/dnN+34dPj9+Uv6IjqEe3d7//yifaN+hz/PwQBCmMQYRfyHgUngi9NOEJBOUoJU4NbemPAaipxlHbaeuJ9mX/0f/F+lnzzeB10NG5bZ7pff1fWTu5F8jwNNGMrFiM/G/MTPg0pB7QB2vyP+Mj0cvF87tLrYukc5+7kz+K04Jnee9xc2kDYLtYu1EnSiND1zpfNc8yOy+fKfspOylHKfcrIyijLkcv3y1HMl8zBzM3MusyIzD3M38t3yxDLtMpvykzKVcqSygnLv8uzzObNUc/w0LrSp9Ss1sHY3tr93BrfNeFR43Llpef06XDsKu818qX1ivn2/fUCkAjMDqUVFB0KJXAtKzYZPxRI8lCEWZ9hE2m2b2F173lGfU9//39Pf0Z973lhdbZvE2mfYYRZ8lAUSBk/KzZwLQolFB2lFcwOkAj1Avb9ivml9TXyKu9w7PTppedy5VHjNeEa3/3c3trB2KzWp9S60vDQUc/mzbPMv8sJy5LKVcpMym/KtMoQy3fL38s9zIjMuszNzMHMl8xRzPfLkcsoy8jKfcpRyk7Kfsrnyo7Lc8yXzfXOiNBJ0i7ULtZA2Fzae9yZ3rTgz+Lu5BznYunS63zucvHI9I/42vy0ASkHPg3zEz8bFiNjKw008jzuRdZOf1e6X1tnNG4ddPN4lnzxfvR/mX/ifdp6lHYqccBqemODWwlTOUpCQU04gi8FJ/IeYRdjEAEKPwQc/436ifb/8t3vEe2I6i/o9+XT47fhnN9/3WDbQtkr1yHVLtNa0bDPOM73zPTLL8upyl7KSspjyqHK+Mpey8fLKMx4zLHMzMzHzKTMZMwOzKrLQcveyozKWMpKym7KyMpgyzbMS82cziPQ2dG307HVwNfa2fnbF94z4E3ia+SU5tPoOOvS7bTw8fOc98X7fADLBboLSBJxGSghWynyMcw6xkO3THNVzV2XZaNsynLld9R7gH7Wf89/a36ye7Z3kHJfbEplel0bVVxMakNwOpgxBSnXICUZAhJ6C5IFSQCY+3T3zvOV8LbtHuu86H7mVeQ44h3gAd7j28TZqtec1aPTx9ES0I3OP80szFnLxMprykrKWcqPyuHKRcuuyxLMZ8ymzMjMy8yvzHbMJMzDy1rL9MqeymHKSspgyq3KNsv9ywPNRs7Bz2zRQdM11UDXWNl225Xdsd/M4ejjDuZH6KHqLO377yHzr/a5+k3/dwQ/CqcQrBdCH1on2y+oOJ5BlUpiU9dbyGMGa2dxxXb/evp9pH/xf+B+d3zHeOZz8m0QZ2lfKFd8TpJFljyzMwwrwyLxGqsT/QzuBn8Bq/xm+KP0UvFf7rjrSukF59jkueKf4IPeZdxG2ivYGdYa1DbSd9DmzorNacyGy+LKe8pNylLKf8rMyizLlcv7y1TMmczCzM3MuMyGzDrM28tzywzLscptykvKVsqWyg/Lx8u/zPPNYc8C0c3Su9TB1tfY9NoT3TDfS+Fm44nlvOcM6orsR+9W8sr1tfkn/isDzQgPD+8VYx1eJcgthjZ1P3BIS1HaWe9hW2n1b5V1GHphfV1//n9Bfyp9xnksdXdvymhPYS9ZmFC5R74+0TUYLbYkxhxcFYkOVAi/Asb9YPl/9RTyDe9V7Nvpjudc5TvjIOEF3+fcyNqs2JfWktSn0t/QQs/YzajMtssDy47KU8pMynHKt8oUy3zL48tBzIvMu8zOzMDMlMxOzPPLjMsky8XKespQyk/KgcrtypXLfsykzQTPmdBc0kLUQ9ZW2HLakdyu3srg5OIE5TLne+ns65jukvHs9Ln4Cf3pAWUHgA06FIwbaCO6K2c0Tj1KRjBP1lcMYKVndW5UdB55tXwCf/d/jn/JfbR6YnbtcHlqK2MuW7BS3knmQPI3KS+wJqIeFhceEMMJBwTq/mL6Yvbd8r/v9uxv6hjo4eW946Hhht9q3UvbLdkW1wzVGtNJ0aDPKs7szOvLKculyl3KSsplyqTK/Mpiy8vLLMx7zLLMzMzGzKLMYcwKzKbLPcvayorKVspLynDKzcpny0DMWM2rzjTQ7NHK08bV1dfw2Q7cLd5I4GPigeSq5uvoUevu7dPwFPTE9/P7rwAFBvoLjxK9GXohsilLMig7IkQSTctVIF7jZedsA3MTePZ7lH7df8d/VX6Pe4d3VXIbbP1kJ13DVAFMDkMVOj8xsCiFINkYvBE7C1kFFgBr+0z3q/N28JrtBeuk6GfmP+Qi4gjg7N3N26/ZldeI1Y/TtdEC0H/OM80jzFHLv8ppykrKW8qSyuXKScuyyxbMasyozMnMy8ytzHPMIcy/y1bL8cqbyl/KScpiyrLKPcsGzA/NVM7Rz37RVNNK1VXXbtmM26vdx9/i4f7jJOZe6LrqR+0a8EPz1vbl+n//rwR+CuwQ9xeTH68nNDADOfpB8Eq6UyxcFmRMa6Nx9nYkexJ+rX/tf85+WHybeK5zsG3FZhdf0VYiTjZFOzxZM7UqcCKkGmQTvAy0BksBffw9+H/0MvFD7p7rM+nu5sPkpOKJ4G7eT9wx2hXYBNYG1CPSZtDXzn3NXsx+y9zKeMpNylPKgsrPyjDLmcv/y1jMm8zEzM3Mt8yDzDbM18tvywjLrcprykvKWMqZyhbL0MvKzAHOcc8T0eDSz9TW1uzYCtsp3UbfYOF845/l0+cl6qXsZe948vD14PlX/mIDCglTDzgWsx2yJSAu4TbRP8xIpVEvWj5io2k0cMl1P3p8fWp//X8yfw19nXn3dDdvgmj+YNlYPlBdR2I+djXALGIkdxwUFUYOGAiJApf9Nvla9fPx7+477MPpd+dG5SXjCuHv3tLcs9qW2ILWftSU0s3QMs/LzZ7Mrsv+yovKUspNynPKusoYy4DL58tEzI3MvczOzL/MksxLzO/LiMsgy8HKeMpPylDKhMryyp7LiMyxzRPPq9Bu0lbUWNZr2IfaptzE3t/g+uIa5Unnk+kG7LXusvER9eL4OP0eAqAHwg2DFNobvCMRLME0qj2lRopPLFhdYO9ntm6LdEl503wTf/p/g3+wfY56L3awcDJq3GLaWldSg0mKQJY30S5bJlIezBbaD4UJ0AO5/jb6PPa78qHv2+xW6gHoy+Wn44vhcd9U3TXbF9kA1/jUB9M30ZDPHM7gzOLLIsuhylvKSspnyqfKAMtmy8/LL8x+zLTMzMzFzJ/MXswGzKHLOMvWyofKVcpLynPK0spvy0rMZM25zkTQ/tHe09vV6tcF2iTcQt5e4Hnil+TB5gPpa+sK7vPwOPTs9yH84wA/BjsM1RIKGswhCCqlMoM7fkRsTSJWcl4uZiptPXNBeBd8qH7if79/P35se1d3GnLWa7Bk01xrVKZLskK6OeYwWig0II0YdxH7CiAF5P8++yX3iPNX8H7t7OqN6FHmKuQN4vLf1t2325nZgNdz1XzTo9Hxz3DOJ80ZzErLuspnykrKXMqVyunKTcu2yxnMbcypzMnMysyrzHDMHcy6y1HL7cqYyl7KSspkyrbKQ8sQzBvNYs7hz5DRaNNe1WrXg9mi28Dd3d/34RTkOuZ16NPqY+048GXz/fYS+7H/5wS8CjERQhjjHwQojTBeOVZCS0sTVH9cY2SRa99xJ3dIeyl+t3/of7t+OHxueHVzbW16ZsVeelbHTdpE3zv/Ml8qHiJXGhwTewx5BhcBT/wV+Fv0EvEm7oXrG+nY5q3kjuJz4FjeOtwb2gDY79Xy0xHSVdDIznHNVMx2y9fKdcpMylTKhMrTyjTLncsDzFvMnczFzM3MtcyAzDPM08trywTLqsppykrKWcqdyhzL2cvVzA7OgM8l0fTS5NTr1gLZH9s+3VvfduGS47Xl6uc96sDsg++Z8hb2C/qI/pkDRwmWD4IWAh4GJnguPDcuQCdJ/lGFWo1i62lycPx1Z3qWfXd//H8jf/F8c3nBdPduOGiuYINY5E8BRwY+HDVpLA8kKRzLFAQO3AdTAmf9DPk19dPx0u4g7KvpYOcw5RDj9eDa3rzcndqB2G3WatSB0rzQI8++zZPMpsv4yojKUcpOynbKvsocy4TL68tHzJDMvszOzL7MkMxHzOvLhMscy77KdspOylHKiMr4yqbLk8y+zSPPvNCB0mrUbdaB2J3avNza3vXgEOMw5WDnq+kg7NLu0/E19Qz5Z/1TAtwHBA7LFCkcDyRpLBw1Bj4BR+RPg1iuYDho927BdHN58Xwjf/x/d3+WfWd6/HVycOtpjWKFWv5RJ0kuQDw3eC4GJgIeghaWD0cJmQOI/gv6FvaZ8oPvwOw96urnteWS43bhW98+3R/bAtnr1uTU9NIl0YDPDs7VzNnLHMudylnKSsppyqrKBMtry9PLM8yAzLXMzczFzJ3MW8wDzJ3LNMvTyoTKVMpMynXK18p2y1TMcc3IzlXQEdLy0+/VANgb2jrcWN5z4I7ireTY5hvphesm7hLxW/QV+E/8FwF5BnsMHBNXGh4iXyr/Mt872kTHTXpWxV56Zm1tdXNueDh8u37of7d/KX5Ieyd333GRa2Nkf1wTVEtLVkJeOY0wBCjjH0IYMRG8CucEsf8S+/32ZfM48GPt0+p16DrmFOT34d3fwN2i24PZatde1WjTkNHhz2LOG80QzEPLtspkykrKXsqYyu3KUcu6yx3McMyrzMrMycypzG3MGcy2y03L6cqVylzKSspnyrrKSssZzCfNcM7xz6PRfNNz1YDXmdm329bd8t8N4irkUeaN6Ozqfu1X8IjzJfc+++T/IAX7CncRjRg0IFoo5jC6ObJCpktrVNNcsGTWaxpyV3dsez9+v3/if6h+F3xBeD1zKm0uZnJeIlZsTX5EgzulMggqzCEKGtUSOww/BuMAIfzs9zj08/AK7mvrA+nB5pfkeeJe4ELeJNwF2urX29Xe0/7RRNC5zmTNSsxvy9LKc8pLylXKh8rWyjjLocsGzF7Mn8zFzMzMtMx+zC/Mz8tmywDLp8pnykrKW8qhyiLL4svgzBzOkM830QfT+NQA1xfZNdtU3XHfi+Gn48vlAehW6tvsoe+78jz2Nvq5/tADhQnaD8wWUh5bJtEuljeKQINJV1LaWtxiMmqwcC92jnqwfYN/+n8Tf9N8SXmLdLZu72ddYCxYik+lRqo9wTQRLLwj2huDFMINoAceAjj94vgR9bLxte4G7JPpSeca5fri3+DE3qbch9pr2FjWVtRu0qvQE8+xzYjMnsvyyoTKUMpPynjKwcogy4jL78tLzJLMv8zOzL3MjcxEzOfLgMsYy7rKc8pNylLKi8r+yq7LnszLzTLPzdCU0n7UgtaW2LPa0tzv3grhJeNG5Xfnw+k77O/u8/Fa9Tb5l/2JAhgIRg4UFXccYiTALHY1Yj5dRz5Q2Vj+YIJoN2/3dJ15DX0yf/1/an98fT96yXU0cKNpPmIvWqVRzEjRP+E2IC6yJbMdOBZTDwoJYgNX/uD58PV48mXvpewl6tPnn+V842DhRt8p3Qrb7NjW1s/U4NIT0XHPAc7KzNDLFsuZyljKS8pryq3KCMtvy9fLNsyDzLfMzczEzJvMWMz/y5nLMMvPyoLKU8pNynjK3Mp+y17Mfc3XzmbQI9IG1ATWFdgx2k/cbt6J4KTiw+Tu5jPpnutD7jLxf/Q9+H38SwG0BrwMZBOkGnAitSpZMzs8NkUiTtFWF1/FZrBtrnObeFh8zn7tf61/En4ke/Z2o3FMaxZkLFy6U/BK+kEDOTQwryeTH/cX7BB+Cq8Ef//l+tb2Q/Ma8Eftuupe6CTm/uPi4cffq92M227ZVddK1VTTftHRz1TOD80GzD3LsspiyknKX8qbyvHKVsu/yyHMc8ytzMvMycyozGrMFsyyy0nL5cqSylvKSsppyr/KUcsjzDPNf84C0LXRj9OI1ZXXr9nN2+zdCOAi4j/kZ+ak6AXrmu128KvzTPdr+xYAWQU7C7wR2RiFILAoPzEVOg5DAUzDVCdd/WQbbFVyh3ePe1V+x3/df5R+9nsTeANz52zjZSBey1USTSJEKDtLMrIpeiG9GY8S+gsFBq8A8/vE9xT00/Du7VHr6+iq5oHkY+JI4C3eDtzw2dXXxtXK0+zRNNCrzljNQMxny83KcMpLylbKisrayj3LpssKzGHMoszGzMzMssx7zCzMy8tiy/zKpMplykrKXcqlyinL68vszCrOoM9J0RrTDNUW1y3ZS9tq3YbfoeG94+HlGOhv6vbsv+/d8mL2Yvrq/gcEwwkeEBYXoh6wJikv8jfmQN5JsFIuWytjeWrtcGJ2tHrJfY5/938Cf7V8HnlUdHVupWcMYNZXME9KRk49ZzS6K2gjjBs6FIANZQfpAQn9ufjs9JLxmO7s63vpMucE5eTiyuCu3pHcctpW2EPWQtRc0pnQBM+kzX7MlcvtyoHKT8pQynrKxcoky4zL88tOzJTMwMzOzLvMi8xBzOPLfMsUy7fKccpMylPKjsoDy7bLqMzYzULP39Cn0pLUl9as2Mja59wF3yDhO+Nc5Y7n2+lV7A3vFPJ/9WD5xv2/AlQIiQ5cFcYctiQYLdE1vj65R5hQL1lPYcpod28sdcZ5Kn1Bf/5/XX9hfRh6lXX1b1tp72HaWUtRcEh1P4Y2yC1eJWMd7xUPD80IKwMn/rX5yvVW8kfviuwM6rznieVm40vhMN8T3fTa19jB1rvUzdIC0WHP882/zMfLD8uWylbKS8ptyrHKDMtzy9vLOsyGzLjMzczCzJnMVMz7y5XLLMvMyn/KUspNynvK4sqGy2nMis3mznfQNtIa1BnWK9hG2mXcg96f4Lni2OQF50rpuOtf7lLxo/Rm+Kv8fwHuBv0MqxPxGsMiDCuzM5Y8kkV8TihXaV8QZ/Jt5nPHeHd84H7xf6R/+n3/esV2Z3EGa8hj11tiU5VKnkGoONsvWidCH6wXpxA/CncETf+5+q/2IfP77yztoepH6A7m6OPM4bHfld1221jZQNc11UHTbNHBz0bOA839yzbLrcpgykrKYcqeyvTKWsvDyyTMdsyvzMvMyMymzGfMEsyuy0XL4cqPylnKSsprysTKWcsszD/Njc4S0MfRo9Oc1arXxNnj2wHeHeA44lXkfua86B7rtu2V8M7zdPeY+0kAkgV6CwISJRnXIAUpmDFwOmpDXEwbVXpdSmVfbJBytneye2t+z3/Wf4B+1Hvld8pyo2yXZc1dc1W3TMZDzDryMVspKCFxGUgSugvLBXwAxfuc9/HztPDS7Tjr0+iU5mvkTeIz4Bfe+dva2cDXsdW309nRI9CczkvNNsxgy8jKbspKyljKjMreykHLqssOzGTMpMzHzMzMscx4zCjMx8tey/jKocpjykrKXsqpyi/L9Mv3zDjOsM9a0S7TIdUr10LZYNt/3Zzft+HT4/flL+iI6hHt3e//8on2jfoc/z8EAQpjEGEX8h4FJ4IvTThCQTlKCVODW3pjwGoqcZR22nrifZl/9H/xfpZ883gddDRuW2e6X39X1k7uRfI8DTRjKxYjPxvzEz4NKQe0Adr8j/jI9HLxfO7S62LpHOfu5M/itOCZ3nvcXNpA2C7WLtRJ0ojQ9c6XzXPMjsvnyn7KTspRyn3KyMooy5HL98tRzJfMwczNzLrMiMw9zN/Ld8sQy7TKb8pMylXKksoJy7/Ls8zmzVHP8NC60qfUrNbB2N7a/dwa3zXhUeNy5aXn9Olw7CrvNfKl9Yr59v31ApAIzA6lFRQdCiVwLSs2GT8USPJQhFmfYRNptm9hde95Rn1Pf/9/T39Gfe95YXW2bxNpn2GEWfJQFEgZPys2cC0KJRQdpRXMDpAI9QL2/Yr5pfU18irvcOz06aXncuVR4zXhGt/93N7awdis1qfUutLw0FHP5s2zzL/LCcuSylXKTMpvyrTKEMt3y9/LPcyIzLrMzczBzJfMUcz3y5HLKMvIyn3KUcpOyn7K58qOy3PMl831zojQSdIu1C7WQNhc2nvcmd604M/i7uQc52Lp0ut87nLxyPSP+Nr8tAEpBz4N8xM/GxYjYysNNPI87kXWTn9Xul9bZzRuHXTzeJZ88X70f5l/4n3aepR2KnHAanpjg1sJUzlKQkFNOIIvBSfyHmEXYxABCj8EHP+N+on2//Ld7xHtiOov6Pfl0+O34Zzff91g20LZK9ch1S7TWtGwzzjO98z0yy/LqcpeykrKY8qhyvjKXsvHyyjMeMyxzMzMx8ykzGTMDsyqy0HL3sqMyljKSspuysjKYMs2zEvNnM4j0NnRt9Ox1cDX2tn52xfeM+BN4mvklObT6Djr0u208PHznPfF+3wAywW6C0gScRkoIVsp8jHMOsZDt0xzVc1dl2WjbMpy5XfUe4B+1n/Pf2t+snu2d5ByX2xKZXpdG1VcTGpDcDqYMQUp1yAlGQISeguSBUkAmPt0987zlfC27R7rvOh+5lXkOOId4AHe49vE2arXnNWj08fREtCNzj/NLMxZy8TKa8pKylnKj8rhykXLrssSzGfMpszIzMvMr8x2zCTMw8tay/TKnsphykrKYMqtyjbL/csDzUbOwc9s0UHTNdVA11jZdtuV3bHfzOHo4w7mR+ih6izt++8h86/2ufpN/3cEPwqnEKwXQh9aJ9svqDieQZVKYlPXW8hjBmtnccV2/3r6faR/8X/gfnd8x3jmc/JtEGdpXyhXfE6SRZY8szMMK8Mi8RqrE/0M7gZ/Aav8Zvij9FLxX+6460rpBefY5Lnin+CD3mXcRtor2BnWGtQ20nfQ5s6KzWnMhsviynvKTcpSyn/KzMosy5XL+8tUzJnMwszNzLjMhsw6zNvLc8sMy7HKbcpLylbKlsoPy8fLv8zzzWHPAtHN0rvUwdbX2PTaE90w30vhZuOJ5bznDOqK7EfvVvLK9bX5J/4rA80IDw/vFWMdXiXILYY2dT9wSEtR2lnvYVtp9W+VdRh6YX1df/5/QX8qfcZ5LHV3b8poT2EvWZhQuUe+PtE1GC22JMYcXBWJDlQIvwLG/WD5f/UU8g3vVezb6Y7nXOU74yDhBd/n3MjarNiX1pLUp9Lf0ELP2M2ozLbLA8uOylPKTMpxyrfKFMt8y+PLQcyLzLvMzszAzJTMTszzy4zLJMvFynrKUMpPyoHK7cqVy37MpM0Ez5nQXNJC1EPWVthy2pHcrt7K4OTiBOUy53vp7OuY7pLx7PS5+An96QFlB4ANOhSMG2gjuitnNE49SkYwT9ZXDGClZ3VuVHQeebV8An/3f45/yX20emJ27XB5aitjLluwUt5J5kDyNykvsCaiHhYXHhDDCQcE6v5i+mL23fK/7/bsb+oY6OHlveOh4Ybfat1L2y3ZFtcM1RrTSdGgzyrO7MzryynLpcpdykrKZcqkyvzKYsvLyyzMe8yyzMzMxsyizGHMCsymyz3L2sqKylbKS8pwys3KZ8tAzFjNq8400OzRytPG1dXX8NkO3C3eSOBj4oHkqubr6FHr7u3T8BT0xPfz+68ABQb6C48SvRl6IbIpSzIoOyJEEk3LVSBe42XnbANzE3j2e5R+3X/Hf1V+j3uHd1VyG2z9ZCddw1QBTA5DFTo/MbAohSDZGLwROwtZBRYAa/tM96vzdvCa7QXrpOhn5j/kIuII4Ozdzduv2ZXXiNWP07XRAtB/zjPNI8xRy7/KacpKylvKksrlyknLsssWzGrMqMzJzMvMrcxzzCHMv8tWy/HKm8pfyknKYsqyyj3LBswPzVTO0c9+0VTTStVV127ZjNur3cff4uH+4yTmXui66kftGvBD89b25fp//68EfgrsEPcXkx+vJzQwAzn6QfBKulMsXBZkTGujcfZ2JHsSfq1/7X/Oflh8m3iuc7BtxWYXX9FWIk42RTs8WTO1KnAipBpkE7wMtAZLAX38Pfh/9DLxQ+6e6zPp7ubD5KTiieBu3k/cMdoV2ATWBtQj0mbQ1859zV7MfsvcynjKTcpTyoLKz8owy5nL/8tYzJvMxMzNzLfMg8w2zNfLb8sIy63Ka8pLyljKmcoWy9DLyswBznHPE9Hg0s/U1tbs2ArbKd1G32DhfOOf5dPnJeql7GXvePLw9eD5V/5iAwoJUw84FrMdsiUgLuE20T/MSKVRL1o+YqNpNHDJdT96fH1qf/1/Mn8NfZ1593Q3b4Jo/mDZWD5QXUdiPnY1wCxiJHccFBVGDhgIiQKX/Tb5WvXz8e/uO+zD6XfnRuUl4wrh797S3LPaltiC1n7UlNLN0DLPy82ezK7L/sqLylLKTcpzyrrKGMuAy+fLRMyNzL3Mzsy/zJLMS8zvy4jLIMvBynjKT8pQyoTK8sqey4jMsc0Tz6vQbtJW1FjWa9iH2qbcxN7f4PriGuVJ55PpBuy17rLxEfXi+Dj9HgKgB8INgxTaG7wjESzBNKo9pUaKTyxYXWDvZ7Zui3RJedN8E3/6f4N/sH2Oei92sHAyatxi2lpXUoNJikCWN9EuWyZSHswW2g+FCdADuf42+jz2u/Kh79vsVuoB6Mvlp+OL4XHfVN012xfZANf41AfTN9GQzxzO4MziyyLLocpbykrKZ8qnygDLZsvPyy/Mfsy0zMzMxcyfzF7MBsyhyzjL1sqHylXKS8pzytLKb8tKzGTNuc5E0P7R3tPb1erXBdok3ELeXuB54pfkweYD6WvrCu7z8Dj07Pch/OMAPwY7DNUSChrMIQgqpTKDO35EbE0iVnJeLmYqbT1zQXgXfKh+4n+/fz9+bHtXdxpy1muwZNNca1SmS7JCujnmMFooNCCNGHcR+wogBeT/Pvsl94jzV/B+7ezqjehR5irkDeLy39bdt9uZ2YDXc9V806PR8c9wzifNGcxKy7rKZ8pKylzKlcrpyk3LtssZzG3MqczJzMrMq8xwzB3MustRy+3KmMpeykrKZMq2ykPLEMwbzWLO4c+Q0WjTXtVq14PZotvA3d3f9+EU5DrmdejT6mPtOPBl8/32Evux/+cEvAoxEUIY4x8EKI0wXjlWQktLE1R/XGNkkWvfcSd3SHspfrd/6H+7fjh8bnh1c21tembFXnpWx03aRN87/zJfKh4iVxocE3sMeQYXAU/8Ffhb9BLxJu6F6xvp2Oat5I7ic+BY3jrcG9oA2O/V8tMR0lXQyM5xzVTMdsvXynXKTMpUyoTK08o0y53LA8xbzJ3MxczNzLXMgMwzzNPLa8sEy6rKacpKylnKncocy9nL1cwOzoDPJdH00uTU69YC2R/bPt1b33bhkuO15ernPerA7IPvmfIW9gv6iP6ZA0cJlg+CFgIeBiZ4Ljw3LkAnSf5RhVqNYutpcnD8dWd6ln13f/x/I3/xfHN5wXT3bjhormCDWORPAUcGPhw1aSwPJCkcyxQEDtwHUwJn/Qz5NfXT8dLuIOyr6WDnMOUQ4/Xg2t683J3agdht1mrUgdK80CPPvs2TzKbL+MqIylHKTsp2yr7KHMuEy+vLR8yQzL7Mzsy+zJDMR8zry4TLHMu+ynbKTspRyojK+Mqmy5PMvs0jz7zQgdJq1G3Wgdid2rzc2t714BDjMOVg56vpIOzS7tPxNfUM+Wf9UwLcBwQOyxQpHA8kaSwcNQY+AUfkT4NYrmA4aPduwXRzefF8I3/8f3d/ln1nevx1cnDraY1ihVr+USdJLkA8N3guBiYCHoIWlg9HCZkDiP4L+hb2mfKD78DsPerq57XlkuN24VvfPt0f2wLZ69bk1PTSJdGAzw7O1czZyxzLncpZykrKacqqygTLa8vTyzPMgMy1zM3MxcydzFvMA8ydyzTL08qEylTKTMp1ytfKdstUzHHNyM5V0BHS8tPv1QDYG9o63Fjec+CO4q3k2OYb6YXrJu4S8Vv0FfhP/BcBeQZ7DBwTVxoeIl8q/zLfO9pEx016VsVeemZtbXVzbng4fLt+6H+3fyl+SHsnd99xkWtjZH9cE1RLS1ZCXjmNMAQo4x9CGDERvArnBLH/Evv99mXzOPBj7dPqdeg65hTk9+Hd38DdotuD2WrXXtVo05DR4c9izhvNEMxDy7bKZMpKyl7KmMrtylHLussdzHDMq8zKzMnMqcxtzBnMtstNy+nKlcpcykrKZ8q6ykrLGcwnzXDO8c+j0XzTc9WA15nZt9vW3fLfDeIq5FHmjejs6n7tV/CI8yX3Pvvk/yAF+wp3EY0YNCBaKOYwujmyQqZLa1TTXLBk1msacld3bHs/fr9/4n+ofhd8QXg9cyptLmZyXiJWbE1+RIM7pTIIKswhChrVEjsMPwbjACH87Pc49PPwCu5r6wPpweaX5HniXuBC3iTcBdrq19vV3tP+0UTQuc5kzUrMb8vSynPKS8pVyofK1so4y6HLBsxezJ/MxczMzLTMfswvzM/LZssAy6fKZ8pKylvKocoiy+LL4MwczpDPN9EH0/jUANcX2TXbVN1x34vhp+PL5QHoVurb7KHvu/I89jb6uf7QA4UJ2g/MFlIeWybRLpY3ikCDSVdS2lrcYjJqsHAvdo56sH2Df/p/E3/TfEl5i3S2bu9nXWAsWIpPpUaqPcE0ESy8I9obgxTCDaAHHgI4/eL4EfWy8bXuBuyT6UnnGuX64t/gxN6m3Ifaa9hY1lbUbtKr0BPPsc2IzJ7L8sqEylDKT8p4ysHKIMuIy+/LS8ySzL/Mzsy9zI3MRMzny4DLGMu6ynPKTcpSyovK/squy57My80yz83QlNJ+1ILWltiz2tLc794K4SXjRuV358PpO+zv7vPxWvU2+Zf9iQIYCEYOFBV3HGIkwCx2NWI+XUc+UNlY/mCCaDdv93SdeQ19Mn/9f2p/fH0/esl1NHCjaT5iL1qlUcxI0T/hNiAusiWzHTgWUw8KCWIDV/7g+fD1ePJl76XsJerT55/lfONg4UbfKd0K2+zY1tbP1ODSE9FxzwHOyszQyxbLmcpYykvKa8qtygjLb8vXyzbMg8y3zM3MxMybzFjM/8uZyzDLz8qCylPKTcp4ytzKfstezH3N185m0CPSBtQE1hXYMdpP3G7eieCk4sPk7uYz6Z7rQ+4y8X/0Pfh9/EsBtAa8DGQTpBpwIrUqWTM7PDZFIk7RVhdfxWawba5zm3hYfM5+7X+tfxJ+JHv2dqNxTGsWZCxculPwSvpBAzk0MK8nkx/3F+wQfgqvBH//5frW9kPzGvBH7brqXugk5v7j4uHH36vdjNtu2VXXStVU037R0c9Uzg/NBsw9y7LKYspJyl/Km8rxylbLv8shzHPMrczLzMnMqMxqzBbMsstJy+XKkspbykrKacq/ylHLI8wzzX/OAtC10Y/TiNWV16/Zzdvs3QjgIuI/5GfmpOgF65rtdvCr80z3a/sWAFkFOwu8EdkYhSCwKD8xFToOQwFMw1QnXf1kG2xVcod3j3tVfsd/3X+UfvZ7E3gDc+ds42UgXstVEk0iRCg7SzKyKXohvRmPEvoLBQavAPP7xPcU9NPw7u1R6+voquaB5GPiSOAt3g7c8NnV18bVytPs0TTQq85YzUDMZ8vNynDKS8pWyorK2so9y6bLCsxhzKLMxszMzLLMe8wszMvLYsv8yqTKZcpKyl3Kpcopy+vL7MwqzqDPSdEa0wzVFtct2Uvbat2G36HhvePh5Rjob+r27L/v3fJi9mL66v4HBMMJHhAWF6IesCYpL/I35kDeSbBSLlsrY3lq7XBidrR6yX2Of/d/An+1fB55VHR1bqVnDGDWVzBPSkZOPWc0uitoI4wbOhSADWUH6QEJ/bn47PSS8Zju7Ot76TLnBOXk4srgrt6R3HLaVthD1kLUXNKZ0ATPpM1+zJXL7cqByk/KUMp6ysXKJMuMy/PLTsyUzMDMzsy7zIvMQczjy3zLFMu3ynHKTMpTyo7KA8u2y6jM2M1Cz9/Qp9KS1JfWrNjI2ufcBd8g4TvjXOWO59vpVewN7xTyf/Vg+cb9vwJUCIkOXBXGHLYkGC3RNb4+uUeYUC9ZT2HKaHdvLHXGeSp9QX/+f11/YX0YepV19W9bae9h2llLUXBIdT+GNsgtXiVjHe8VDw/NCCsDJ/61+cr1VvJH74rsDOq854nlZuNL4TDfE9302tfYwda71M3SAtFhz/PNv8zHyw/LlspWykvKbcqxygzLc8vbyzrMhsy4zM3MwsyZzFTM+8uVyyzLzMp/ylLKTcp7yuLKhstpzIrN5s530DbSGtQZ1ivYRtpl3IPen+C54tjkBedK6bjrX+5S8aP0Zvir/H8B7gb9DKsT8RrDIgwrszOWPJJFfE4oV2lfEGfybeZzx3h3fOB+8X+kf/p9/3rFdmdxBmvIY9dbYlOVSp5BqDjbL1onQh+sF6cQPwp3BE3/ufqv9iHz++8s7aHqR+gO5ujjzOGx35XddttY2UDXNdVB02zRwc9GzgPN/cs2y63KYMpKymHKnsr0ylrLw8skzHbMr8zLzMjMpsxnzBLMrstFy+HKj8pZykrKa8rEylnLLMw/zY3OEtDH0aPTnNWq18TZ49sB3h3gOOJV5H7mvOge67btlfDO83T3mPtJAJIFegsCEiUZ1yAFKZgxcDpqQ1xMG1V6XUplX2yQcrZ3sntrfs9/1n+AftR75XfKcqNsl2XNXXNVt0zGQ8w68jFbKSghcRlIEroLywV8AMX7nPfx87Tw0u0469PolOZr5E3iM+AX3vnb2tnA17HVt9PZ0SPQnM5LzTbMYMvIym7KSspYyozK3spBy6rLDsxkzKTMx8zMzLHMeMwozMfLXsv4yqHKY8pKyl7Kqcovy/TL98w4zrDPWtEu0yHVK9dC2WDbf92c37fh0+P35S/oiOoR7d3v//KJ9o36HP8/BAEKYxBhF/IeBSeCL004QkE5SglTg1t6Y8BqKnGUdtp64n2Zf/R/8X6WfPN4HXQ0bltnul9/V9ZO7kXyPA00YysWIz8b8xM+DSkHtAHa/I/4yPRy8Xzu0uti6Rzn7uTP4rTgmd573FzaQNgu1i7USdKI0PXOl81zzI7L58p+yk7KUcp9ysjKKMuRy/fLUcyXzMHMzcy6zIjMPczfy3fLEMu0ym/KTMpVypLKCcu/y7PM5s1Rz/DQutKn1KzWwdje2v3cGt814VHjcuWl5/TpcOwq7zXypfWK+fb99QKQCMwOpRUUHQolcC0rNhk/FEjyUIRZn2ETabZvYXXveUZ9T3//f09/Rn3veWF1tm8TaZ9hhFnyUBRIGT8rNnAtCiUUHaUVzA6QCPUC9v2K+aX1NfIq73Ds9Oml53LlUeM14Rrf/dze2sHYrNan1LrS8NBRz+bNs8y/ywnLkspVykzKb8q0yhDLd8vfyz3MiMy6zM3MwcyXzFHM98uRyyjLyMp9ylHKTsp+yufKjstzzJfN9c6I0EnSLtQu1kDYXNp73JnetODP4u7kHOdi6dLrfO5y8cj0j/ja/LQBKQc+DfMTPxsWI2MrDTTyPO5F1k5/V7pfW2c0bh1083iWfPF+9H+Zf+J92nqUdipxwGp6Y4NbCVM5SkJBTTiCLwUn8h5hF2MQAQo/BBz/jfqJ9v/y3e8R7YjqL+j35dPjt+Gc33/dYNtC2SvXIdUu01rRsM84zvfM9Msvy6nKXspKymPKocr4yl7Lx8sozHjMsczMzMfMpMxkzA7MqstBy97KjMpYykrKbsrIymDLNsxLzZzOI9DZ0bfTsdXA19rZ+dsX3jPgTeJr5JTm0+g469LttPDx85z3xft8AMsFugtIEnEZKCFbKfIxzDrGQ7dMc1XNXZdlo2zKcuV31HuAftZ/z39rfrJ7tneQcl9sSmV6XRtVXExqQ3A6mDEFKdcgJRkCEnoLkgVJAJj7dPfO85Xwtu0e67zofuZV5DjiHeAB3uPbxNmq15zVo9PH0RLQjc4/zSzMWcvEymvKSspZyo/K4cpFy67LEsxnzKbMyMzLzK/MdswkzMPLWsv0yp7KYcpKymDKrco2y/3LA81GzsHPbNFB0zXVQNdY2Xbbld2x38zh6OMO5kfooeos7fvvIfOv9rn6Tf93BD8KpxCsF0IfWifbL6g4nkGVSmJT11vIYwZrZ3HFdv96+n2kf/F/4H53fMd45nPybRBnaV8oV3xOkkWWPLMzDCvDIvEaqxP9DO4GfwGr/Gb4o/RS8V/uuOtK6QXn2OS54p/gg95l3EbaK9gZ1hrUNtJ30ObOis1pzIbL4sp7yk3KUsp/yszKLMuVy/vLVMyZzMLMzcy4zIbMOszby3PLDMuxym3KS8pWypbKD8vHy7/M881hzwLRzdK71MHW19j02hPdMN9L4WbjieW85wzqiuxH71byyvW1+Sf+KwPNCA8P7xVjHV4lyC2GNnU/cEhLUdpZ72FbafVvlXUYemF9XX/+f0F/Kn3GeSx1d2/KaE9hL1mYULlHvj7RNRgttiTGHFwViQ5UCL8Cxv1g+X/1FPIN71Xs2+mO51zlO+Mg4QXf59zI2qzYl9aS1KfS39BCz9jNqMy2ywPLjspTykzKccq3yhTLfMvjy0HMi8y7zM7MwMyUzE7M88uMyyTLxcp6ylDKT8qByu3Klct+zKTNBM+Z0FzSQtRD1lbYctqR3K7eyuDk4gTlMud76ezrmO6S8ez0ufgJ/ekBZQeADToUjBtoI7orZzROPUpGME/WVwxgpWd1blR0Hnm1fAJ/93+Of8l9tHpidu1weWorYy5bsFLeSeZA8jcpL7Amoh4WFx4QwwkHBOr+Yvpi9t3yv+/27G/qGOjh5b3joeGG32rdS9st2RbXDNUa00nRoM8qzuzM68spy6XKXcpKymXKpMr8ymLLy8sszHvMsszMzMbMosxhzArMpss9y9rKispWykvKcMrNymfLQMxYzavONNDs0crTxtXV1/DZDtwt3kjgY+KB5Krm6+hR6+7t0/AU9MT38/uvAAUG+guPEr0ZeiGyKUsyKDsiRBJNy1UgXuNl52wDcxN49nuUft1/x39Vfo97h3dVchts/WQnXcNUAUwOQxU6PzGwKIUg2Ri8ETsLWQUWAGv7TPer83bwmu0F66ToZ+Y/5CLiCODs3c3br9mV14jVj9O10QLQf84zzSPMUcu/ymnKSspbypLK5cpJy7LLFsxqzKjMyczLzK3Mc8whzL/LVsvxypvKX8pJymLKsso9ywbMD81UztHPftFU00rVVddu2Yzbq93H3+Lh/uMk5l7ouupH7RrwQ/PW9uX6f/+vBH4K7BD3F5Mfryc0MAM5+kHwSrpTLFwWZExro3H2diR7En6tf+1/zn5YfJt4rnOwbcVmF1/RViJONkU7PFkztSpwIqQaZBO8DLQGSwF9/D34f/Qy8UPunusz6e7mw+Sk4ongbt5P3DHaFdgE1gbUI9Jm0NfOfc1ezH7L3Mp4yk3KU8qCys/KMMuZy//LWMybzMTMzcy3zIPMNszXy2/LCMutymvKS8pYypnKFsvQy8rMAc5xzxPR4NLP1NbW7NgK2yndRt9g4Xzjn+XT5yXqpexl73jy8PXg+Vf+YgMKCVMPOBazHbIlIC7hNtE/zEilUS9aPmKjaTRwyXU/enx9an/9fzJ/DX2defd0N2+CaP5g2Vg+UF1HYj52NcAsYiR3HBQVRg4YCIkCl/02+Vr18/Hv7jvsw+l350blJeMK4e/e0tyz2pbYgtZ+1JTSzdAyz8vNnsyuy/7Ki8pSyk3Kc8q6yhjLgMvny0TMjcy9zM7Mv8ySzEvM78uIyyDLwcp4yk/KUMqEyvLKnsuIzLHNE8+r0G7SVtRY1mvYh9qm3MTe3+D64hrlSeeT6Qbste6y8RH14vg4/R4CoAfCDYMU2hu8IxEswTSqPaVGik8sWF1g72e2bot0SXnTfBN/+n+Df7B9jnovdrBwMmrcYtpaV1KDSYpAljfRLlsmUh7MFtoPhQnQA7n+Nvo89rvyoe/b7FbqAejL5afji+Fx31TdNdsX2QDX+NQH0zfRkM8czuDM4ssiy6HKW8pKymfKp8oAy2bLz8svzH7MtMzMzMXMn8xezAbMocs4y9bKh8pVykvKc8rSym/LSsxkzbnORND+0d7T29Xq1wXaJNxC3l7geeKX5MHmA+lr6wru8/A49Oz3IfzjAD8GOwzVEgoazCEIKqUygzt+RGxNIlZyXi5mKm09c0F4F3yofuJ/v38/fmx7V3cactZrsGTTXGtUpkuyQro55jBaKDQgjRh3EfsKIAXk/z77JfeI81fwfu3s6o3oUeYq5A3i8t/W3bfbmdmA13PVfNOj0fHPcM4nzRnMSsu6ymfKSspcypXK6cpNy7bLGcxtzKnMyczKzKvMcMwdzLrLUcvtypjKXspKymTKtspDyxDMG81izuHPkNFo017VateD2aLbwN3d3/fhFOQ65nXo0+pj7TjwZfP99hL7sf/nBLwKMRFCGOMfBCiNMF45VkJLSxNUf1xjZJFr33End0h7KX63f+h/u344fG54dXNtbXpmxV56VsdN2kTfO/8yXyoeIlcaHBN7DHkGFwFP/BX4W/QS8Sbuhesb6djmreSO4nPgWN463BvaANjv1fLTEdJV0MjOcc1UzHbL18p1ykzKVMqEytPKNMudywPMW8ydzMXMzcy1zIDMM8zTy2vLBMuqymnKSspZyp3KHMvZy9XMDs6AzyXR9NLk1OvWAtkf2z7dW9924ZLjteXq5z3qwOyD75nyFvYL+oj+mQNHCZYPghYCHgYmeC48Ny5AJ0n+UYVajWLraXJw/HVnepZ9d3/8fyN/8XxzecF09244aK5gg1jkTwFHBj4cNWksDyQpHMsUBA7cB1MCZ/0M+TX10/HS7iDsq+lg5zDlEOP14NrevNyd2oHYbdZq1IHSvNAjz77Nk8ymy/jKiMpRyk7Kdsq+yhzLhMvry0fMkMy+zM7MvsyQzEfM68uEyxzLvsp2yk7KUcqIyvjKpsuTzL7NI8+80IHSatRt1oHYndq83Nre9eAQ4zDlYOer6SDs0u7T8TX1DPln/VMC3AcEDssUKRwPJGksHDUGPgFH5E+DWK5gOGj3bsF0c3nxfCN//H93f5Z9Z3r8dXJw62mNYoVa/lEnSS5APDd4LgYmAh6CFpYPRwmZA4j+C/oW9pnyg+/A7D3q6ue15ZLjduFb3z7dH9sC2evW5NT00iXRgM8OztXM2cscy53KWcpKymnKqsoEy2vL08szzIDMtczNzMXMncxbzAPMncs0y9PKhMpUykzKdcrXynbLVMxxzcjOVdAR0vLT79UA2BvaOtxY3nPgjuKt5NjmG+mF6ybuEvFb9BX4T/wXAXkGewwcE1caHiJfKv8y3zvaRMdNelbFXnpmbW11c254OHy7fuh/t38pfkh7J3ffcZFrY2R/XBNUS0tWQl45jTAEKOMfQhgxEbwK5wSx/xL7/fZl8zjwY+3T6nXoOuYU5Pfh3d/A3aLbg9lq117VaNOQ0eHPYs4bzRDMQ8u2ymTKSspeypjK7cpRy7rLHcxwzKvMyszJzKnMbcwZzLbLTcvpypXKXMpKymfKuspKyxnMJ81wzvHPo9F803PVgNeZ2bfb1t3y3w3iKuRR5o3o7Op+7VfwiPMl9z775P8gBfsKdxGNGDQgWijmMLo5skKmS2tU01ywZNZrGnJXd2x7P36/f+J/qH4XfEF4PXMqbS5mcl4iVmxNfkSDO6UyCCrMIQoa1RI7DD8G4wAh/Oz3OPTz8Arua+sD6cHml+R54l7gQt4k3AXa6tfb1d7T/tFE0LnOZM1KzG/L0spzykvKVcqHytbKOMuhywbMXsyfzMXMzMy0zH7ML8zPy2bLAMunymfKSspbyqHKIsviy+DMHM6QzzfRB9P41ADXF9k121Tdcd+L4afjy+UB6Fbq2+yh77vyPPY2+rn+0AOFCdoPzBZSHlsm0S6WN4pAg0lXUtpa3GIyarBwL3aOerB9g3/6fxN/03xJeYt0tm7vZ11gLFiKT6VGqj3BNBEsvCPaG4MUwg2gBx4COP3i+BH1svG17gbsk+lJ5xrl+uLf4MTeptyH2mvYWNZW1G7Sq9ATz7HNiMyey/LKhMpQyk/KeMrByiDLiMvvy0vMksy/zM7MvcyNzETM58uAyxjLuspzyk3KUsqLyv7KrsuezMvNMs/N0JTSftSC1pbYs9rS3O/eCuEl40bld+fD6Tvs7+7z8Vr1NvmX/YkCGAhGDhQVdxxiJMAsdjViPl1HPlDZWP5ggmg3b/d0nXkNfTJ//X9qf3x9P3rJdTRwo2k+Yi9apVHMSNE/4TYgLrIlsx04FlMPCgliA1f+4Pnw9XjyZe+l7CXq0+ef5XzjYOFG3yndCtvs2NbWz9Tg0hPRcc8BzsrM0MsWy5nKWMpLymvKrcoIy2/L18s2zIPMt8zNzMTMm8xYzP/Lmcswy8/KgspTyk3KeMrcyn7LXsx9zdfOZtAj0gbUBNYV2DHaT9xu3ongpOLD5O7mM+me60PuMvF/9D34ffxLAbQGvAxkE6QacCK1KlkzOzw2RSJO0VYXX8VmsG2uc5t4WHzOfu1/rX8SfiR79najcUxrFmQsXLpT8Er6QQM5NDCvJ5Mf9xfsEH4KrwR//+X61vZD8xrwR+266l7oJOb+4+Lhx9+r3YzbbtlV10rVVNN+0dHPVM4PzQbMPcuyymLKScpfypvK8cpWy7/LIcxzzK3My8zJzKjMaswWzLLLScvlypLKW8pKymnKv8pRyyPMM81/zgLQtdGP04jVldev2c3b7N0I4CLiP+Rn5qToBeua7Xbwq/NM92v7FgBZBTsLvBHZGIUgsCg/MRU6DkMBTMNUJ139ZBtsVXKHd497VX7Hf91/lH72exN4A3PnbONlIF7LVRJNIkQoO0sysil6Ib0ZjxL6CwUGrwDz+8T3FPTT8O7tUevr6KrmgeRj4kjgLd4O3PDZ1dfG1crT7NE00KvOWM1AzGfLzcpwykvKVsqKytrKPcumywrMYcyizMbMzMyyzHvMLMzLy2LL/MqkymXKSspdyqXKKcvry+zMKs6gz0nRGtMM1RbXLdlL22rdht+h4b3j4eUY6G/q9uy/793yYvZi+ur+BwTDCR4QFheiHrAmKS/yN+ZA3kmwUi5bK2N5au1wYna0esl9jn/3fwJ/tXweeVR0dW6lZwxg1lcwT0pGTj1nNLoraCOMGzoUgA1lB+kBCf25+Oz0kvGY7uzre+ky5wTl5OLK4K7ekdxy2lbYQ9ZC1FzSmdAEz6TNfsyVy+3KgcpPylDKesrFyiTLjMvzy07MlMzAzM7Mu8yLzEHM48t8yxTLt8pxykzKU8qOygPLtsuozNjNQs/f0KfSktSX1qzYyNrn3AXfIOE741zljufb6VXsDe8U8n/1YPnG/b8CVAiJDlwVxhy2JBgt0TW+PrlHmFAvWU9hymh3byx1xnkqfUF//n9df2F9GHqVdfVvW2nvYdpZS1FwSHU/hjbILV4lYx3vFQ8PzQgrAyf+tfnK9VbyR++K7AzqvOeJ5WbjS+Ew3xPd9NrX2MHWu9TN0gLRYc/zzb/Mx8sPy5bKVspLym3KscoMy3PL28s6zIbMuMzNzMLMmcxUzPvLlcssy8zKf8pSyk3Ke8riyobLacyKzebOd9A20hrUGdYr2EbaZdyD3p/gueLY5AXnSum461/uUvGj9Gb4q/x/Ae4G/QyrE/EawyIMK7MzljySRXxOKFdpXxBn8m3mc8d4d3zgfvF/pH/6ff96xXZncQZryGPXW2JTlUqeQag42y9aJ0IfrBenED8KdwRN/7n6r/Yh8/vvLO2h6kfoDubo48zhsd+V3XbbWNlA1zXVQdNs0cHPRs4Dzf3LNsutymDKSsphyp7K9Mpay8PLJMx2zK/My8zIzKbMZ8wSzK7LRcvhyo/KWcpKymvKxMpZyyzMP82NzhLQx9Gj05zVqtfE2ePbAd4d4DjiVeR+5rzoHuu27ZXwzvN095j7SQCSBXoLAhIlGdcgBSmYMXA6akNcTBtVel1KZV9skHK2d7J7a37Pf9Z/gH7Ue+V3ynKjbJdlzV1zVbdMxkPMOvIxWykoIXEZSBK6C8sFfADF+5z38fO08NLtOOvT6JTma+RN4jPgF97529rZwNex1bfT2dEj0JzOS802zGDLyMpuykrKWMqMyt7KQcuqyw7MZMykzMfMzMyxzHjMKMzHy17L+MqhymPKSspeyqnKL8v0y/fMOM6wz1rRLtMh1SvXQtlg23/dnN+34dPj9+Uv6IjqEe3d7//yifaN+hz/PwQBCmMQYRfyHgUngi9NOEJBOUoJU4NbemPAaipxlHbaeuJ9mX/0f/F+lnzzeB10NG5bZ7pff1fWTu5F8jwNNGMrFiM/G/MTPg0pB7QB2vyP+Mj0cvF87tLrYukc5+7kz+K04Jnee9xc2kDYLtYu1EnSiND1zpfNc8yOy+fKfspOylHKfcrIyijLkcv3y1HMl8zBzM3MusyIzD3M38t3yxDLtMpvykzKVcqSygnLv8uzzObNUc/w0LrSp9Ss1sHY3tr93BrfNeFR43Llpef06XDsKu818qX1ivn2/fUCkAjMDqUVFB0KJXAtKzYZPxRI8lCEWZ9hE2m2b2F173lGfU9//38=\" type=\"audio/wav\" />\n",
        "                    Your browser does not support the audio element.\n",
        "                </audio>\n",
        "              "
       ],
       "metadata": {},
       "output_type": "pyout",
       "prompt_number": 247,
       "text": [
        "<IPython.lib.display.Audio at 0x7fde97873990>"
       ]
      }
     ],
     "prompt_number": 247
    },
    {
     "cell_type": "code",
     "collapsed": false,
     "input": [
      "wave = thinkdsp.Wave(ys.imag, framerate)\n",
      "wave.make_audio()"
     ],
     "language": "python",
     "metadata": {},
     "outputs": [
      {
       "html": [
        "\n",
        "                <audio controls=\"controls\" >\n",
        "                    <source src=\"data:audio/wav;base64,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\" type=\"audio/wav\" />\n",
        "                    Your browser does not support the audio element.\n",
        "                </audio>\n",
        "              "
       ],
       "metadata": {},
       "output_type": "pyout",
       "prompt_number": 248,
       "text": [
        "<IPython.lib.display.Audio at 0x7fde978735d0>"
       ]
      }
     ],
     "prompt_number": 248
    },
    {
     "cell_type": "markdown",
     "metadata": {},
     "source": [
      "We can express the same process using matrix multiplication."
     ]
    },
    {
     "cell_type": "code",
     "collapsed": false,
     "input": [
      "PI2 = 2 * math.pi\n",
      "i = complex(0, 1)\n",
      "\n",
      "def synthesize2(amps, freqs, ts):\n",
      "    args = numpy.outer(ts, freqs)\n",
      "    M = numpy.exp(i * PI2 * args)\n",
      "    ys = numpy.dot(M, amps)\n",
      "    return ys"
     ],
     "language": "python",
     "metadata": {},
     "outputs": [],
     "prompt_number": 249
    },
    {
     "cell_type": "markdown",
     "metadata": {},
     "source": [
      "And it should sound the same."
     ]
    },
    {
     "cell_type": "code",
     "collapsed": false,
     "input": [
      "ys = synthesize2(amps, freqs, ts)\n",
      "ys.real"
     ],
     "language": "python",
     "metadata": {},
     "outputs": [
      {
       "metadata": {},
       "output_type": "pyout",
       "prompt_number": 250,
       "text": [
        "array([ 1.        ,  0.99465119,  0.97873848, ...,  0.97873848,\n",
        "        0.99465119,  1.        ])"
       ]
      }
     ],
     "prompt_number": 250
    },
    {
     "cell_type": "code",
     "collapsed": false,
     "input": [
      "wave = thinkdsp.Wave(ys.real, framerate)\n",
      "wave.make_audio()"
     ],
     "language": "python",
     "metadata": {},
     "outputs": [
      {
       "html": [
        "\n",
        "                <audio controls=\"controls\" >\n",
        "                    <source src=\"data:audio/wav;base64,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\" type=\"audio/wav\" />\n",
        "                    Your browser does not support the audio element.\n",
        "                </audio>\n",
        "              "
       ],
       "metadata": {},
       "output_type": "pyout",
       "prompt_number": 252,
       "text": [
        "<IPython.lib.display.Audio at 0x7fde97873ed0>"
       ]
      }
     ],
     "prompt_number": 252
    },
    {
     "cell_type": "markdown",
     "metadata": {},
     "source": [
      "The simplest way to analyze a signal---that is, find the amplitude for each component---is to create the same matrix we used for synthesis and then solve the system of linear equations."
     ]
    },
    {
     "cell_type": "code",
     "collapsed": false,
     "input": [
      "def analyze1(ys, freqs, ts):\n",
      "    args = numpy.outer(ts, freqs)\n",
      "    M = numpy.exp(i * PI2 * args)\n",
      "    amps = numpy.linalg.solve(M, ys)\n",
      "    return amps"
     ],
     "language": "python",
     "metadata": {},
     "outputs": [],
     "prompt_number": 253
    },
    {
     "cell_type": "markdown",
     "metadata": {},
     "source": [
      "Using the first 4 values from the wave array, we can recover the amplitudes."
     ]
    },
    {
     "cell_type": "code",
     "collapsed": false,
     "input": [
      "n = len(freqs)\n",
      "amps2 = analyze1(ys[:n], freqs, ts[:n])\n",
      "amps2"
     ],
     "language": "python",
     "metadata": {},
     "outputs": [
      {
       "metadata": {},
       "output_type": "pyout",
       "prompt_number": 254,
       "text": [
        "array([ 0.60 +4.65798254e-13j,  0.25 -1.40396953e-12j,\n",
        "        0.10 +1.40250583e-12j,  0.05 -4.64322986e-13j])"
       ]
      }
     ],
     "prompt_number": 254
    },
    {
     "cell_type": "markdown",
     "metadata": {},
     "source": [
      "If we define the `freqs` from 0 to N-1 and `ts` from 0 to (N-1)/N, we get a unitary matrix. "
     ]
    },
    {
     "cell_type": "code",
     "collapsed": false,
     "input": [
      "N = 4\n",
      "ts = numpy.arange(N) / N\n",
      "freqs = numpy.arange(N)\n",
      "args = numpy.outer(ts, freqs)\n",
      "M = numpy.exp(PI2 * i * args)\n",
      "print(M)"
     ],
     "language": "python",
     "metadata": {},
     "outputs": [
      {
       "output_type": "stream",
       "stream": "stdout",
       "text": [
        "[[  1.00000000e+00 +0.00000000e+00j   1.00000000e+00 +0.00000000e+00j\n",
        "    1.00000000e+00 +0.00000000e+00j   1.00000000e+00 +0.00000000e+00j]\n",
        " [  1.00000000e+00 +0.00000000e+00j   6.12303177e-17 +1.00000000e+00j\n",
        "   -1.00000000e+00 +1.22460635e-16j  -1.83690953e-16 -1.00000000e+00j]\n",
        " [  1.00000000e+00 +0.00000000e+00j  -1.00000000e+00 +1.22460635e-16j\n",
        "    1.00000000e+00 -2.44921271e-16j  -1.00000000e+00 +3.67381906e-16j]\n",
        " [  1.00000000e+00 +0.00000000e+00j  -1.83690953e-16 -1.00000000e+00j\n",
        "   -1.00000000e+00 +3.67381906e-16j   5.51072859e-16 +1.00000000e+00j]]\n"
       ]
      }
     ],
     "prompt_number": 255
    },
    {
     "cell_type": "markdown",
     "metadata": {},
     "source": [
      "To check whether a matrix is unitary, we can compute $M^* M$, which should be the identity matrix:"
     ]
    },
    {
     "cell_type": "code",
     "collapsed": false,
     "input": [
      "sum(M.conj().transpose().dot(M) / 4)"
     ],
     "language": "python",
     "metadata": {},
     "outputs": [
      {
       "metadata": {},
       "output_type": "pyout",
       "prompt_number": 256,
       "text": [
        "array([ 1. -2.00008196e-16j,  1. -3.91939085e-17j,  1. +5.71916646e-18j,\n",
        "        1. +1.94289029e-16j])"
       ]
      }
     ],
     "prompt_number": 256
    },
    {
     "cell_type": "markdown",
     "metadata": {},
     "source": [
      "And it is!\n"
     ]
    },
    {
     "cell_type": "markdown",
     "metadata": {},
     "source": [
      "So we can write the inverse DFT accordingly."
     ]
    },
    {
     "cell_type": "code",
     "collapsed": false,
     "input": [
      "def idft(amps):\n",
      "    N = len(amps)\n",
      "    ts = numpy.arange(N) / N\n",
      "    freqs = numpy.arange(N)\n",
      "    args = numpy.outer(ts, freqs)\n",
      "    M = numpy.exp(i * PI2 * args)\n",
      "    ys = M.dot(amps) / N\n",
      "    return ys"
     ],
     "language": "python",
     "metadata": {},
     "outputs": [],
     "prompt_number": 264
    },
    {
     "cell_type": "markdown",
     "metadata": {},
     "source": [
      "We can check that it works:"
     ]
    },
    {
     "cell_type": "code",
     "collapsed": false,
     "input": [
      "amps = numpy.array([0.6, 0.25, 0.1, 0.05])\n",
      "ys = idft(amps)\n",
      "print(ys)"
     ],
     "language": "python",
     "metadata": {},
     "outputs": [
      {
       "output_type": "stream",
       "stream": "stdout",
       "text": [
        "[ 0.250 +0.00000000e+00j  0.125 +5.00000000e-02j  0.100 +6.12303177e-18j\n",
        "  0.125 -5.00000000e-02j]\n"
       ]
      }
     ],
     "prompt_number": 265
    },
    {
     "cell_type": "code",
     "collapsed": false,
     "input": [
      "amps = numpy.array([0.6, 0.25, 0.1, 0.05])\n",
      "ys2 = numpy.fft.ifft(amps)\n",
      "print(ys2)"
     ],
     "language": "python",
     "metadata": {},
     "outputs": [
      {
       "output_type": "stream",
       "stream": "stdout",
       "text": [
        "[ 0.250+0.j    0.125+0.05j  0.100+0.j    0.125-0.05j]\n"
       ]
      }
     ],
     "prompt_number": 266
    },
    {
     "cell_type": "code",
     "collapsed": false,
     "input": [
      "print(max(abs(ys - ys2)))"
     ],
     "language": "python",
     "metadata": {},
     "outputs": [
      {
       "output_type": "stream",
       "stream": "stdout",
       "text": [
        "1.38777878078e-17\n"
       ]
      }
     ],
     "prompt_number": 267
    },
    {
     "cell_type": "markdown",
     "metadata": {},
     "source": [
      "DFT and inverse DFT are the same thing except we have to use the conjugate transpose of M, and we don't divide by N."
     ]
    },
    {
     "cell_type": "code",
     "collapsed": false,
     "input": [
      "def dft(ys):\n",
      "    N = len(ys)\n",
      "    ts = numpy.arange(N) / N\n",
      "    freqs = numpy.arange(N)\n",
      "    args = numpy.outer(ts, freqs)\n",
      "    M = numpy.exp(i * PI2 * args)\n",
      "    amps = M.conj().transpose().dot(ys)\n",
      "    return amps"
     ],
     "language": "python",
     "metadata": {},
     "outputs": [],
     "prompt_number": 268
    },
    {
     "cell_type": "markdown",
     "metadata": {},
     "source": [
      "And it works:"
     ]
    },
    {
     "cell_type": "code",
     "collapsed": false,
     "input": [
      "amps = [0.6, 0.25, 0.1, 0.05]\n",
      "ys = idft(amps)\n",
      "amps2 = dft(ys)\n",
      "print(max(abs(amps - amps2)))\n",
      "amps2"
     ],
     "language": "python",
     "metadata": {},
     "outputs": [
      {
       "output_type": "stream",
       "stream": "stdout",
       "text": [
        "9.30950307468e-17\n"
       ]
      },
      {
       "metadata": {},
       "output_type": "pyout",
       "prompt_number": 269,
       "text": [
        "array([ 0.60 +2.08166817e-17j,  0.25 +1.38777878e-17j,\n",
        "        0.10 -3.89838444e-17j,  0.05 -8.32667268e-17j])"
       ]
      }
     ],
     "prompt_number": 269
    },
    {
     "cell_type": "code",
     "collapsed": false,
     "input": [
      "amps = [0.6, 0.25, 0.1, 0.05]\n",
      "ys = numpy.fft.ifft(amps)\n",
      "amps2 = numpy.fft.fft(ys)\n",
      "print(max(abs(amps - amps2)))\n",
      "amps2"
     ],
     "language": "python",
     "metadata": {},
     "outputs": [
      {
       "output_type": "stream",
       "stream": "stdout",
       "text": [
        "2.77555756156e-17\n"
       ]
      },
      {
       "metadata": {},
       "output_type": "pyout",
       "prompt_number": 270,
       "text": [
        "array([ 0.60+0.j,  0.25+0.j,  0.10+0.j,  0.05+0.j])"
       ]
      }
     ],
     "prompt_number": 270
    },
    {
     "cell_type": "markdown",
     "metadata": {},
     "source": [
      "Looks like the NumPy implementation of FFT might be a little better than our DFT with the numerics."
     ]
    },
    {
     "cell_type": "code",
     "collapsed": false,
     "input": [],
     "language": "python",
     "metadata": {},
     "outputs": []
    }
   ],
   "metadata": {}
  }
 ]
}