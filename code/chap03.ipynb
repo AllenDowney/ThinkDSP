{
 "metadata": {
  "name": "",
  "signature": "sha256:19f4584e1791c018e868abb3f05481d27a239f800c1b75de1bb68216d537a027"
 },
 "nbformat": 3,
 "nbformat_minor": 0,
 "worksheets": [
  {
   "cells": [
    {
     "cell_type": "code",
     "collapsed": false,
     "input": [
      "import thinkdsp\n",
      "import thinkplot\n",
      "import numpy\n",
      "from __future__ import print_function, division"
     ],
     "language": "python",
     "metadata": {},
     "outputs": []
    },
    {
     "cell_type": "markdown",
     "metadata": {},
     "source": [
      "Make a linear chirp from A3 to A5."
     ]
    },
    {
     "cell_type": "code",
     "collapsed": false,
     "input": [
      "signal = thinkdsp.Chirp(start=220, end=880)\n",
      "wave1 = signal.make_wave(duration=2)\n",
      "wave1.make_audio()"
     ],
     "language": "python",
     "metadata": {},
     "outputs": []
    },
    {
     "cell_type": "markdown",
     "metadata": {},
     "source": [
      "Here's what the waveform looks like near the beginning."
     ]
    },
    {
     "cell_type": "code",
     "collapsed": false,
     "input": [
      "wave1.segment(start=0, duration=0.01).plot()"
     ],
     "language": "python",
     "metadata": {},
     "outputs": []
    },
    {
     "cell_type": "markdown",
     "metadata": {},
     "source": [
      "And near the end."
     ]
    },
    {
     "cell_type": "code",
     "collapsed": false,
     "input": [
      "wave1.segment(start=1.9, duration=0.01).plot()"
     ],
     "language": "python",
     "metadata": {},
     "outputs": []
    },
    {
     "cell_type": "markdown",
     "metadata": {},
     "source": [
      "Here's an exponential chirp with the same frequency range and duration."
     ]
    },
    {
     "cell_type": "code",
     "collapsed": false,
     "input": [
      "signal = thinkdsp.ExpoChirp(start=220, end=880)\n",
      "wave2 = signal.make_wave(duration=2)\n",
      "wave2.make_audio()"
     ],
     "language": "python",
     "metadata": {},
     "outputs": []
    },
    {
     "cell_type": "markdown",
     "metadata": {},
     "source": [
      "Let's look at the effect of leakage on a sine signal."
     ]
    },
    {
     "cell_type": "code",
     "collapsed": false,
     "input": [
      "signal = thinkdsp.SinSignal(freq=440)"
     ],
     "language": "python",
     "metadata": {},
     "outputs": []
    },
    {
     "cell_type": "markdown",
     "metadata": {},
     "source": [
      "If the duration is an integer multiple of the period, the beginning and end of the segment line up, and we get minimal leakage."
     ]
    },
    {
     "cell_type": "code",
     "collapsed": false,
     "input": [
      "duration = signal.period * 30\n",
      "wave = signal.make_wave(duration)\n",
      "wave.plot()"
     ],
     "language": "python",
     "metadata": {},
     "outputs": []
    },
    {
     "cell_type": "code",
     "collapsed": false,
     "input": [
      "spectrum = wave.make_spectrum()\n",
      "spectrum.plot(high=50)"
     ],
     "language": "python",
     "metadata": {},
     "outputs": []
    },
    {
     "cell_type": "markdown",
     "metadata": {},
     "source": [
      "If the duration is off by half a period, the leakage is pretty bad."
     ]
    },
    {
     "cell_type": "code",
     "collapsed": false,
     "input": [
      "duration = signal.period * 30.5\n",
      "wave = signal.make_wave(duration)\n",
      "wave.plot()"
     ],
     "language": "python",
     "metadata": {},
     "outputs": []
    },
    {
     "cell_type": "code",
     "collapsed": false,
     "input": [
      "spectrum = wave.make_spectrum()\n",
      "spectrum.plot(high=50)"
     ],
     "language": "python",
     "metadata": {},
     "outputs": []
    },
    {
     "cell_type": "markdown",
     "metadata": {},
     "source": [
      "Windowing helps (but notice that it reduces the total energy)."
     ]
    },
    {
     "cell_type": "code",
     "collapsed": false,
     "input": [
      "wave.hamming()\n",
      "spectrum = wave.make_spectrum()\n",
      "spectrum.plot(high=50)"
     ],
     "language": "python",
     "metadata": {},
     "outputs": []
    },
    {
     "cell_type": "markdown",
     "metadata": {},
     "source": [
      "If you blindly compute the DFT of a non-periodic segment, you get \"motion blur\"."
     ]
    },
    {
     "cell_type": "code",
     "collapsed": false,
     "input": [
      "signal = thinkdsp.Chirp(start=220, end=440)\n",
      "wave = signal.make_wave(duration=1)\n",
      "spectrum = wave.make_spectrum()\n",
      "spectrum.plot(high=700)"
     ],
     "language": "python",
     "metadata": {},
     "outputs": []
    },
    {
     "cell_type": "markdown",
     "metadata": {},
     "source": [
      "A spectrogram is a visualization of a short-time DFT that lets you see how the spectrum varies over time."
     ]
    },
    {
     "cell_type": "code",
     "collapsed": false,
     "input": [
      "signal = thinkdsp.Chirp(start=220, end=440)\n",
      "wave = signal.make_wave(duration=1, framerate=11025)\n",
      "spectrogram = wave.make_spectrogram(seg_length=512)\n",
      "spectrogram.plot(high=32)"
     ],
     "language": "python",
     "metadata": {},
     "outputs": []
    },
    {
     "cell_type": "markdown",
     "metadata": {},
     "source": [
      "If you increase the segment length, you get better frequency resolution, worse time resolution."
     ]
    },
    {
     "cell_type": "code",
     "collapsed": false,
     "input": [
      "spectrogram = wave.make_spectrogram(seg_length=1024)\n",
      "spectrogram.plot(high=64)"
     ],
     "language": "python",
     "metadata": {},
     "outputs": []
    },
    {
     "cell_type": "markdown",
     "metadata": {},
     "source": [
      "If you decrease the segment length, you get better time resolution, worse frequency resolution."
     ]
    },
    {
     "cell_type": "code",
     "collapsed": false,
     "input": [
      "spectrogram = wave.make_spectrogram(seg_length=256)\n",
      "spectrogram.plot(high=16)"
     ],
     "language": "python",
     "metadata": {},
     "outputs": []
    },
    {
     "cell_type": "markdown",
     "metadata": {},
     "source": [
      " "
     ]
    },
    {
     "cell_type": "code",
     "collapsed": false,
     "input": [],
     "language": "python",
     "metadata": {},
     "outputs": []
    }
   ],
   "metadata": {}
  }
 ]
}