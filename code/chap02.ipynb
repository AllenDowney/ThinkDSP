{
 "metadata": {
  "name": "",
  "signature": "sha256:0da0dae2619776492d194a1c79aeea33c38ed834e8e42d7d5b334c31f586d9ac"
 },
 "nbformat": 3,
 "nbformat_minor": 0,
 "worksheets": [
  {
   "cells": [
    {
     "cell_type": "code",
     "collapsed": false,
     "input": [
      "import thinkdsp\n",
      "import thinkplot"
     ],
     "language": "python",
     "metadata": {},
     "outputs": []
    },
    {
     "cell_type": "code",
     "collapsed": false,
     "input": [
      "signal = thinkdsp.TriangleSignal(200)\n",
      "duration = signal.period*3\n",
      "segment = signal.make_wave(duration, framerate=10000)\n",
      "segment.plot()"
     ],
     "language": "python",
     "metadata": {},
     "outputs": []
    },
    {
     "cell_type": "code",
     "collapsed": false,
     "input": [
      "segment = signal.make_wave(duration=1, framerate=10000)\n",
      "segment.apodize()\n",
      "segment.make_audio()"
     ],
     "language": "python",
     "metadata": {},
     "outputs": []
    },
    {
     "cell_type": "code",
     "collapsed": false,
     "input": [
      "wave = signal.make_wave(duration=0.5, framerate=10000)\n",
      "spectrum = wave.make_spectrum()\n",
      "spectrum.plot()"
     ],
     "language": "python",
     "metadata": {},
     "outputs": []
    },
    {
     "cell_type": "code",
     "collapsed": false,
     "input": [
      "signal = thinkdsp.SquareSignal(100)\n",
      "duration = signal.period*3\n",
      "segment = signal.make_wave(duration, framerate=10000)\n",
      "segment.plot()"
     ],
     "language": "python",
     "metadata": {},
     "outputs": []
    },
    {
     "cell_type": "code",
     "collapsed": false,
     "input": [
      "segment = signal.make_wave(duration=1, framerate=10000)\n",
      "segment.apodize()\n",
      "segment.make_audio()"
     ],
     "language": "python",
     "metadata": {},
     "outputs": []
    },
    {
     "cell_type": "code",
     "collapsed": false,
     "input": [
      "wave = signal.make_wave(duration=0.5, framerate=10000)\n",
      "spectrum = wave.make_spectrum()\n",
      "spectrum.plot()"
     ],
     "language": "python",
     "metadata": {},
     "outputs": []
    },
    {
     "cell_type": "code",
     "collapsed": false,
     "input": [
      "framerate = 10000\n",
      "\n",
      "signal = thinkdsp.CosSignal(4500)\n",
      "duration = signal.period*5\n",
      "segment = signal.make_wave(duration, framerate=framerate)\n",
      "segment.plot()"
     ],
     "language": "python",
     "metadata": {},
     "outputs": []
    },
    {
     "cell_type": "code",
     "collapsed": false,
     "input": [
      "signal = thinkdsp.CosSignal(5500)\n",
      "segment = signal.make_wave(duration, framerate=framerate)\n",
      "segment.plot()"
     ],
     "language": "python",
     "metadata": {},
     "outputs": []
    },
    {
     "cell_type": "code",
     "collapsed": false,
     "input": [
      "signal = thinkdsp.TriangleSignal(1100)\n",
      "segment = signal.make_wave(duration=0.5, framerate=10000)\n",
      "spectrum = segment.make_spectrum()\n",
      "spectrum.plot()"
     ],
     "language": "python",
     "metadata": {},
     "outputs": []
    },
    {
     "cell_type": "markdown",
     "metadata": {},
     "source": [
      "Explore the implementation of Wave.make_spectrum"
     ]
    },
    {
     "cell_type": "code",
     "collapsed": false,
     "input": [
      "signal = thinkdsp.TriangleSignal(880)\n",
      "wave = signal.make_wave(duration=1, framerate=10000)\n",
      "segment = wave.segment(duration=0.005)\n",
      "segment.plot()"
     ],
     "language": "python",
     "metadata": {},
     "outputs": []
    },
    {
     "cell_type": "code",
     "collapsed": false,
     "input": [
      "wave.make_audio()"
     ],
     "language": "python",
     "metadata": {},
     "outputs": []
    },
    {
     "cell_type": "code",
     "collapsed": false,
     "input": [
      "import numpy\n",
      "hs = numpy.fft.rfft(wave.ys)\n",
      "hs"
     ],
     "language": "python",
     "metadata": {},
     "outputs": []
    },
    {
     "cell_type": "code",
     "collapsed": false,
     "input": [
      "f_max = framerate / 2.0\n",
      "fs = numpy.linspace(0, f_max, len(hs))"
     ],
     "language": "python",
     "metadata": {},
     "outputs": []
    },
    {
     "cell_type": "code",
     "collapsed": false,
     "input": [
      "magnitude = numpy.absolute(hs)\n",
      "thinkplot.plot(fs, magnitude)"
     ],
     "language": "python",
     "metadata": {},
     "outputs": []
    },
    {
     "cell_type": "code",
     "collapsed": false,
     "input": [
      "angle = numpy.angle(hs)\n",
      "thinkplot.plot(fs, angle)"
     ],
     "language": "python",
     "metadata": {},
     "outputs": []
    },
    {
     "cell_type": "code",
     "collapsed": false,
     "input": [
      "import random\n",
      "random.shuffle(angle)\n",
      "thinkplot.plot(fs, angle)"
     ],
     "language": "python",
     "metadata": {},
     "outputs": []
    },
    {
     "cell_type": "code",
     "collapsed": false,
     "input": [
      "i = complex(0, 1)\n",
      "spectrum.hs = magnitude * numpy.exp(i * angle)"
     ],
     "language": "python",
     "metadata": {},
     "outputs": []
    },
    {
     "cell_type": "code",
     "collapsed": false,
     "input": [
      "wave = spectrum.make_wave()\n",
      "segment = wave.segment(duration=0.005)\n",
      "segment.plot()"
     ],
     "language": "python",
     "metadata": {},
     "outputs": []
    },
    {
     "cell_type": "code",
     "collapsed": false,
     "input": [
      "wave.make_audio()"
     ],
     "language": "python",
     "metadata": {},
     "outputs": []
    },
    {
     "cell_type": "code",
     "collapsed": false,
     "input": [],
     "language": "python",
     "metadata": {},
     "outputs": []
    }
   ],
   "metadata": {}
  }
 ]
}