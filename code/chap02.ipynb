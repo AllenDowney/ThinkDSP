{
 "metadata": {
  "name": "",
  "signature": "sha256:58e87fbe6b75a567ef27d4ff71576f61b8fdac1a12893133358a0e02b54740ae"
 },
 "nbformat": 3,
 "nbformat_minor": 0,
 "worksheets": [
  {
   "cells": [
    {
     "cell_type": "markdown",
     "metadata": {},
     "source": [
      "Code examples from Chapter 2 of Think DSP by Allen Downey (think-dsp.com)."
     ]
    },
    {
     "cell_type": "code",
     "collapsed": false,
     "input": [
      "import thinkdsp\n",
      "import thinkplot"
     ],
     "language": "python",
     "metadata": {},
     "outputs": [],
     "prompt_number": 65
    },
    {
     "cell_type": "markdown",
     "metadata": {},
     "source": [
      "Create a triangle signal and plot a 3 period segment."
     ]
    },
    {
     "cell_type": "code",
     "collapsed": false,
     "input": [
      "signal = thinkdsp.TriangleSignal(200)\n",
      "duration = signal.period*3\n",
      "segment = signal.make_wave(duration, framerate=10000)\n",
      "segment.plot()"
     ],
     "language": "python",
     "metadata": {},
     "outputs": []
    },
    {
     "cell_type": "markdown",
     "metadata": {},
     "source": [
      "Make a 1-second wave and play it."
     ]
    },
    {
     "cell_type": "code",
     "collapsed": false,
     "input": [
      "segment = signal.make_wave(duration=1, framerate=10000)\n",
      "segment.apodize()\n",
      "segment.make_audio()"
     ],
     "language": "python",
     "metadata": {},
     "outputs": []
    },
    {
     "cell_type": "markdown",
     "metadata": {},
     "source": [
      "Make a 0.5 second wave and compute its spectrum."
     ]
    },
    {
     "cell_type": "code",
     "collapsed": false,
     "input": [
      "wave = signal.make_wave(duration=0.5, framerate=10000)\n",
      "spectrum = wave.make_spectrum()\n",
      "spectrum.plot()"
     ],
     "language": "python",
     "metadata": {},
     "outputs": []
    },
    {
     "cell_type": "markdown",
     "metadata": {},
     "source": [
      "Make a square signal and plot a 3 period segment."
     ]
    },
    {
     "cell_type": "code",
     "collapsed": false,
     "input": [
      "signal = thinkdsp.SquareSignal(100)\n",
      "duration = signal.period*3\n",
      "segment = signal.make_wave(duration, framerate=10000)\n",
      "segment.plot()"
     ],
     "language": "python",
     "metadata": {},
     "outputs": []
    },
    {
     "cell_type": "markdown",
     "metadata": {},
     "source": [
      "Make a 1 second wave and play it."
     ]
    },
    {
     "cell_type": "code",
     "collapsed": false,
     "input": [
      "segment = signal.make_wave(duration=1, framerate=10000)\n",
      "segment.apodize()\n",
      "segment.make_audio()"
     ],
     "language": "python",
     "metadata": {},
     "outputs": []
    },
    {
     "cell_type": "markdown",
     "metadata": {},
     "source": [
      "Make a 0.5 second wave and compute its spectrum."
     ]
    },
    {
     "cell_type": "code",
     "collapsed": false,
     "input": [
      "wave = signal.make_wave(duration=0.5, framerate=10000)\n",
      "spectrum = wave.make_spectrum()\n",
      "spectrum.plot()"
     ],
     "language": "python",
     "metadata": {},
     "outputs": []
    },
    {
     "cell_type": "markdown",
     "metadata": {},
     "source": [
      "Make a cosine signal at 4500 Hz, make a wave at framerate 10 kHz, and plot 5 periods."
     ]
    },
    {
     "cell_type": "code",
     "collapsed": false,
     "input": [
      "framerate = 10000\n",
      "\n",
      "signal = thinkdsp.CosSignal(4500)\n",
      "duration = signal.period*5\n",
      "segment = signal.make_wave(duration, framerate=framerate)\n",
      "segment.plot()"
     ],
     "language": "python",
     "metadata": {},
     "outputs": []
    },
    {
     "cell_type": "markdown",
     "metadata": {},
     "source": [
      "Make a cosine signal at 5500 Hz, make a wave at framerate 10 kHz, and plot the same duration.\n",
      "\n",
      "With framerate 10 kHz, the folding frequency is 5 kHz, so a 4500 Hz signal and a 5500 Hz signal look exactly the same."
     ]
    },
    {
     "cell_type": "code",
     "collapsed": false,
     "input": [
      "signal = thinkdsp.CosSignal(5500)\n",
      "segment = signal.make_wave(duration, framerate=framerate)\n",
      "segment.plot()"
     ],
     "language": "python",
     "metadata": {},
     "outputs": []
    },
    {
     "cell_type": "markdown",
     "metadata": {},
     "source": [
      "Make a triangle signal and plot the spectrum.  See how the harmonics get folded."
     ]
    },
    {
     "cell_type": "code",
     "collapsed": false,
     "input": [
      "signal = thinkdsp.TriangleSignal(1100)\n",
      "segment = signal.make_wave(duration=0.5, framerate=10000)\n",
      "spectrum = segment.make_spectrum()\n",
      "spectrum.plot()"
     ],
     "language": "python",
     "metadata": {},
     "outputs": []
    },
    {
     "cell_type": "markdown",
     "metadata": {},
     "source": [
      "Explore the implementation of Wave.make_spectrum.  Make a triangle wave."
     ]
    },
    {
     "cell_type": "code",
     "collapsed": false,
     "input": [
      "signal = thinkdsp.TriangleSignal(880)\n",
      "wave = signal.make_wave(duration=1, framerate=10000)\n",
      "segment = wave.segment(duration=0.005)\n",
      "segment.plot()"
     ],
     "language": "python",
     "metadata": {},
     "outputs": []
    },
    {
     "cell_type": "markdown",
     "metadata": {},
     "source": [
      "Play it."
     ]
    },
    {
     "cell_type": "code",
     "collapsed": false,
     "input": [
      "wave.make_audio()"
     ],
     "language": "python",
     "metadata": {},
     "outputs": []
    },
    {
     "cell_type": "markdown",
     "metadata": {},
     "source": [
      "Extract the wave array and compute the real FFT (which is just an FFT optimized for real inputs)."
     ]
    },
    {
     "cell_type": "code",
     "collapsed": false,
     "input": [
      "import numpy\n",
      "hs = numpy.fft.rfft(wave.ys)\n",
      "hs"
     ],
     "language": "python",
     "metadata": {},
     "outputs": []
    },
    {
     "cell_type": "markdown",
     "metadata": {},
     "source": [
      "Compute the frequencies that match up with the elements of the FFT."
     ]
    },
    {
     "cell_type": "code",
     "collapsed": false,
     "input": [
      "f_max = framerate / 2.0\n",
      "fs = numpy.linspace(0, f_max, len(hs))"
     ],
     "language": "python",
     "metadata": {},
     "outputs": []
    },
    {
     "cell_type": "markdown",
     "metadata": {},
     "source": [
      "Plot the magnitudes vs the frequencies."
     ]
    },
    {
     "cell_type": "code",
     "collapsed": false,
     "input": [
      "magnitude = numpy.absolute(hs)\n",
      "thinkplot.plot(fs, magnitude)"
     ],
     "language": "python",
     "metadata": {},
     "outputs": []
    },
    {
     "cell_type": "markdown",
     "metadata": {},
     "source": [
      "Plot the phases vs the frequencies."
     ]
    },
    {
     "cell_type": "code",
     "collapsed": false,
     "input": [
      "angle = numpy.angle(hs)\n",
      "thinkplot.plot(fs, angle)"
     ],
     "language": "python",
     "metadata": {},
     "outputs": []
    },
    {
     "cell_type": "markdown",
     "metadata": {},
     "source": [
      "Shuffle the phases."
     ]
    },
    {
     "cell_type": "code",
     "collapsed": false,
     "input": [
      "import random\n",
      "random.shuffle(angle)\n",
      "thinkplot.plot(fs, angle)"
     ],
     "language": "python",
     "metadata": {},
     "outputs": []
    },
    {
     "cell_type": "markdown",
     "metadata": {},
     "source": [
      "Put the shuffled phases back into the spectrum."
     ]
    },
    {
     "cell_type": "code",
     "collapsed": false,
     "input": [
      "i = complex(0, 1)\n",
      "spectrum.hs = magnitude * numpy.exp(i * angle)"
     ],
     "language": "python",
     "metadata": {},
     "outputs": []
    },
    {
     "cell_type": "markdown",
     "metadata": {},
     "source": [
      "Convert the spectrum back to a wave (which uses irfft)."
     ]
    },
    {
     "cell_type": "code",
     "collapsed": false,
     "input": [
      "wave = spectrum.make_wave()\n",
      "segment = wave.segment(duration=0.005)\n",
      "segment.plot()"
     ],
     "language": "python",
     "metadata": {},
     "outputs": []
    },
    {
     "cell_type": "markdown",
     "metadata": {},
     "source": [
      "Play the wave with the shuffled phases."
     ]
    },
    {
     "cell_type": "code",
     "collapsed": false,
     "input": [
      "wave.make_audio()"
     ],
     "language": "python",
     "metadata": {},
     "outputs": []
    },
    {
     "cell_type": "code",
     "collapsed": false,
     "input": [],
     "language": "python",
     "metadata": {},
     "outputs": []
    }
   ],
   "metadata": {}
  }
 ]
}