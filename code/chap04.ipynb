{
 "metadata": {
  "name": "",
  "signature": "sha256:abbb0bfbf5c10525325be5bec2e2e9418662e3e684091dd6ab8a28fe0792fd8a"
 },
 "nbformat": 3,
 "nbformat_minor": 0,
 "worksheets": [
  {
   "cells": [
    {
     "cell_type": "code",
     "collapsed": false,
     "input": [
      "import thinkdsp\n",
      "import thinkplot\n",
      "import math\n",
      "import numpy\n",
      "from __future__ import print_function, division"
     ],
     "language": "python",
     "metadata": {},
     "outputs": []
    },
    {
     "cell_type": "code",
     "collapsed": false,
     "input": [
      "duration = 0.5\n",
      "framerate = 11025\n",
      "n = framerate * duration\n",
      "ys = numpy.random.uniform(-1, 1, n)\n",
      "wave = thinkdsp.Wave(ys, framerate)\n",
      "wave.make_audio()"
     ],
     "language": "python",
     "metadata": {},
     "outputs": []
    },
    {
     "cell_type": "code",
     "collapsed": false,
     "input": [
      "wave.plot()"
     ],
     "language": "python",
     "metadata": {},
     "outputs": []
    },
    {
     "cell_type": "code",
     "collapsed": false,
     "input": [
      "spectrum = wave.make_spectrum()\n",
      "spectrum.plot()"
     ],
     "language": "python",
     "metadata": {},
     "outputs": []
    },
    {
     "cell_type": "code",
     "collapsed": false,
     "input": [
      "spectrum.plot_power()"
     ],
     "language": "python",
     "metadata": {},
     "outputs": []
    },
    {
     "cell_type": "code",
     "collapsed": false,
     "input": [
      "integ = spectrum.make_integrated_spectrum()\n",
      "integ.plot_power()\n",
      "thinkplot.config(xlabel='frequency (Hz)',\n",
      "                ylabel='cumulative power')\n"
     ],
     "language": "python",
     "metadata": {},
     "outputs": []
    },
    {
     "cell_type": "code",
     "collapsed": false,
     "input": [
      "signal = thinkdsp.BrownianNoise()\n",
      "wave = signal.make_wave(duration=0.5, framerate=11025)\n",
      "wave.make_audio()"
     ],
     "language": "python",
     "metadata": {},
     "outputs": []
    },
    {
     "cell_type": "code",
     "collapsed": false,
     "input": [
      "wave.plot()"
     ],
     "language": "python",
     "metadata": {},
     "outputs": []
    },
    {
     "cell_type": "code",
     "collapsed": false,
     "input": [
      "spectrum = wave.make_spectrum()\n",
      "spectrum.plot_power(low=1, linewidth=1, alpha=0.5)\n",
      "thinkplot.config(xlabel='frequency (Hz)',\n",
      "                ylabel='power density')"
     ],
     "language": "python",
     "metadata": {},
     "outputs": []
    },
    {
     "cell_type": "code",
     "collapsed": false,
     "input": [
      "spectrum = wave.make_spectrum()\n",
      "spectrum.plot_power(low=1, linewidth=1, alpha=0.5)\n",
      "thinkplot.config(xlabel='frequency (Hz)',\n",
      "                ylabel='power density',\n",
      "                xscale='log',\n",
      "                yscale='log')"
     ],
     "language": "python",
     "metadata": {},
     "outputs": []
    },
    {
     "cell_type": "code",
     "collapsed": false,
     "input": [
      "signal = thinkdsp.BrownianNoise()\n",
      "wave = signal.make_wave(duration=0.5, framerate=11025)\n",
      "spectrum = wave.make_spectrum()\n",
      "spectrum.estimate_slope()"
     ],
     "language": "python",
     "metadata": {},
     "outputs": []
    },
    {
     "cell_type": "code",
     "collapsed": false,
     "input": [
      "signal = thinkdsp.PinkNoise(beta=0)\n",
      "wave = signal.make_wave(duration=0.5)\n",
      "wave.make_audio()"
     ],
     "language": "python",
     "metadata": {},
     "outputs": []
    },
    {
     "cell_type": "code",
     "collapsed": false,
     "input": [
      "signal = thinkdsp.PinkNoise(beta=1)\n",
      "wave = signal.make_wave(duration=0.5)\n",
      "wave.make_audio()"
     ],
     "language": "python",
     "metadata": {},
     "outputs": []
    },
    {
     "cell_type": "code",
     "collapsed": false,
     "input": [
      "signal = thinkdsp.PinkNoise(beta=2)\n",
      "wave = signal.make_wave(duration=0.5)\n",
      "wave.make_audio()"
     ],
     "language": "python",
     "metadata": {},
     "outputs": []
    },
    {
     "cell_type": "code",
     "collapsed": false,
     "input": [
      "for beta in [0, 1, 2]:\n",
      "    signal = thinkdsp.PinkNoise(beta=beta)\n",
      "    wave = signal.make_wave(duration=0.5)\n",
      "    spectrum = wave.make_spectrum()\n",
      "    spectrum.plot_power()\n",
      "    \n",
      "thinkplot.config(xlabel='frequency (Hz)',\n",
      "                ylabel='power density',\n",
      "                xscale='log',\n",
      "                yscale='log')"
     ],
     "language": "python",
     "metadata": {},
     "outputs": []
    },
    {
     "cell_type": "code",
     "collapsed": false,
     "input": [
      "PI2 = 2 * math.pi\n",
      "framerate = 10000\n",
      "amps = numpy.ones(5000)\n",
      "offsets = numpy.random.uniform(0, PI2, 5000)\n",
      "i = complex(0, 1)\n",
      "hs = amps * numpy.exp(i * offsets)\n",
      "spectrum = thinkdsp.Spectrum(hs, framerate=framerate)\n",
      "spectrum.plot()"
     ],
     "language": "python",
     "metadata": {},
     "outputs": []
    },
    {
     "cell_type": "code",
     "collapsed": false,
     "input": [
      "wave = spectrum.make_wave()\n",
      "wave.normalize()\n",
      "wave.make_audio()"
     ],
     "language": "python",
     "metadata": {},
     "outputs": []
    },
    {
     "cell_type": "code",
     "collapsed": false,
     "input": [
      "import scipy\n",
      "ts = numpy.linspace(0, 1, len(wave.ys))\n",
      "ys = scipy.integrate.cumtrapz(wave.ys, ts)\n",
      "wave2 = thinkdsp.Wave(ys, framerate)"
     ],
     "language": "python",
     "metadata": {},
     "outputs": []
    },
    {
     "cell_type": "code",
     "collapsed": false,
     "input": [
      "wave2.normalize()\n",
      "wave2.make_audio()"
     ],
     "language": "python",
     "metadata": {},
     "outputs": []
    },
    {
     "cell_type": "code",
     "collapsed": false,
     "input": [
      "spectrum2 = wave2.make_spectrum()\n",
      "spectrum2.plot_power(low=1, linewidth=1, alpha=0.5)\n",
      "thinkplot.config(xscale='log', yscale='log')"
     ],
     "language": "python",
     "metadata": {},
     "outputs": []
    },
    {
     "cell_type": "code",
     "collapsed": false,
     "input": [
      "spectrum2.estimate_slope()"
     ],
     "language": "python",
     "metadata": {},
     "outputs": []
    },
    {
     "cell_type": "code",
     "collapsed": false,
     "input": [],
     "language": "python",
     "metadata": {},
     "outputs": []
    }
   ],
   "metadata": {}
  }
 ]
}