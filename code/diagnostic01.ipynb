{
 "metadata": {
  "name": "",
  "signature": "sha256:0e0d716f5cb81e4d0ba0cd702a1486ccd54a60fd8e9cf848a4e2424f7a813bed"
 },
 "nbformat": 3,
 "nbformat_minor": 0,
 "worksheets": [
  {
   "cells": [
    {
     "cell_type": "code",
     "collapsed": false,
     "input": [
      "import thinkdsp\n",
      "import thinkplot\n",
      "import math\n",
      "import numpy\n",
      "from __future__ import print_function, division"
     ],
     "language": "python",
     "metadata": {},
     "outputs": []
    },
    {
     "cell_type": "markdown",
     "metadata": {},
     "source": [
      "Write a few lines of code to create a `CosSignal` object\n",
      "with amplitude 1 and frequency 440 Hz.  Make a Wave with duration\n",
      "2s, then compute and plot its spectrum."
     ]
    },
    {
     "cell_type": "code",
     "collapsed": false,
     "input": [
      "signal = thinkdsp.CosSignal(freq=440)\n",
      "wave = signal.make_wave(duration=2)\n",
      "spectrum = wave.make_spectrum()\n",
      "spectrum.plot()"
     ],
     "language": "python",
     "metadata": {},
     "outputs": []
    },
    {
     "cell_type": "markdown",
     "metadata": {},
     "source": [
      " Suppose I give you a Wave object that represents one period of a\n",
      "  periodic signal.  Explain in words and/or code how you would change\n",
      "  the starting phase of the wave by a given phase offset in radians.\n",
      "  \n",
      "  I'll start by making a one-period wave:"
     ]
    },
    {
     "cell_type": "code",
     "collapsed": false,
     "input": [
      "segment = signal.make_wave(duration=signal.period)\n",
      "segment.plot()"
     ],
     "language": "python",
     "metadata": {},
     "outputs": []
    },
    {
     "cell_type": "markdown",
     "metadata": {},
     "source": [
      "Here's a function that shifts it using `numpy.roll`:"
     ]
    },
    {
     "cell_type": "code",
     "collapsed": false,
     "input": [
      "def shift_offset(segment, offset):\n",
      "    n = len(segment.ys)\n",
      "    index = int(numpy.round(n * offset / 2 / math.pi))\n",
      "    segment.ys = numpy.roll(segment.ys, index)"
     ],
     "language": "python",
     "metadata": {},
     "outputs": []
    },
    {
     "cell_type": "markdown",
     "metadata": {},
     "source": [
      "I'll testing it by shifting 180 degrees."
     ]
    },
    {
     "cell_type": "code",
     "collapsed": false,
     "input": [
      "shift_offset(segment, math.pi)\n",
      "segment.plot()"
     ],
     "language": "python",
     "metadata": {},
     "outputs": []
    },
    {
     "cell_type": "markdown",
     "metadata": {},
     "source": [
      "Suppose I give you a Spectrum object that represents the\n",
      "  spectrum of a periodic signal.  Explain in words and/or code how you\n",
      "  would change the starting phase of the wave by a given phase offset\n",
      "  in radians.\n",
      "  \n",
      "  Multiplying two complex exponentials adds angles:"
     ]
    },
    {
     "cell_type": "code",
     "collapsed": false,
     "input": [
      "offset = math.pi\n",
      "i = complex(0, 1)\n",
      "spectrum.hs = spectrum.hs * numpy.exp(i * offset)"
     ],
     "language": "python",
     "metadata": {},
     "outputs": []
    },
    {
     "cell_type": "markdown",
     "metadata": {},
     "source": [
      "The amplitudes look the same:"
     ]
    },
    {
     "cell_type": "code",
     "collapsed": false,
     "input": [
      "spectrum.plot()"
     ],
     "language": "python",
     "metadata": {},
     "outputs": []
    },
    {
     "cell_type": "markdown",
     "metadata": {},
     "source": [
      "Here's the original wave:"
     ]
    },
    {
     "cell_type": "code",
     "collapsed": false,
     "input": [
      "wave.segment(duration=0.01).plot()"
     ],
     "language": "python",
     "metadata": {},
     "outputs": []
    },
    {
     "cell_type": "markdown",
     "metadata": {},
     "source": [
      "And here's the wave after the offset shift:"
     ]
    },
    {
     "cell_type": "code",
     "collapsed": false,
     "input": [
      "spectrum.make_wave().segment(duration=0.01).plot()"
     ],
     "language": "python",
     "metadata": {},
     "outputs": []
    },
    {
     "cell_type": "markdown",
     "metadata": {},
     "source": [
      "Frequency is the derivative of phase"
     ]
    },
    {
     "cell_type": "code",
     "collapsed": false,
     "input": [
      "ts = numpy.arange(0, 10)\n",
      "phis = ts**2\n",
      "fs = numpy.diff(phis) / numpy.diff(ts)"
     ],
     "language": "python",
     "metadata": {},
     "outputs": []
    },
    {
     "cell_type": "markdown",
     "metadata": {},
     "source": [
      " "
     ]
    },
    {
     "cell_type": "code",
     "collapsed": false,
     "input": [
      "thinkplot.plot(ts, phis)"
     ],
     "language": "python",
     "metadata": {},
     "outputs": []
    },
    {
     "cell_type": "markdown",
     "metadata": {},
     "source": [
      " "
     ]
    },
    {
     "cell_type": "code",
     "collapsed": false,
     "input": [
      "ts"
     ],
     "language": "python",
     "metadata": {},
     "outputs": []
    },
    {
     "cell_type": "markdown",
     "metadata": {},
     "source": [
      " "
     ]
    },
    {
     "cell_type": "code",
     "collapsed": false,
     "input": [
      "phis"
     ],
     "language": "python",
     "metadata": {},
     "outputs": []
    },
    {
     "cell_type": "markdown",
     "metadata": {},
     "source": [
      " "
     ]
    },
    {
     "cell_type": "code",
     "collapsed": false,
     "input": [
      "fs"
     ],
     "language": "python",
     "metadata": {},
     "outputs": []
    },
    {
     "cell_type": "markdown",
     "metadata": {},
     "source": [
      " "
     ]
    },
    {
     "cell_type": "code",
     "collapsed": false,
     "input": [],
     "language": "python",
     "metadata": {},
     "outputs": []
    }
   ],
   "metadata": {}
  }
 ]
}