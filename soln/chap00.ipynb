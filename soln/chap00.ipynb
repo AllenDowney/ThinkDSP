{
 "cells": [
  {
   "cell_type": "markdown",
   "id": "488c9a71",
   "metadata": {
    "tags": [
     "remove-print"
    ]
   },
   "source": [
    "The second edition of *Think DSP* is not for sale yet, but if you would like to support this project, you can [buy me a coffee](https://buymeacoffee.com/allendowney)."
   ]
  },
  {
   "cell_type": "markdown",
   "id": "45a5201d",
   "metadata": {
    "tags": [
     "remove-print"
    ]
   },
   "source": [
    "[Click here to run this notebook on Colab](https://colab.research.google.com/github/AllenDowney/ThinkDSP/blob/v2/nb/chap01.ipynb)."
   ]
  },
  {
   "cell_type": "code",
   "execution_count": 2,
   "id": "942dc5bd",
   "metadata": {
    "tags": [
     "hide-cell",
     "remove-print"
    ]
   },
   "outputs": [],
   "source": [
    "# download thinkdsp.py\n",
    "\n",
    "from os.path import basename, exists\n",
    "\n",
    "def download(url):\n",
    "    filename = basename(url)\n",
    "    if not exists(filename):\n",
    "        from urllib.request import urlretrieve\n",
    "        local, _ = urlretrieve(url, filename)\n",
    "        print('Downloaded ' + local)\n",
    "        \n",
    "download(\"https://github.com/AllenDowney/ThinkDSP/raw/v2/nb/thinkdsp.py\")"
   ]
  },
  {
   "cell_type": "code",
   "execution_count": 3,
   "id": "f21033cb",
   "metadata": {
    "tags": [
     "hide-cell",
     "remove-print"
    ]
   },
   "outputs": [],
   "source": [
    "import pandas as pd\n",
    "import numpy as np\n",
    "import matplotlib.pyplot as plt\n",
    "\n",
    "from thinkdsp import decorate"
   ]
  },
  {
   "cell_type": "markdown",
   "id": "c2bfb64a",
   "metadata": {
    "tags": [
     "remove-print"
    ]
   },
   "source": [
    "[Think DSP: Digital Signal Processing in Python, 2rd Edition](https://allendowney.github.io/ThinkDSP/index.html)\n",
    "\n",
    "Copyright 2024 [Allen B. Downey](https://allendowney.com)\n",
    "\n",
    "License: [Creative Commons Attribution-NonCommercial-ShareAlike 4.0 International](https://creativecommons.org/licenses/by-nc-sa/4.0/)"
   ]
  },
  {
   "cell_type": "markdown",
   "id": "9c6b95e7",
   "metadata": {},
   "source": [
    "# Preface\n",
    "\n",
    "Signal processing is one of my favorite topics. It is useful in many\n",
    "areas of science and engineering, and if you understand the fundamental\n",
    "ideas, it provides insight into many things we see in the world, and\n",
    "especially the things we hear.\n",
    "\n",
    "But unless you studied electrical or mechanical engineering, you\n",
    "probably haven't had a chance to learn about signal processing. The\n",
    "problem is that most books (and the classes that use them) present the\n",
    "material bottom-up, starting with mathematical abstractions like\n",
    "phasors. And they tend to be theoretical, with few applications and\n",
    "little apparent relevance.\n",
    "\n",
    "The premise of this book is that if you know how to program, you can use\n",
    "that skill to learn other things, and have fun doing it.\n",
    "\n",
    "With a programming-based approach, I can present the most important\n",
    "ideas right away. By the end of the first chapter, you can analyze sound\n",
    "recordings and other signals, and generate new sounds. Each chapter\n",
    "introduces a new technique and an application you can apply to real\n",
    "signals. At each step you learn how to use a technique first, and then\n",
    "how it works.\n",
    "\n",
    "This approach is more practical and, I hope you'll agree, more fun.\n",
    "\n",
    "## Who is this book for?\n",
    "\n",
    "The examples and supporting code for this book are in Python. You should\n",
    "know core Python and you should be familiar with object-oriented\n",
    "features, at least using objects if not defining your own.\n",
    "\n",
    "If you are not already familiar with Python, you might want to start\n",
    "with my other book, *Think Python*, which is an introduction to Python\n",
    "for people who have never programmed, or Mark Lutz's *Learning Python*,\n",
    "which might be better for people with programming experience.\n",
    "\n",
    "I use NumPy and SciPy extensively. If you are familiar with them\n",
    "already, that's great, but I will also explain the functions and data\n",
    "structures I use.\n",
    "\n",
    "I assume that the reader knows basic mathematics, including complex\n",
    "numbers. You don't need much calculus; if you understand the concepts of\n",
    "integration and differentiation, that will do. I use some linear\n",
    "algebra, but I will explain it as we go along.\n",
    "\n",
    "## Using the code\n",
    "\n",
    "The code and sound samples used in this book are available from\n",
    "<https://github.com/AllenDowney/ThinkDSP>. Git is a version control\n",
    "system that allows you to keep track of the files that make up a\n",
    "project. A collection of files under Git's control is called a\n",
    "\"repository\". GitHub is a hosting service that provides storage for Git\n",
    "repositories and a convenient web interface.\n",
    "\n",
    "The GitHub homepage for my repository provides several ways to work with\n",
    "the code:\n",
    "\n",
    "-   You can create a copy of my repository on GitHub by pressing the\n",
    "    Fork button. If you don't already have a GitHub account, you'll need\n",
    "    to create one. After forking, you'll have your own repository on\n",
    "    GitHub that you can use to keep track of code you write while\n",
    "    working on this book. Then you can clone the repo, which means that\n",
    "    you copy the files to your computer.\n",
    "\n",
    "-   Or you could clone my repository. You don't need a GitHub account to\n",
    "    do this, but you won't be able to write your changes back to GitHub.\n",
    "\n",
    "-   If you don't want to use Git at all, you can download the files in a\n",
    "    Zip file using the button in the lower-right corner of the GitHub\n",
    "    page.\n",
    "\n",
    "All of the code is written to work in both Python 2 and Python 3 with no\n",
    "translation.\n",
    "\n",
    "I developed this book using Anaconda from Continuum Analytics, which is\n",
    "a free Python distribution that includes all the packages you'll need to\n",
    "run the code (and lots more). I found Anaconda easy to install. By\n",
    "default it does a user-level installation, not system-level, so you\n",
    "don't need administrative privileges. And it supports both Python 2 and\n",
    "Python 3. You can download Anaconda from\n",
    "<https://www.anaconda.com/distribution/>.\n",
    "\n",
    "If you don't want to use Anaconda, you will need the following packages:\n",
    "\n",
    "-   NumPy for basic numerical computation, <http://www.numpy.org/>;\n",
    "\n",
    "-   SciPy for scientific computation, <http://www.scipy.org/>;\n",
    "\n",
    "-   matplotlib for visualization, <http://matplotlib.org/>.\n",
    "\n",
    "Although these are commonly used packages, they are not included with\n",
    "all Python installations, and they can be hard to install in some\n",
    "environments. If you have trouble installing them, I recommend using\n",
    "Anaconda or one of the other Python distributions that include these\n",
    "packages.\n",
    "\n",
    "Most exercises use Python scripts, but some also use Jupyter notebooks.\n",
    "If you have not used Jupyter before, you can read about it at\n",
    "<http://jupyter.org>.\n",
    "\n",
    "There are three ways you can work with the Jupyter notebooks:\n",
    "\n",
    "Run Jupyter on your computer\n",
    "\n",
    "If you installed Anaconda, you probably got Jupyter by default. To\n",
    "    check, start the server from the command line, like this:"
   ]
  },
  {
   "cell_type": "code",
   "execution_count": null,
   "id": "d3ae5760",
   "metadata": {},
   "outputs": [],
   "source": [
    "$ jupyter notebook"
   ]
  },
  {
   "cell_type": "markdown",
   "id": "6161c35f",
   "metadata": {},
   "source": [
    "If it's not installed, you can install it in Anaconda like this:"
   ]
  },
  {
   "cell_type": "code",
   "execution_count": null,
   "id": "4d171670",
   "metadata": {},
   "outputs": [],
   "source": [
    "$ conda install jupyter"
   ]
  },
  {
   "cell_type": "markdown",
   "id": "0aa9e95d",
   "metadata": {},
   "source": [
    "When you start the server, it should launch your default web browser\n",
    "    or create a new tab in an open browser window.\n",
    "\n",
    "Run Jupyter on Binder\n",
    "\n",
    "Binder is a service that runs Jupyter in a virtual machine. If you\n",
    "    follow this link, <http://mybinder.org/repo/AllenDowney/ThinkDSP>,\n",
    "    you should get a Jupyter home page with the notebooks for this book\n",
    "    and the supporting data and scripts."
   ]
  },
  {
   "cell_type": "code",
   "execution_count": null,
   "id": "73d1a500",
   "metadata": {},
   "outputs": [],
   "source": [
    "You can run the scripts and modify them to run your own code, but\n",
    "the virtual machine you run in is temporary. Any changes you make\n",
    "will disappear, along with the virtual machine, if you leave it idle\n",
    "for more than about an hour."
   ]
  },
  {
   "cell_type": "markdown",
   "id": "affb0e4a",
   "metadata": {},
   "source": [
    "View notebooks on nbviewer\n",
    "\n",
    "When we refer to notebooks later in the book, we will provide links\n",
    "    to nbviewer, which provides a static view of the code and results.\n",
    "    You can use these links to read the notebooks and listen to the\n",
    "    examples, but you won't be able to modify or run the code, or use\n",
    "    the interactive widgets.\n",
    "\n",
    "Good luck, and have fun!\n",
    "\n",
    "## Contributor List {#contributor-list .unnumbered}\n",
    "\n",
    "If you have a suggestion or correction, please send email to\n",
    "`downey@allendowney.com`. If I make a change based on your feedback, I\n",
    "will add you to the contributor list (unless you ask to be omitted).\n",
    "\n",
    "If you include at least part of the sentence the error appears in, that\n",
    "makes it easy for me to search. Page and section numbers are fine, too,\n",
    "but not as easy to work with. Thanks!\n",
    "\n",
    "-   Before I started writing, my thoughts about this book benefited from\n",
    "    conversations with Boulos Harb at Google and Aurelio Ramos, formerly\n",
    "    at Harmonix Music Systems.\n",
    "\n",
    "-   During the Fall 2013 semester, Nathan Lintz and Ian Daniher worked\n",
    "    with me on an independent study project and helped me with the first\n",
    "    draft of this book.\n",
    "\n",
    "-   On Reddit's DSP forum, the anonymous user RamjetSoundwave helped me\n",
    "    fix a problem with my implementation of Brownian Noise. And andodli\n",
    "    found a typo.\n",
    "\n",
    "-   In Spring 2015 I had the pleasure of teaching this material along\n",
    "    with Prof. Oscar Mur-Miranda and Prof. Siddhartan Govindasamy. Both\n",
    "    made many suggestions and corrections.\n",
    "\n",
    "-   Silas Gyger corrected an arithmetic error.\n",
    "\n",
    "-   Giuseppe Masetti sent a number of very helpful suggestions.\n",
    "\n",
    "-   Eric Peters sent many helpful suggestions.\n",
    "\n",
    "Special thanks to Freesound, which is the source of many of the sound\n",
    "samples I use in this book, and to the Freesound users who uploaded\n",
    "those sounds. I include some of their wave files in the GitHub\n",
    "repository for this book, using the original file names, so it should be\n",
    "easy to find their sources.\n",
    "\n",
    "Unfortunately, most Freesound users don't make their real names\n",
    "available, so I can only thank them using their user names. Samples used\n",
    "in this book were contributed by Freesound users: iluppai, wcfl10,\n",
    "thirsk, docquesting, kleeb, landup, zippi1, themusicalnomad, bcjordan,\n",
    "rockwehrmann, marcgascon7, jcveliz. Thank you all!\n",
    "\n",
    " latexonly\n"
   ]
  }
 ],
 "metadata": {
  "kernelspec": {
   "display_name": "Python 3 (ipykernel)",
   "language": "python",
   "name": "python3"
  },
  "language_info": {
   "codemirror_mode": {
    "name": "ipython",
    "version": 3
   },
   "file_extension": ".py",
   "mimetype": "text/x-python",
   "name": "python",
   "nbconvert_exporter": "python",
   "pygments_lexer": "ipython3",
   "version": "3.10.15"
  }
 },
 "nbformat": 4,
 "nbformat_minor": 5
}
