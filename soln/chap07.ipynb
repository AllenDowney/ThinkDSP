{
 "cells": [
  {
   "cell_type": "markdown",
   "id": "488c9a71",
   "metadata": {
    "tags": [
     "remove-print"
    ]
   },
   "source": [
    "The second edition of *Think DSP* is not for sale yet, but if you would like to support this project, you can [buy me a coffee](https://buymeacoffee.com/allendowney)."
   ]
  },
  {
   "cell_type": "markdown",
   "id": "45a5201d",
   "metadata": {
    "tags": [
     "remove-print"
    ]
   },
   "source": [
    "[Click here to run this notebook on Colab](https://colab.research.google.com/github/AllenDowney/ThinkDSP/blob/v2/nb/chap01.ipynb)."
   ]
  },
  {
   "cell_type": "code",
   "execution_count": 2,
   "id": "942dc5bd",
   "metadata": {
    "tags": [
     "hide-cell",
     "remove-print"
    ]
   },
   "outputs": [],
   "source": [
    "# download thinkdsp.py\n",
    "\n",
    "from os.path import basename, exists\n",
    "\n",
    "def download(url):\n",
    "    filename = basename(url)\n",
    "    if not exists(filename):\n",
    "        from urllib.request import urlretrieve\n",
    "        local, _ = urlretrieve(url, filename)\n",
    "        print('Downloaded ' + local)\n",
    "        \n",
    "download(\"https://github.com/AllenDowney/ThinkDSP/raw/v2/nb/thinkdsp.py\")"
   ]
  },
  {
   "cell_type": "code",
   "execution_count": 3,
   "id": "f21033cb",
   "metadata": {
    "tags": [
     "hide-cell",
     "remove-print"
    ]
   },
   "outputs": [],
   "source": [
    "import pandas as pd\n",
    "import numpy as np\n",
    "import matplotlib.pyplot as plt\n",
    "\n",
    "from thinkdsp import decorate"
   ]
  },
  {
   "cell_type": "markdown",
   "id": "c2bfb64a",
   "metadata": {
    "tags": [
     "remove-print"
    ]
   },
   "source": [
    "[Think DSP: Digital Signal Processing in Python, 2rd Edition](https://allendowney.github.io/ThinkDSP/index.html)\n",
    "\n",
    "Copyright 2024 [Allen B. Downey](https://allendowney.com)\n",
    "\n",
    "License: [Creative Commons Attribution-NonCommercial-ShareAlike 4.0 International](https://creativecommons.org/licenses/by-nc-sa/4.0/)"
   ]
  },
  {
   "cell_type": "markdown",
   "id": "eb0c930e",
   "metadata": {},
   "source": [
    "# Discrete Fourier Transform\n",
    "\n",
    "We've been using the discrete Fourier transform (DFT) since Chapter [\\[sounds\\]](#sounds){reference-type=\"ref\" reference=\"sounds\"}, but I haven't explained how it works.\n",
    "Now is the time.\n",
    "\n",
    "If you understand the discrete cosine transform (DCT), you will understand the DFT.\n",
    "The only difference is that instead of using the cosine function, we'll use the complex exponential function.\n",
    "I'll start by explaining complex exponentials, then I'll follow the same progression as in Chapter [\\[dct\\]](#dct){reference-type=\"ref\" reference=\"dct\"}:\n",
    "\n",
    "1.  We'll start with the synthesis problem: given a set of frequency components and their amplitudes, how can we construct a signal? The synthesis problem is equivalent to the inverse DFT.\n",
    "\n",
    "2.  Then I'll rewrite the synthesis problem in the form of matrix multiplication using NumPy arrays.\n",
    "\n",
    "3.  Next we'll solve the analysis problem, which is equivalent to the DFT: given a signal, how to we find the amplitude and phase offset of its frequency components?\n",
    "\n",
    "4.  Finally, we'll use linear algebra to find a more efficient way to compute the DFT.\n",
    "\n",
    "The code for this chapter is in `chap07.ipynb`, which is in the repository for this book (see Section [\\[code\\]](#code){reference-type=\"ref\" reference=\"code\"}).\n",
    "You can also view it at <http://tinyurl.com/thinkdsp07>.\n",
    "\n",
    "## Complex exponentials\n",
    "\n",
    "One of the more interesting moves in mathematics is the generalization of an operation from one type to another.\n",
    "For example, factorial is a function that operates on integers; the natural definition for factorial of $n$ is the product of all integers from 1 to $n$.\n",
    "\n",
    "If you are of a certain inclination, you might wonder how to compute the factorial of a non-integer like 3.5. Since the natural definition doesn't apply, you might look for other ways to compute the factorial function, ways that would work with non-integers.\n",
    "\n",
    "In 1730, Leonhard Euler found one, a generalization of the factorial function that we know as the gamma function (see <http://en.wikipedia.org/wiki/Gamma_function>).\n",
    "\n",
    "Euler also found one of the most useful generalizations in applied mathematics, the complex exponential function.\n",
    "\n",
    "The natural definition of exponentiation is repeated multiplication.\n",
    "For example, $\\phi^3 = \\phi \\cdot \\phi \\cdot \\phi$.\n",
    "But this definition doesn't apply to non-integer exponents.\n",
    "\n",
    "However, exponentiation can also be expressed as a power series: $$e^\\phi = 1 + \\phi + \\phi^2/2! + \\phi^3/3! + ...$$ This definition works with real numbers, imaginary numbers and, by a simple extension, with complex numbers.\n",
    "Applying this definition to a pure imaginary number, $i\\phi$, we get $$e^{i\\phi} = 1 + i\\phi - \\phi^2/2! - i\\phi^3/3! + ...$$ By rearranging terms, we can show that this is equivalent to: $$e^{i\\phi} = \\cos \\phi + i \\sin \\phi$$ You can see the derivation at <http://en.wikipedia.org/wiki/Euler's_formula>.\n",
    "\n",
    "This formula implies that $e^{i\\phi}$ is a complex number with magnitude 1; if you think of it as a point in the complex plane, it is always on the unit circle.\n",
    "And if you think of it as a vector, the angle in radians between the vector and the positive x-axis is the argument, $\\phi$.\n",
    "\n",
    "In the case where the exponent is a complex number, we have: $$e^{a + i\\phi} = e^a e^{i\\phi} = A e^{i\\phi}$$ where $A$ is a real number that indicates amplitude and $e^{i\\phi}$ is a unit complex number that indicates angle.\n",
    "\n",
    "NumPy provides a version of `exp` that works with complex numbers:"
   ]
  },
  {
   "cell_type": "code",
   "execution_count": null,
   "id": "c99ddd52",
   "metadata": {},
   "outputs": [],
   "source": [
    "phi = 1.5\n",
    "z = np.exp(1j * phi)\n",
    "z\n",
    "(0.0707+0.997j)"
   ]
  },
  {
   "cell_type": "markdown",
   "id": "e3cc632d",
   "metadata": {},
   "source": [
    "Python uses `j` to represent the imaginary unit, rather than `i`.\n",
    "A number ending in `j` is considered imaginary, so `1j` is just $i$.\n",
    "\n",
    "When the argument to `np.exp` is imaginary or complex, the result is a complex number; specifically, a `np.complex128`, which is represented by two 64-bit floating-point numbers.\n",
    "In this example, the result is `0.0707+0.997j`.\n",
    "\n",
    "Complex numbers have attributes `real` and `imag`:"
   ]
  },
  {
   "cell_type": "code",
   "execution_count": null,
   "id": "ab51a6ba",
   "metadata": {},
   "outputs": [],
   "source": [
    "z.real\n",
    "0.0707\n",
    "z.imag\n",
    "0.997"
   ]
  },
  {
   "cell_type": "markdown",
   "id": "9bd51750",
   "metadata": {},
   "source": [
    "To get the magnitude, you can use the built-in function `abs` or `np.absolute`:"
   ]
  },
  {
   "cell_type": "code",
   "execution_count": null,
   "id": "a1924cbe",
   "metadata": {},
   "outputs": [],
   "source": [
    "abs(z)\n",
    "1.0\n",
    "np.absolute(z)\n",
    "1.0"
   ]
  },
  {
   "cell_type": "markdown",
   "id": "d723851c",
   "metadata": {},
   "source": [
    "To get the angle, you can use `np.angle`:"
   ]
  },
  {
   "cell_type": "code",
   "execution_count": null,
   "id": "879da353",
   "metadata": {},
   "outputs": [],
   "source": [
    "np.angle(z)\n",
    "1.5"
   ]
  },
  {
   "cell_type": "markdown",
   "id": "a565c0d9",
   "metadata": {},
   "source": [
    "This example confirms that $e^{i \\phi}$ is a complex number with magnitude 1 and angle $\\phi$ radians.\n",
    "\n",
    "## Complex signals\n",
    "\n",
    "If $\\phi(t)$ is a function of time, $e^{i \\phi(t)}$ is also a function of time.\n",
    "Specifically, $$e^{i \\phi(t)} = \\cos \\phi(t) + i \\sin \\phi(t)$$ This function describes a quantity that varies in time, so it is a signal.\n",
    "Specifically, it is a **complex exponential signal**.\n",
    "\n",
    "In the special case where the frequency of the signal is constant, $\\phi(t)$ is $2 \\pi f t$ and the result is a **complex sinusoid**: $$e^{i 2 \\pi f t} = \\cos 2 \\pi f t + i \\sin 2 \\pi f t$$ Or more generally, the signal might start at a phase offset $\\phi_0$, yielding $$e^{i (2 \\pi f t + \\phi_0)}$$ `thinkdsp` provides an implementation of this signal, `ComplexSinusoid`:"
   ]
  },
  {
   "cell_type": "code",
   "execution_count": null,
   "id": "210ea803",
   "metadata": {},
   "outputs": [],
   "source": [
    "class ComplexSinusoid(Sinusoid):\n",
    "\n",
    "   def evaluate(self, ts):\n",
    "        phases = PI2 * self.freq * ts + self.offset\n",
    "        ys = self.amp * np.exp(1j * phases)\n",
    "        return ys"
   ]
  },
  {
   "cell_type": "markdown",
   "id": "1c8cbd01",
   "metadata": {},
   "source": [
    "`ComplexSinusoid` inherits `__init__` from `Sinusoid`.\n",
    "It provides a version of `evaluate` that is almost identical to `Sinusoid.evaluate`; the only difference is that it uses `np.exp` instead of `np.sin`.\n",
    "\n",
    "The result is a NumPy array of complex numbers:"
   ]
  },
  {
   "cell_type": "code",
   "execution_count": null,
   "id": "e232eea3",
   "metadata": {},
   "outputs": [],
   "source": [
    "signal = thinkdsp.ComplexSinusoid(freq=1, amp=0.6, offset=1)\n",
    "wave = signal.make_wave(duration=1, framerate=4)\n",
    "wave.ys\n",
    "[ 0.324+0.505j -0.505+0.324j -0.324-0.505j  0.505-0.324j]"
   ]
  },
  {
   "cell_type": "markdown",
   "id": "3b431a71",
   "metadata": {},
   "source": [
    "The frequency of this signal is 1 cycle per second, the amplitude is 0.6 (in unspecified units), and the phase offset is 1 radian.\n",
    "\n",
    "This example evaluates the signal at 4 places equally spaced between 0 and 1 second.\n",
    "The resulting samples are complex numbers.\n",
    "\n",
    "## The synthesis problem\n",
    "\n",
    "Just as we did with real sinusoids, we can create compound signals by adding up complex sinusoids with different frequencies.\n",
    "And that brings us to the complex version of the synthesis problem: given the frequency and amplitude of each complex component, how do we evaluate the signal?\n",
    "\n",
    "The simplest solution is to create `ComplexSinusoid` objects and add them up."
   ]
  },
  {
   "cell_type": "code",
   "execution_count": null,
   "id": "27cdc3ac",
   "metadata": {},
   "outputs": [],
   "source": [
    "def synthesize1(amps, fs, ts):\n",
    "    components = [thinkdsp.ComplexSinusoid(freq, amp)\n",
    "                  for amp, freq in zip(amps, fs)]\n",
    "    signal = thinkdsp.SumSignal(*components)\n",
    "    ys = signal.evaluate(ts)\n",
    "    return ys"
   ]
  },
  {
   "cell_type": "markdown",
   "id": "d1a7a0b7",
   "metadata": {},
   "source": [
    "This function is almost identical to `synthesize1` in Section [\\[synth1\\]](#synth1){reference-type=\"ref\" reference=\"synth1\"}; the only difference is that I replaced `CosSignal` with `ComplexSinusoid`.\n",
    "\n",
    "Here's an example:"
   ]
  },
  {
   "cell_type": "code",
   "execution_count": null,
   "id": "3cb3e5df",
   "metadata": {},
   "outputs": [],
   "source": [
    "amps = np.array([0.6, 0.25, 0.1, 0.05])\n",
    "fs = [100, 200, 300, 400]\n",
    "framerate = 11025\n",
    "ts = np.linspace(0, 1, framerate)\n",
    "ys = synthesize1(amps, fs, ts)"
   ]
  },
  {
   "cell_type": "markdown",
   "id": "f253d02e",
   "metadata": {},
   "source": [
    "The result is:"
   ]
  },
  {
   "cell_type": "code",
   "execution_count": null,
   "id": "8c930a7e",
   "metadata": {},
   "outputs": [],
   "source": [
    "[ 1.000 +0.000e+00j  0.995 +9.093e-02j  0.979 +1.803e-01j ...,\n",
    "  0.979 -1.803e-01j  0.995 -9.093e-02j  1.000 -5.081e-15j]"
   ]
  },
  {
   "cell_type": "markdown",
   "id": "7fafdce7",
   "metadata": {},
   "source": [
    "At the lowest level, a complex signal is a sequence of complex numbers.\n",
    "But how should we interpret it? We have some intuition for real signals: they represent quantities that vary in time; for example, a sound signal represents changes in air pressure.\n",
    "But nothing we measure in the world yields complex numbers.\n",
    "\n",
    "![Real and imaginary parts of a mixture of complex sinusoids.](figs/dft1.pdf){height=\"2.5in\"}\n",
    "\n",
    "So what is a complex signal? I don't have a satisfying answer to this question.\n",
    "The best I can offer is two unsatisfying answers:\n",
    "\n",
    "1.  A complex signal is a mathematical abstraction that is useful for computation and analysis, but it does not correspond directly with anything in the real world.\n",
    "\n",
    "2.  If you like, you can think of a complex signal as a sequence of complex numbers that contains two signals as its real and imaginary parts.\n",
    "\n",
    "Taking the second point of view, we can split the previous signal into its real and imaginary parts:"
   ]
  },
  {
   "cell_type": "code",
   "execution_count": null,
   "id": "c7d495bf",
   "metadata": {},
   "outputs": [],
   "source": [
    "n = 500\n",
    "plt.plot(ts[:n], ys[:n].real, label='real')\n",
    "plt.plot(ts[:n], ys[:n].imag, label='imag')"
   ]
  },
  {
   "cell_type": "markdown",
   "id": "38039b81",
   "metadata": {},
   "source": [
    "Figure [\\[fig.dft1\\]](#fig.dft1){reference-type=\"ref\" reference=\"fig.dft1\"} shows a segment of the result.\n",
    "The real part is a sum of cosines; the imaginary part is a sum of sines.\n",
    "Although the waveforms look different, they contain the same frequency components in the same proportions.\n",
    "To our ears, they sound the same (in general, we don't hear phase offsets).\n",
    "\n",
    "## Synthesis with matrices\n",
    "\n",
    "As we saw in Section [\\[synthesis\\]](#synthesis){reference-type=\"ref\" reference=\"synthesis\"}, we can also express the synthesis problem in terms of matrix multiplication:"
   ]
  },
  {
   "cell_type": "code",
   "execution_count": null,
   "id": "c0fe8fd3",
   "metadata": {},
   "outputs": [],
   "source": [
    "PI2 = np.pi * 2\n",
    "\n",
    "def synthesize2(amps, fs, ts):\n",
    "    args = np.outer(ts, fs)\n",
    "    M = np.exp(1j * PI2 * args)\n",
    "    ys = np.dot(M, amps)\n",
    "    return ys"
   ]
  },
  {
   "cell_type": "markdown",
   "id": "fa9f9a72",
   "metadata": {},
   "source": [
    "Again, `amps` is a NumPy array that contains a sequence of amplitudes.\n",
    "\n",
    "`fs` is a sequence containing the frequencies of the components.\n",
    "`ts` contains the times where we will evaluate the signal.\n",
    "\n",
    "`args` contains the outer product of `ts` and `fs`, with the `ts` running down the rows and the `fs` running across the columns (you might want to refer back to Figure [\\[fig.synthesis\\]](#fig.synthesis){reference-type=\"ref\" reference=\"fig.synthesis\"}).\n",
    "\n",
    "Each column of matrix `M` contains a complex sinusoid with a particular frequency, evaluated at a sequence of `ts`.\n",
    "\n",
    "When we multiply `M` by the amplitudes, the result is a vector whose elements correspond to the `ts`; each element is the sum of several complex sinusoids, evaluated at a particular time.\n",
    "\n",
    "Here's the example from the previous section again:"
   ]
  },
  {
   "cell_type": "code",
   "execution_count": null,
   "id": "e16e6655",
   "metadata": {},
   "outputs": [],
   "source": [
    "ys = synthesize2(amps, fs, ts)\n",
    "ys\n",
    "[ 1.000 +0.000e+00j  0.995 +9.093e-02j  0.979 +1.803e-01j ...,\n",
    "  0.979 -1.803e-01j  0.995 -9.093e-02j  1.000 -5.081e-15j]"
   ]
  },
  {
   "cell_type": "markdown",
   "id": "dbca48fa",
   "metadata": {},
   "source": [
    "The result is the same.\n",
    "\n",
    "In this example the amplitudes are real, but they could also be complex.\n",
    "What effect does a complex amplitude have on the result? Remember that we can think of a complex number in two ways: either the sum of a real and imaginary part, $x + i y$, or the product of a real amplitude and a complex exponential, $A e^{i \\phi_0}$.\n",
    "Using the second interpretation, we can see what happens when we multiply a complex amplitude by a complex sinusoid.\n",
    "For each frequency, $f$, we have: $$A \\exp{i \\phi_0} \\cdot \\exp{i 2 \\pi f t} = A \\exp{i (2 \\pi f t + \\phi_0)}$$ Multiplying by $A e^{i \\phi_0}$ multiplies the amplitude by $A$ and adds the phase offset $\\phi_0$.\n",
    "\n",
    "![Real part of two complex signals that differ by a phase offset.](figs/dft2.pdf){height=\"2.5in\"}\n",
    "\n",
    "We can test that claim by running the previous example with $\\phi_0 = 1.5$ for all frequency components:"
   ]
  },
  {
   "cell_type": "code",
   "execution_count": null,
   "id": "b6a964ed",
   "metadata": {},
   "outputs": [],
   "source": [
    "phi = 1.5\n",
    "amps2 = amps * np.exp(1j * phi)\n",
    "ys2 = synthesize2(amps2, fs, ts)\n",
    "\n",
    "plt.plot(ts[:n], ys.real[:n])\n",
    "plt.plot(ts[:n], ys2.real[:n])"
   ]
  },
  {
   "cell_type": "markdown",
   "id": "7d40d0c6",
   "metadata": {},
   "source": [
    "Since `amps` is an array of reals, multiplying by `np.exp(1j * phi)` yields an array of complex numbers with phase offset `phi` radians, and the same magnitudes as `amps`.\n",
    "\n",
    "Figure [\\[fig.dft2\\]](#fig.dft2){reference-type=\"ref\" reference=\"fig.dft2\"} shows the result.\n",
    "The phase offset $\\phi_0 = 1.5$ shifts the wave to the left by about one quarter of a cycle; it also changes the waveform, because the same phase offset applied to different frequencies changes how the frequency components line up with each other.\n",
    "\n",
    "Now that we have the more general solution to the synthesis problem -- one that handles complex amplitudes -- we are ready for the analysis problem.\n",
    "\n",
    "## The analysis problem\n",
    "\n",
    "The analysis problem is the inverse of the synthesis problem: given a sequence of samples, $y$, and knowing the frequencies that make up the signal, can we compute the complex amplitudes of the components, $a$?\n",
    "\n",
    "As we saw in Section [\\[analysis\\]](#analysis){reference-type=\"ref\" reference=\"analysis\"}, we can solve this problem by forming the synthesis matrix, $M$, and solving the system of linear equations, $M a = y$ for $a$."
   ]
  },
  {
   "cell_type": "code",
   "execution_count": null,
   "id": "bcddf109",
   "metadata": {},
   "outputs": [],
   "source": [
    "def analyze1(ys, fs, ts):\n",
    "    args = np.outer(ts, fs)\n",
    "    M = np.exp(1j * PI2 * args)\n",
    "    amps = np.linalg.solve(M, ys)\n",
    "    return amps"
   ]
  },
  {
   "cell_type": "markdown",
   "id": "2ab89a90",
   "metadata": {},
   "source": [
    "`analyze1` takes a (possibly complex) wave array, `ys`, a sequence of real frequencies, `fs`, and a sequence of real times, `ts`.\n",
    "It returns a sequence of complex amplitudes, ` amps`.\n",
    "\n",
    "Continuing the previous example, we can confirm that `analyze1` recovers the amplitudes we started with.\n",
    "For the linear system solver to work, `M` has to be square, so we need `ys`, ` fs` and `ts` to have the same length.\n",
    "I'll insure that by slicing `ys` and `ts` down to the length of `fs`:"
   ]
  },
  {
   "cell_type": "code",
   "execution_count": null,
   "id": "53c2bb43",
   "metadata": {},
   "outputs": [],
   "source": [
    "n = len(fs)\n",
    "amps2 = analyze1(ys[:n], fs, ts[:n])\n",
    "amps2\n",
    "[ 0.60+0.j  0.25-0.j  0.10+0.j  0.05-0.j]"
   ]
  },
  {
   "cell_type": "markdown",
   "id": "10604021",
   "metadata": {},
   "source": [
    "These are approximately the amplitudes we started with, although each component has a small imaginary part due to floating-point errors.\n",
    "\n",
    "## Efficient analysis\n",
    "\n",
    "Unfortunately, solving a linear system of equations is slow.\n",
    "For the DCT, we were able to speed things up by choosing `fs` and ` ts` so that `M` is orthogonal.\n",
    "That way, the inverse of `M` is the transpose of `M`, and we can compute both DCT and inverse DCT by matrix multiplication.\n",
    "\n",
    "We'll do the same thing for the DFT, with one small change.\n",
    "Since `M` is complex, we need it to be **unitary**, rather than orthogonal, which means that the inverse of `M` is the conjugate transpose of `M`, which we can compute by transposing the matrix and negating the imaginary part of each element.\n",
    "See <http://en.wikipedia.org/wiki/Unitary_matrix>.\n",
    "\n",
    "The NumPy methods `conj` and `transpose` do what we want.\n",
    "Here's the code that computes `M` for $N=4$ components:"
   ]
  },
  {
   "cell_type": "code",
   "execution_count": null,
   "id": "88e1ea69",
   "metadata": {},
   "outputs": [],
   "source": [
    "N = 4\n",
    "ts = np.arange(N) / N\n",
    "fs = np.arange(N)\n",
    "args = np.outer(ts, fs)\n",
    "M = np.exp(1j * PI2 * args)"
   ]
  },
  {
   "cell_type": "markdown",
   "id": "bad347a7",
   "metadata": {},
   "source": [
    "If $M$ is unitary, $M^*M = I$, where $M^*$ is the conjugate transpose of $M$, and $I$ is the identity matrix.\n",
    "We can test whether $M$ is unitary like this:"
   ]
  },
  {
   "cell_type": "code",
   "execution_count": null,
   "id": "fca7c349",
   "metadata": {},
   "outputs": [],
   "source": [
    "MstarM = M.conj().transpose().dot(M)"
   ]
  },
  {
   "cell_type": "markdown",
   "id": "b15ce724",
   "metadata": {},
   "source": [
    "The result, within the tolerance of floating-point error, is $4 I$, so $M$ is unitary except for an extra factor of $N$, similar to the extra factor of 2 we found with the DCT.\n",
    "\n",
    "We can use this result to write a faster version of `analyze1`:"
   ]
  },
  {
   "cell_type": "code",
   "execution_count": null,
   "id": "9855628a",
   "metadata": {},
   "outputs": [],
   "source": [
    "def analyze2(ys, fs, ts):\n",
    "    args = np.outer(ts, fs)\n",
    "    M = np.exp(1j * PI2 * args)\n",
    "    amps = M.conj().transpose().dot(ys) / N\n",
    "    return amps"
   ]
  },
  {
   "cell_type": "markdown",
   "id": "2e993362",
   "metadata": {},
   "source": [
    "And test it with appropriate values of `fs` and `ts`:"
   ]
  },
  {
   "cell_type": "code",
   "execution_count": null,
   "id": "7e91e778",
   "metadata": {},
   "outputs": [],
   "source": [
    "N = 4\n",
    "amps = np.array([0.6, 0.25, 0.1, 0.05])\n",
    "fs = np.arange(N)\n",
    "ts = np.arange(N) / N\n",
    "ys = synthesize2(amps, fs, ts)\n",
    "amps3 = analyze2(ys, fs, ts)"
   ]
  },
  {
   "cell_type": "markdown",
   "id": "fb1cbabf",
   "metadata": {},
   "source": [
    "Again, the result is correct within the tolerance of floating-point arithmetic."
   ]
  },
  {
   "cell_type": "code",
   "execution_count": null,
   "id": "8a171cce",
   "metadata": {},
   "outputs": [],
   "source": [
    "[ 0.60+0.j  0.25+0.j  0.10-0.j  0.05-0.j]"
   ]
  },
  {
   "cell_type": "markdown",
   "id": "f9f4decc",
   "metadata": {},
   "source": [
    "## DFT\n",
    "\n",
    "As a function, `analyze2` would be hard to use because it only works if `fs` and `ts` are chosen correctly.\n",
    "Instead, I will rewrite it to take just `ys` and compute `fs` and `ts` itself.\n",
    "\n",
    "First, I'll make a function to compute the synthesis matrix, $M$:"
   ]
  },
  {
   "cell_type": "code",
   "execution_count": null,
   "id": "1be688cc",
   "metadata": {},
   "outputs": [],
   "source": [
    "def synthesis_matrix(N):\n",
    "    ts = np.arange(N) / N\n",
    "    fs = np.arange(N)\n",
    "    args = np.outer(ts, fs)\n",
    "    M = np.exp(1j * PI2 * args)\n",
    "    return M"
   ]
  },
  {
   "cell_type": "markdown",
   "id": "634e3e73",
   "metadata": {},
   "source": [
    "Then I'll write the function that takes `ys` and returns `amps`:"
   ]
  },
  {
   "cell_type": "code",
   "execution_count": null,
   "id": "b8b0279d",
   "metadata": {},
   "outputs": [],
   "source": [
    "def analyze3(ys):\n",
    "    N = len(ys)\n",
    "    M = synthesis_matrix(N)\n",
    "    amps = M.conj().transpose().dot(ys) / N\n",
    "    return amps"
   ]
  },
  {
   "cell_type": "markdown",
   "id": "c0344b4e",
   "metadata": {},
   "source": [
    "We are almost done; `analyze3` computes something very close to the DFT, with one difference.\n",
    "The conventional definition of DFT does not divide by `N`:"
   ]
  },
  {
   "cell_type": "code",
   "execution_count": null,
   "id": "ea2b1a7e",
   "metadata": {},
   "outputs": [],
   "source": [
    "def dft(ys):\n",
    "    N = len(ys)\n",
    "    M = synthesis_matrix(N)\n",
    "    amps = M.conj().transpose().dot(ys)\n",
    "    return amps"
   ]
  },
  {
   "cell_type": "markdown",
   "id": "b33d5c5f",
   "metadata": {},
   "source": [
    "Now we can confirm that my version yields the same result as FFT:"
   ]
  },
  {
   "cell_type": "code",
   "execution_count": null,
   "id": "4bdb3dc5",
   "metadata": {},
   "outputs": [],
   "source": [
    "dft(ys)\n",
    "[ 2.4+0.j  1.0+0.j  0.4-0.j  0.2-0.j]"
   ]
  },
  {
   "cell_type": "markdown",
   "id": "107a1015",
   "metadata": {},
   "source": [
    "The result is close to `amps * N`. And here's the version in `np.fft`:"
   ]
  },
  {
   "cell_type": "code",
   "execution_count": null,
   "id": "6bcf855c",
   "metadata": {},
   "outputs": [],
   "source": [
    "np.fft.fft(ys)\n",
    "[ 2.4+0.j  1.0+0.j  0.4-0.j  0.2-0.j]"
   ]
  },
  {
   "cell_type": "markdown",
   "id": "0b54f098",
   "metadata": {},
   "source": [
    "They are the same, within floating point error.\n",
    "\n",
    "The inverse DFT is almost the same, except we don't have to transpose and conjugate $M$, and *now* we have to divide through by N:"
   ]
  },
  {
   "cell_type": "code",
   "execution_count": null,
   "id": "a70e6897",
   "metadata": {},
   "outputs": [],
   "source": [
    "def idft(amps):\n",
    "    N = len(amps)\n",
    "    M = synthesis_matrix(N)\n",
    "    ys = M.dot(amps) / N\n",
    "    return ys"
   ]
  },
  {
   "cell_type": "markdown",
   "id": "51ad7932",
   "metadata": {},
   "source": [
    "Finally, we can confirm that `dft(idft(amps))` yields `amps`."
   ]
  },
  {
   "cell_type": "code",
   "execution_count": null,
   "id": "f102b964",
   "metadata": {},
   "outputs": [],
   "source": [
    "ys = idft(amps)\n",
    "dft(ys)\n",
    "[ 0.60+0.j  0.25+0.j  0.10-0.j  0.05-0.j]"
   ]
  },
  {
   "cell_type": "markdown",
   "id": "878c4c23",
   "metadata": {},
   "source": [
    "If I could go back in time, I might change the definition of DFT so it divides by $N$ and the inverse DFT doesn't.\n",
    "That would be more consistent with my presentation of the synthesis and analysis problems.\n",
    "\n",
    "Or I might change the definition so that both operations divide through by $\\sqrt{N}$.\n",
    "Then the DFT and inverse DFT would be more symmetric.\n",
    "\n",
    "But I can't go back in time (yet!), so we're stuck with a slightly weird convention.\n",
    "For practical purposes it doesn't really matter.\n",
    "\n",
    "## The DFT is periodic\n",
    "\n",
    "In this chapter I presented the DFT in the form of matrix multiplication.\n",
    "We compute the synthesis matrix, $M$, and the analysis matrix, $M^*$.\n",
    "When we multiply $M^{*}$ by the wave array, $y$, each element of the result is the product of a row from $M^*$ and $y$, which we can write in the form of a summation: $$DFT(y)[k] = \\sum_n y[n] \\exp(-2 \\pi i n k / N)$$ where $k$ is an index of frequency from $0$ to $N-1$ and $n$ is an index of time from $0$ to $N-1$.\n",
    "So $DFT(y)[k]$ is the $k$th element of the DFT of $y$.\n",
    "\n",
    "Normally we evaluate this summation for $N$ values of $k$, running from 0 to $N-1$.\n",
    "We *could* evaluate it for other values of $k$, but there is no point, because they start to repeat.\n",
    "That is, the value at $k$ is the same as the value at $k+N$ or $k+2N$ or $k-N$, etc.\n",
    "\n",
    "We can see that mathematically by plugging $k+N$ into the summation: $$DFT(y)[k+N] = \\sum_n y[n] \\exp(-2 \\pi i n (k+N) / N)$$ Since there is a sum in the exponent, we can break it into two parts: $$DFT(y)[k+N] = \\sum_n y[n] \\exp(-2 \\pi i n k / N)  \\exp(-2 \\pi i n N / N)$$ In the second term, the exponent is always an integer multiple of $2 \\pi$, so the result is always 1, and we can drop it: $$DFT(y)[k+N] = \\sum_n y[n] \\exp(-2 \\pi i n k / N)$$ And we can see that this summation is equivalent to $DFT(y)[k]$.\n",
    "So the DFT is periodic, with period $N$.\n",
    "You will need this result for one of the exercises below, which asks you to implement the Fast Fourier Transform (FFT).\n",
    "\n",
    "As an aside, writing the DFT in the form of a summation provides an insight into how it works.\n",
    "If you review the diagram in Section [\\[synthesis\\]](#synthesis){reference-type=\"ref\" reference=\"synthesis\"}, you'll see that each column of the synthesis matrix is a signal evaluated at a sequence of times.\n",
    "The analysis matrix is the (conjugate) transpose of the synthesis matrix, so each *row* is a signal evaluated at a sequence of times.\n",
    "\n",
    "Therefore, each summation is the correlation of $y$ with one of the signals in the array (see Section [\\[dotproduct\\]](#dotproduct){reference-type=\"ref\" reference=\"dotproduct\"}).\n",
    "That is, each element of the DFT is a correlation that quantifies the similarity of the wave array, $y$, and a complex exponential at a particular frequency.\n",
    "\n",
    "## DFT of real signals\n",
    "\n",
    "![DFT of a 500 Hz sawtooth signal sampled at 10 kHz.](figs/dft3.pdf){height=\"2.5in\"}\n",
    "\n",
    "The Spectrum class in `thinkdsp` is based on `np.fft.rfft`, which computes the \"real DFT\"; that is, it works with real signals.\n",
    "But the DFT as presented in this chapter is more general than that; it works with complex signals.\n",
    "\n",
    "So what happens when we apply the \"full DFT\" to a real signal? Let's look at an example:"
   ]
  },
  {
   "cell_type": "code",
   "execution_count": null,
   "id": "c35b9143",
   "metadata": {},
   "outputs": [],
   "source": [
    "signal = thinkdsp.SawtoothSignal(freq=500)\n",
    "wave = signal.make_wave(duration=0.1, framerate=10000)\n",
    "hs = dft(wave.ys)\n",
    "amps = np.absolute(hs)"
   ]
  },
  {
   "cell_type": "markdown",
   "id": "91b42bb4",
   "metadata": {},
   "source": [
    "This code makes a sawtooth wave with frequency 500 Hz, sampled at framerate 10 kHz.\n",
    "`hs` contains the complex DFT of the wave; `amps` contains the amplitude at each frequency.\n",
    "But what frequency do these amplitudes correspond to? If we look at the body of `dft`, we see:"
   ]
  },
  {
   "cell_type": "code",
   "execution_count": null,
   "id": "36fc7b93",
   "metadata": {},
   "outputs": [],
   "source": [
    "fs = np.arange(N)"
   ]
  },
  {
   "cell_type": "markdown",
   "id": "8e426c6a",
   "metadata": {},
   "source": [
    "It's tempting to think that these values are the right frequencies.\n",
    "The problem is that `dft` doesn't know the sampling rate.\n",
    "The DFT assumes that the duration of the wave is 1 time unit, so it thinks the sampling rate is $N$ per time unit.\n",
    "In order to interpret the frequencies, we have to convert from these arbitrary time units back to seconds, like this:"
   ]
  },
  {
   "cell_type": "code",
   "execution_count": null,
   "id": "bb0b14f7",
   "metadata": {},
   "outputs": [],
   "source": [
    "fs = np.arange(N) * framerate / N"
   ]
  },
  {
   "cell_type": "markdown",
   "id": "0f8e3dbc",
   "metadata": {},
   "source": [
    "With this change, the range of frequencies is from 0 to the actual framerate, 10 kHz.\n",
    "Now we can plot the spectrum:"
   ]
  },
  {
   "cell_type": "code",
   "execution_count": null,
   "id": "0f9a6cca",
   "metadata": {},
   "outputs": [],
   "source": [
    "plt.plot(fs, amps)"
   ]
  },
  {
   "cell_type": "markdown",
   "id": "f3e4af3d",
   "metadata": {},
   "source": [
    "Figure [\\[fig.dft3\\]](#fig.dft3){reference-type=\"ref\" reference=\"fig.dft3\"} shows the amplitude of the signal for each frequency component from 0 to 10 kHz.\n",
    "The left half of the figure is what we should expect: the dominant frequency is at 500 Hz, with harmonics dropping off like $1/f$.\n",
    "\n",
    "But the right half of the figure is a surprise.\n",
    "Past 5000 Hz, the amplitude of the harmonics start growing again, peaking at 9500 Hz. What's going on?\n",
    "\n",
    "The answer: aliasing.\n",
    "Remember that with framerate 10000 Hz, the folding frequency is 5000 Hz. As we saw in Section [\\[aliasing\\]](#aliasing){reference-type=\"ref\" reference=\"aliasing\"}, a component at 5500 Hz is indistinguishable from a component at 4500 Hz. When we evaluate the DFT at 5500 Hz, we get the same value as at 4500 Hz. Similarly, the value at 6000 Hz is the same as the one at 4000 Hz, and so on.\n",
    "\n",
    "The DFT of a real signal is symmetric around the folding frequency.\n",
    "Since there is no additional information past this point, we can save time by evaluating only the first half of the DFT, and that's exactly what `np.fft.rfft` does.\n",
    "\n",
    "## Exercises\n",
    "\n",
    "Solutions to these exercises are in `chap07soln.ipynb`.\n",
    "\n",
    "### Exercise The notebook for this chapter, `chap07.ipynb`, contains additional examples and explanations.\n",
    "Read through it and run the code.\n",
    "\n",
    "\n",
    "### Exercise In this chapter, I showed how we can express the DFT and inverse DFT as matrix multiplications.\n",
    "These operations take time proportional to $N^2$, where $N$ is the length of the wave array.\n",
    "That is fast enough for many applications, but there is a faster algorithm, the Fast Fourier Transform (FFT), which takes time proportional to $N \\log N$.\n",
    "\n",
    "The key to the FFT is the Danielson-Lanczos lemma: $$DFT(y)[n] = DFT(e)[n] + exp(-2 \\pi i n / N) DFT(o)[n]$$ Where $DFT(y)[n]$ is the $n$th element of the DFT of $y$; $e$ is a wave array containing the even elements of $y$, and $o$ contains the odd elements of $y$.\n",
    "\n",
    "This lemma suggests a recursive algorithm for the DFT:\n",
    "\n",
    "1.  Given a wave array, $y$, split it into its even elements, $e$, and its odd elements, $o$.\n",
    "\n",
    "2.  Compute the DFT of $e$ and $o$ by making recursive calls.\n",
    "\n",
    "3.  Compute $DFT(y)$ for each value of $n$ using the Danielson-Lanczos lemma.\n",
    "\n",
    "For the base case of this recursion, you could wait until the length of $y$ is 1. In that case, $DFT(y) = y$. Or if the length of $y$ is sufficiently small, you could compute its DFT by matrix multiplication, possibly using a precomputed matrix.\n",
    "\n",
    "Hint: I suggest you implement this algorithm incrementally by starting with a version that is not truly recursive.\n",
    "In Step 2, instead of making a recursive call, use `dft`, as defined by Section [\\[dftsection\\]](#dftsection){reference-type=\"ref\" reference=\"dftsection\"}, or `np.fft.fft`.\n",
    "Get Step 3 working, and confirm that the results are consistent with the other implementations.\n",
    "Then add a base case and confirm that it works.\n",
    "Finally, replace Step 2 with recursive calls.\n",
    "\n",
    "One more hint: Remember that the DFT is periodic; you might find ` np.tile` useful.\n",
    "\n",
    "You can read more about the FFT at <https://en.wikipedia.org/wiki/Fast_Fourier_transform>.\n"
   ]
  },
  {
   "cell_type": "markdown",
   "id": "069ef6c8",
   "metadata": {},
   "source": [
    "## ThinkDSP\n",
    "\n",
    "This notebook contains solutions to exercises in Chapter 7: Discrete Fourier Transform\n",
    "\n",
    "Copyright 2015 Allen Downey\n",
    "\n",
    "License: [Creative Commons Attribution 4.0 International](http://creativecommons.org/licenses/by/4.0/)"
   ]
  },
  {
   "cell_type": "code",
   "execution_count": 1,
   "id": "e5540ce5",
   "metadata": {},
   "outputs": [],
   "source": [
    "import numpy as np\n",
    "PI2 = 2 * np.pi"
   ]
  },
  {
   "cell_type": "markdown",
   "id": "1c067259",
   "metadata": {},
   "source": [
    "## Exercise 1\n",
    "\n",
    "In this chapter, I showed how we can express the DFT and inverse DFT as matrix multiplications.\n",
    "These operations take time proportional to $N^2$, where $N$ is the length of the wave array.\n",
    "That is fast enough for many applications, but there is a faster algorithm, the Fast Fourier Transform (FFT), which takes time proportional to $N \\log N$.\n",
    "\n",
    "The key to the FFT is the Danielson-Lanczos lemma:\n",
    "\n",
    "$DFT(y)[n] = DFT(e)[n] + \\exp(-2 \\pi i n / N) DFT(o)[n]$\n",
    "\n",
    "Where $ DFT(y)[n]$ is the $n$th element of the DFT of $y$; $e$ is the even elements of $y$, and $o$ is the odd elements of $y$.\n",
    "\n",
    "This lemma suggests a recursive algorithm for the DFT:\n",
    "\n",
    "1. Given a wave array, $y$, split it into its even elements, $e$, and its odd elements, $o$.\n",
    "\n",
    "2. Compute the DFT of $e$ and $o$ by making recursive calls.\n",
    "\n",
    "3. Compute $DFT(y)$ for each value of $n$ using the Danielson-Lanczos lemma.\n",
    "\n",
    "For the base case of this recursion, you could wait until the length of $y$ is 1.  In that case, $DFT(y) = y$.  Or if the length of $y$ is sufficiently small, you could compute its DFT by matrix multiplication, possibly using a precomputed matrix.\n",
    "\n",
    "Hint: I suggest you implement this algorithm incrementally by starting with a version that is not truly recursive.\n",
    "In Step 2, instead of making a recursive call, use `dft` or `np.fft.fft`.\n",
    "Get Step 3 working, and confirm that the results are consistent with the other implementations.\n",
    "Then add a base case and confirm that it works.\n",
    "Finally, replace Step 2 with recursive calls.\n",
    "\n",
    "One more hint: Remember that the DFT is periodic; you might find `np.tile` useful.\n",
    "\n",
    "You can read more about the FFT at https://en.wikipedia.org/wiki/Fast_Fourier_transform."
   ]
  },
  {
   "cell_type": "markdown",
   "id": "3d1d0b32",
   "metadata": {},
   "source": [
    "As the test case, I'll start with a small real signal and compute its FFT:"
   ]
  },
  {
   "cell_type": "code",
   "execution_count": 2,
   "id": "fec10c44",
   "metadata": {
    "jupyter": {
     "outputs_hidden": false
    }
   },
   "outputs": [
    {
     "name": "stdout",
     "output_type": "stream",
     "text": [
      "[ 0.2+0.j  -1.2-0.2j  0.2+0.j  -1.2+0.2j]\n"
     ]
    }
   ],
   "source": [
    "ys = [-0.5, 0.1, 0.7, -0.1]\n",
    "hs = np.fft.fft(ys)\n",
    "print(hs)"
   ]
  },
  {
   "cell_type": "markdown",
   "id": "9f62c63c",
   "metadata": {},
   "source": [
    "Here's my implementation of DFT from the book:"
   ]
  },
  {
   "cell_type": "code",
   "execution_count": 3,
   "id": "922216bb",
   "metadata": {
    "jupyter": {
     "outputs_hidden": false
    }
   },
   "outputs": [],
   "source": [
    "def dft(ys):\n",
    "    N = len(ys)\n",
    "    ts = np.arange(N) / N\n",
    "    freqs = np.arange(N)\n",
    "    args = np.outer(ts, freqs)\n",
    "    M = np.exp(1j * PI2 * args)\n",
    "    amps = M.conj().transpose().dot(ys)\n",
    "    return amps"
   ]
  },
  {
   "cell_type": "markdown",
   "id": "d66e75b4",
   "metadata": {},
   "source": [
    "We can confirm that this implementation gets the same result."
   ]
  },
  {
   "cell_type": "code",
   "execution_count": 4,
   "id": "a35d40aa",
   "metadata": {
    "jupyter": {
     "outputs_hidden": false
    }
   },
   "outputs": [
    {
     "data": {
      "text/plain": [
       "5.864775846765962e-16"
      ]
     },
     "execution_count": 4,
     "metadata": {},
     "output_type": "execute_result"
    }
   ],
   "source": [
    "hs2 = dft(ys)\n",
    "np.sum(np.abs(hs - hs2))"
   ]
  },
  {
   "cell_type": "markdown",
   "id": "4b7c5bef",
   "metadata": {},
   "source": [
    "As a step toward making a recursive FFT, I'll start with a version that splits the input array and uses np.fft.fft to compute the FFT of the halves."
   ]
  },
  {
   "cell_type": "code",
   "execution_count": 5,
   "id": "c82e5608",
   "metadata": {
    "jupyter": {
     "outputs_hidden": false
    }
   },
   "outputs": [],
   "source": [
    "def fft_norec(ys):\n",
    "    N = len(ys)\n",
    "    He = np.fft.fft(ys[::2])\n",
    "    Ho = np.fft.fft(ys[1::2])\n",
    "    \n",
    "    ns = np.arange(N)\n",
    "    W = np.exp(-1j * PI2 * ns / N)\n",
    "    \n",
    "    return np.tile(He, 2) + W * np.tile(Ho, 2)"
   ]
  },
  {
   "cell_type": "markdown",
   "id": "0eaf3611",
   "metadata": {},
   "source": [
    "And we get the same results:"
   ]
  },
  {
   "cell_type": "code",
   "execution_count": 6,
   "id": "d9c990e3",
   "metadata": {
    "jupyter": {
     "outputs_hidden": false
    }
   },
   "outputs": [
    {
     "data": {
      "text/plain": [
       "0.0"
      ]
     },
     "execution_count": 6,
     "metadata": {},
     "output_type": "execute_result"
    }
   ],
   "source": [
    "hs3 = fft_norec(ys)\n",
    "np.sum(np.abs(hs - hs3))"
   ]
  },
  {
   "cell_type": "markdown",
   "id": "50f89273",
   "metadata": {},
   "source": [
    "Finally, we can replace `np.fft.fft` with recursive calls, and add a base case:"
   ]
  },
  {
   "cell_type": "code",
   "execution_count": 7,
   "id": "2c1afb5d",
   "metadata": {
    "jupyter": {
     "outputs_hidden": false
    }
   },
   "outputs": [],
   "source": [
    "def fft(ys):\n",
    "    N = len(ys)\n",
    "    if N == 1:\n",
    "        return ys\n",
    "    \n",
    "    He = fft(ys[::2])\n",
    "    Ho = fft(ys[1::2])\n",
    "    \n",
    "    ns = np.arange(N)\n",
    "    W = np.exp(-1j * PI2 * ns / N)\n",
    "    \n",
    "    return np.tile(He, 2) + W * np.tile(Ho, 2)"
   ]
  },
  {
   "cell_type": "markdown",
   "id": "b8bae767",
   "metadata": {},
   "source": [
    "And we get the same results:"
   ]
  },
  {
   "cell_type": "code",
   "execution_count": 8,
   "id": "9b79e63c",
   "metadata": {
    "jupyter": {
     "outputs_hidden": false
    }
   },
   "outputs": [
    {
     "data": {
      "text/plain": [
       "1.6653345369377348e-16"
      ]
     },
     "execution_count": 8,
     "metadata": {},
     "output_type": "execute_result"
    }
   ],
   "source": [
    "hs4 = fft(ys)\n",
    "np.sum(np.abs(hs - hs4))"
   ]
  },
  {
   "cell_type": "markdown",
   "id": "e38d09d9",
   "metadata": {},
   "source": [
    "This implementation of FFT takes time proportional to $n \\log n$.  It also takes space proportional to $n \\log n$, and it wastes some time making and copying arrays.\n",
    "It can be improved to run \"in place\"; in that case, it requires no additional space, and spends less time on overhead."
   ]
  },
  {
   "cell_type": "code",
   "execution_count": null,
   "id": "85bdca64",
   "metadata": {
    "collapsed": true,
    "jupyter": {
     "outputs_hidden": true
    }
   },
   "outputs": [],
   "source": []
  }
 ],
 "metadata": {},
 "nbformat": 4,
 "nbformat_minor": 5
}
